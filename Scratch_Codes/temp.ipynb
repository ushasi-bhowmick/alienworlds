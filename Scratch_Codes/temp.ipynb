{
 "cells": [
  {
   "cell_type": "code",
   "execution_count": 2,
   "metadata": {},
   "outputs": [
    {
     "name": "stderr",
     "output_type": "stream",
     "text": [
      "2022-08-16 19:02:39.465939: W tensorflow/stream_executor/platform/default/dso_loader.cc:64] Could not load dynamic library 'libcudart.so.11.0'; dlerror: libcudart.so.11.0: cannot open shared object file: No such file or directory\n",
      "2022-08-16 19:02:39.465977: I tensorflow/stream_executor/cuda/cudart_stub.cc:29] Ignore above cudart dlerror if you do not have a GPU set up on your machine.\n"
     ]
    }
   ],
   "source": [
    "import numpy as np\n",
    "import matplotlib.pyplot as plt\n",
    "from scipy.optimize import root_scalar\n",
    "import pandas as pd\n",
    "#import aliensims as dy\n",
    "import os\n",
    "from scipy.interpolate import interp1d\n",
    "from astropy.io import ascii, fits\n",
    "import sys\n",
    "# sys.path.append('C:\\\\Users\\\\Hp\\\\Documents\\FYProj\\\\alienworlds\\\\Data_Processing')\n",
    "sys.path.append('/home/ushasi/Documents/GitHub/alienworlds/Data_Processing')\n",
    "import GetLightcurves as gc\n",
    "#from transit import occultnonlin, occultquad\n",
    "#import ellc\n",
    "import tensorflow as tf"
   ]
  },
  {
   "cell_type": "code",
   "execution_count": 2,
   "metadata": {},
   "outputs": [],
   "source": [
    "def sort_data_centred(hdu, hduno=1, crop=1.0, phase_length=2, binsize='None'):\n",
    "    \"\"\" gives us a phase-folded, sorted, centered LC from a fits file \n",
    "\n",
    "    :param hdu: obtained from fits.open(file)\n",
    "    :param hduno: the TCE number in the file\n",
    "    :param crop: trim the edges of the LC. crop=1 means any phase value greater than 1 or less    than -1 is discarded. If set to 'lv' returns the lightcurve in local view.\n",
    "    :param phase_length: length of the phase interval. 2 means phase of -1,1, 1 means phase interval of -0.5,0.5\n",
    "    :binsize: If set to 'None' no binning takes place. Else, it is binned to the number of pixels\n",
    "    specified.\n",
    "\n",
    "    returns - \n",
    "    a pandas dataframe containing details of stuff,\n",
    "    transit period(in days),\n",
    "    transit duration(in days),\n",
    "    noise, in the form of standard deviation\n",
    "\n",
    "    \"\"\"\n",
    "    \n",
    "    flux = []\n",
    "    phase = []\n",
    "    try: \n",
    "        tp = hdu[hduno].header['TPERIOD']\n",
    "        td = hdu[hduno].header['TDUR']/24\n",
    "    except: return(0,0,0,0)\n",
    "    for ph, fl in zip(hdu[hduno].data['PHASE'],hdu[hduno].data['LC_DETREND']):\n",
    "        if not np.isnan(fl):\n",
    "            flux.append(fl)\n",
    "            phase.append(ph*phase_length/tp)\n",
    "    dfunb = pd.DataFrame(list(zip(phase, flux)),columns=['phase', 'flux'])\n",
    "    df=dfunb.sort_values('phase',axis=0,ascending=True)\n",
    "\n",
    "    if(crop=='lv'):\n",
    "        df=df[(df.phase>-phase_length*td/tp) & (df.phase<phase_length*td/tp)] \n",
    "        \n",
    "    else: df=df[(df.phase>-crop) & (df.phase<crop)]\n",
    "\n",
    "    if(binsize!='None'):\n",
    "        bins=np.linspace(min(df['phase']),max(df['phase']),binsize)\n",
    "        groups = df.groupby(np.digitize(df['phase'], bins))\n",
    "        df=groups.median()\n",
    "        \n",
    "        if(len(df)<binsize):\n",
    "            func = interp1d(df['phase'], df['flux'])\n",
    "            ph = np.linspace(min(df['phase']), max(df['phase']), binsize)\n",
    "            fl = func(ph)\n",
    "            df = pd.DataFrame(zip(ph, fl), columns=['phase','flux'])\n",
    "            \n",
    "\n",
    "    df_noise = df[(df.phase<-3*td/tp) | (df.phase>3*td/tp)]\n",
    "    noise = np.std(np.array(df_noise['flux']))\n",
    "    return(df, hdu[hduno].header['TPERIOD'], hdu[hduno].header['TDUR']/24, noise)"
   ]
  },
  {
   "cell_type": "code",
   "execution_count": 9,
   "metadata": {},
   "outputs": [
    {
     "name": "stdout",
     "output_type": "stream",
     "text": [
      "3\n",
      "0.04030617678371552 9.026181933947178\n"
     ]
    },
    {
     "data": {
      "text/plain": [
       "[<matplotlib.lines.Line2D at 0x7fc9ed537160>]"
      ]
     },
     "execution_count": 9,
     "metadata": {},
     "output_type": "execute_result"
    },
    {
     "data": {
      "image/png": "[encoded data removed]",
      "text/plain": [
       "<Figure size 432x288 with 1 Axes>"
      ]
     },
     "metadata": {
      "needs_background": "light"
     },
     "output_type": "display_data"
    }
   ],
   "source": [
    "path = '/media/ushasi/Elements/Masters_Project_Data/TESS/sector1/'\n",
    "entries = os.listdir(path)\n",
    "\n",
    "hdu = fits.open(path+entries[1])\n",
    "print(len(hdu))\n",
    "# print(hdu[1].header)\n",
    "df,tp, tf, _ = sort_data_centred(hdu,1,1,1,2000)\n",
    "print(tf, tp)\n",
    "plt.plot(np.array(df['phase']), np.array(df['flux']))\n",
    "# print(len(df))\n",
    "# plt.xlim(-0.005,0.005)\n",
    "# print(print(np.array(df['flux'])[50:100]))"
   ]
  },
  {
   "cell_type": "code",
   "execution_count": 15,
   "metadata": {},
   "outputs": [
    {
     "name": "stdout",
     "output_type": "stream",
     "text": [
      "True\n",
      "0\n"
     ]
    }
   ],
   "source": [
    "cr = (1,0)\n",
    "\n",
    "print(type(cr)==tuple)\n",
    "\n",
    "print(cr[1])"
   ]
  },
  {
   "cell_type": "code",
   "execution_count": 1,
   "metadata": {},
   "outputs": [
    {
     "ename": "NameError",
     "evalue": "name 'tf' is not defined",
     "output_type": "error",
     "traceback": [
      "\u001b[0;31m---------------------------------------------------------------------------\u001b[0m",
      "\u001b[0;31mNameError\u001b[0m                                 Traceback (most recent call last)",
      "\u001b[1;32m/home/ushasi/Documents/GitHub/alienworlds/Scratch_Codes/temp.ipynb Cell 5'\u001b[0m in \u001b[0;36m<cell line: 3>\u001b[0;34m()\u001b[0m\n\u001b[1;32m      <a href='vscode-notebook-cell:/home/ushasi/Documents/GitHub/alienworlds/Scratch_Codes/temp.ipynb#ch0000004?line=0'>1</a>\u001b[0m cols \u001b[39m=\u001b[39m [\u001b[39m'\u001b[39m\u001b[39mflux_loc\u001b[39m\u001b[39m'\u001b[39m, \u001b[39m'\u001b[39m\u001b[39mflux_glob\u001b[39m\u001b[39m'\u001b[39m, \u001b[39m'\u001b[39m\u001b[39mid\u001b[39m\u001b[39m'\u001b[39m, \u001b[39m'\u001b[39m\u001b[39mpl_no\u001b[39m\u001b[39m'\u001b[39m, \u001b[39m'\u001b[39m\u001b[39mtperiod\u001b[39m\u001b[39m'\u001b[39m, \u001b[39m'\u001b[39m\u001b[39mtdur\u001b[39m\u001b[39m'\u001b[39m]\n\u001b[1;32m      <a href='vscode-notebook-cell:/home/ushasi/Documents/GitHub/alienworlds/Scratch_Codes/temp.ipynb#ch0000004?line=1'>2</a>\u001b[0m datatype \u001b[39m=\u001b[39m [\u001b[39m'\u001b[39m\u001b[39mar\u001b[39m\u001b[39m'\u001b[39m, \u001b[39m'\u001b[39m\u001b[39mar\u001b[39m\u001b[39m'\u001b[39m, \u001b[39m'\u001b[39m\u001b[39mb\u001b[39m\u001b[39m'\u001b[39m, \u001b[39m'\u001b[39m\u001b[39mi\u001b[39m\u001b[39m'\u001b[39m, \u001b[39m'\u001b[39m\u001b[39mfl\u001b[39m\u001b[39m'\u001b[39m, \u001b[39m'\u001b[39m\u001b[39mfl\u001b[39m\u001b[39m'\u001b[39m]\n\u001b[0;32m----> <a href='vscode-notebook-cell:/home/ushasi/Documents/GitHub/alienworlds/Scratch_Codes/temp.ipynb#ch0000004?line=2'>3</a>\u001b[0m fintype \u001b[39m=\u001b[39m [tf\u001b[39m.\u001b[39mfloat32, tf\u001b[39m.\u001b[39mfloat32, tf\u001b[39m.\u001b[39mstring, tf\u001b[39m.\u001b[39mint8, tf\u001b[39m.\u001b[39mfloat32, tf\u001b[39m.\u001b[39mfloat32]\n\u001b[1;32m      <a href='vscode-notebook-cell:/home/ushasi/Documents/GitHub/alienworlds/Scratch_Codes/temp.ipynb#ch0000004?line=3'>4</a>\u001b[0m fl_l, fl_g, \u001b[39mid\u001b[39m, plno, tp, td \u001b[39m=\u001b[39m gc\u001b[39m.\u001b[39mread_tfr_record(\u001b[39m'\u001b[39m\u001b[39m../Data_Processing/testtrainsample\u001b[39m\u001b[39m'\u001b[39m, cols, datatype, fintype)\n",
      "\u001b[0;31mNameError\u001b[0m: name 'tf' is not defined"
     ]
    }
   ],
   "source": [
    "cols = ['flux_loc', 'flux_glob', 'id', 'pl_no', 'tperiod', 'tdur']\n",
    "datatype = ['ar', 'ar', 'b', 'i', 'fl', 'fl']\n",
    "fintype = [tf.float32, tf.float32, tf.string, tf.int8, tf.float32, tf.float32]\n",
    "fl_l, fl_g, id, plno, tp, td = gc.read_tfr_record('../Data_Processing/testtrainsample', cols, datatype, fintype)"
   ]
  },
  {
   "cell_type": "code",
   "execution_count": 3,
   "metadata": {},
   "outputs": [
    {
     "name": "stderr",
     "output_type": "stream",
     "text": [
      "2022-08-16 19:02:42.923530: W tensorflow/stream_executor/platform/default/dso_loader.cc:64] Could not load dynamic library 'libcuda.so.1'; dlerror: libcuda.so.1: cannot open shared object file: No such file or directory\n",
      "2022-08-16 19:02:42.923567: W tensorflow/stream_executor/cuda/cuda_driver.cc:269] failed call to cuInit: UNKNOWN ERROR (303)\n",
      "2022-08-16 19:02:42.923589: I tensorflow/stream_executor/cuda/cuda_diagnostics.cc:156] kernel driver does not appear to be running on this host (ushasi-HP-Pavilion-Notebook): /proc/driver/nvidia/version does not exist\n",
      "2022-08-16 19:02:42.923914: I tensorflow/core/platform/cpu_feature_guard.cc:193] This TensorFlow binary is optimized with oneAPI Deep Neural Network Library (oneDNN) to use the following CPU instructions in performance-critical operations:  AVX2 FMA\n",
      "To enable them in other operations, rebuild TensorFlow with the appropriate compiler flags.\n"
     ]
    }
   ],
   "source": [
    "cols = [ 'flux', 'id']\n",
    "datatype = ['ar', 'b']\n",
    "fintype = [tf.float32, tf.string]\n",
    "fl, id = gc.read_tfr_record('../Data_Processing/testtrainsample', cols, datatype, fintype)"
   ]
  },
  {
   "cell_type": "code",
   "execution_count": 4,
   "metadata": {},
   "outputs": [
    {
     "name": "stdout",
     "output_type": "stream",
     "text": [
      "(50, 4, 4000)\n"
     ]
    }
   ],
   "source": [
    "print(np.array(fl).shape)\n",
    "# print(gc.byte_arr_to_np(id))"
   ]
  },
  {
   "cell_type": "code",
   "execution_count": null,
   "metadata": {},
   "outputs": [],
   "source": [
    "rv_entry=ascii.read('../../Catalogs/robovetter_label.dat')\n",
    "rv_pl=np.array(rv_entry['tce_plnt_num'])\n",
    "rv_label = np.array(rv_entry['label'])\n",
    "rv_kepid=[('0000'+str(el)[:9])[-9:] for el in rv_entry['kepid']]\n",
    "u1=np.array(rv_entry['u1'])\n",
    "u2=np.array(rv_entry['u2'])\n",
    "b=np.array(rv_entry['b'])\n",
    "rpl=np.array(rv_entry['rpl_rstar'])\n",
    "rorb=np.array(rv_entry['rorb_rstar'])"
   ]
  },
  {
   "cell_type": "code",
   "execution_count": null,
   "metadata": {},
   "outputs": [],
   "source": [
    "print(np.mean(rpl))"
   ]
  },
  {
   "cell_type": "code",
   "execution_count": null,
   "metadata": {},
   "outputs": [],
   "source": [
    "tab = ascii.read('../../Catalogs/ex_TCE_extra.tab')\n",
    "print(np.mean(tab['koi_model_snr']))\n",
    "val, bin, _ = plt.hist(tab['koi_model_snr'], bins=1000)\n",
    "print(bin[np.argmax(val)])\n",
    "print(val[:10], bin[:10])\n",
    "plt.show\n"
   ]
  },
  {
   "cell_type": "code",
   "execution_count": null,
   "metadata": {},
   "outputs": [],
   "source": [
    "hdu = fits.open('E:\\\\Masters_Project_Data\\\\TESS\\\\tess2021233042500-s0042-s0043-0000000090768237-00523_dvt.fits')\n",
    "print(len(hdu))\n",
    "print(hdu[1].header)"
   ]
  },
  {
   "cell_type": "code",
   "execution_count": null,
   "metadata": {},
   "outputs": [],
   "source": [
    "plt.plot(hdu[1].data['TIME'],hdu[1].data['LC_DETREND'])"
   ]
  },
  {
   "cell_type": "code",
   "execution_count": null,
   "metadata": {},
   "outputs": [],
   "source": [
    "#finding out mean noise layers in kepler... phase folded and unfolded\n",
    "FILEPATH=\"E:\\\\Masters_Project_Data\\\\alienworlds_fps\\\\\"\n",
    "entries=os.listdir(FILEPATH)\n",
    "x=0\n",
    "noise=[]\n",
    "for el in entries:\n",
    "    hdu = fits.open(FILEPATH+el)\n",
    "    lc = [c for c in hdu[1].data['LC_DETREND'] if not np.isnan(c)]\n",
    "    #print(len(lc))\n",
    "    noise.append(np.std(lc[:100]))\n",
    "#print(noise)\n",
    "    "
   ]
  },
  {
   "cell_type": "code",
   "execution_count": null,
   "metadata": {},
   "outputs": [],
   "source": [
    "print(len(noise))\n",
    "val, bin, _ = plt.hist(noise, bins=1000)\n",
    "print(bin[np.argmax(val)])\n",
    "print(val[:10], bin[:10])\n",
    "print(np.mean(noise))"
   ]
  },
  {
   "cell_type": "code",
   "execution_count": null,
   "metadata": {},
   "outputs": [],
   "source": [
    "#here's the trend in rorb...\n",
    "filepath = '../Computation_Directory/Rpl_50.0/'\n",
    "entries = os.listdir(filepath)\n",
    "fig, ax = plt.subplots(1,1,figsize = (7,5))\n",
    "ax.set_title('Variation of LC with Orbit')\n",
    "ax.set_xlabel('Phase')\n",
    "ax.set_ylabel('Flux')\n",
    "for entry in entries:\n",
    "    df = pd.read_csv(filepath+entry)\n",
    "    ax.plot(np.array(df['frame']), np.array(df['u1_0.2_u2_0.2_b_0.0']), label=entry[8:-4])\n",
    "ax.set_xscale('log')\n",
    "ax.legend()\n",
    "plt.savefig('rorbdemo2.png')\n",
    "plt.show"
   ]
  },
  {
   "cell_type": "code",
   "execution_count": null,
   "metadata": {},
   "outputs": [],
   "source": [
    "path='C:\\\\Users\\\\Hp\\Desktop\\\\temp_finallist\\\\manda\\\\'\n",
    "path='C:\\\\Users\\\\Hp\\Documents\\\\FYProj\\processed_directories\\go_circles\\\\new_final_fits\\\\'\n",
    "entry = os.listdir(path)\n",
    "\n",
    "for el in entry:\n",
    "    kid=np.where(np.array(rv_kepid)==str(el[-15:-6]))[0]\n",
    "    if(len(kid)==0): \n",
    "        #print(\"not in catalog\",el[-15:-6])\n",
    "        continue\n",
    "    kidf=[x for x in kid if(str(rv_pl[x])==str(el[-5:-4]))]\n",
    "    if(len(kidf)==0): \n",
    "        #print(\"not in catalog\",el[-5:-4])\n",
    "        continue\n",
    "    if(rv_label[kidf[0]]=='CAN'):  \n",
    "        print(kidf,rv_label[kidf[0]],el) "
   ]
  },
  {
   "cell_type": "code",
   "execution_count": null,
   "metadata": {},
   "outputs": [],
   "source": [
    "print(ellc.lc.__doc__)"
   ]
  },
  {
   "cell_type": "code",
   "execution_count": null,
   "metadata": {},
   "outputs": [],
   "source": [
    "t = np.arange(-0.25,0.75, 0.001)\n",
    "spots_1 = [[30,180],[45,-45],[25,35],[0.2,0.8]]\n",
    "flux = ellc.lc(t,radius_1=0.5,radius_2=0.48,sbratio=0,incl=90,ld_1='quad',ldc_1=[0.2,0.02],\n",
    "shape_1='sphere', shape_2='sphere' )\n",
    "\n",
    "flux2 = ellc.lc(t,radius_1=0.5,radius_2=0.48,sbratio=0,incl=90,ld_1='quad',ldc_1=[0.2,0.02],\n",
    "shape_1='sphere', shape_2='love', hf_2=5 )\n",
    "\n",
    "# flux2 = ellc.lc(t,radius_1=0.3,radius_2=0.003,sbratio=0.1,incl=90,ld_1='quad',ldc_1=[0.9,0.9],\n",
    "# shape_1='sphere', shape_2='love', hf_1=4.5, hf_2=4.5, q=0.6)\n",
    "fig, ax = plt.subplots(2,1,figsize=(7,7))\n",
    "ax[0].set_title('Tidal Model:\\n Rpl=Rst')\n",
    "ax[1].set_title('Residual')\n",
    "ax[1].set_xlabel('Phase')\n",
    "ax[1].set_ylabel('Rigid-Fluid')\n",
    "ax[0].set_ylabel('Flux')\n",
    "ax[0].plot(t,flux,label='rigid')\n",
    "ax[0].plot(t,flux2, label='fluid')\n",
    "ax[0].legend()\n",
    "ax[1].plot(t,flux-flux2)\n",
    "\n",
    "#plt.xlim(-0.052,0.052)\n",
    "plt.savefig('tides2.png')\n",
    "plt.show()"
   ]
  },
  {
   "cell_type": "code",
   "execution_count": null,
   "metadata": {},
   "outputs": [],
   "source": [
    "plt.plot(t,flux-flux2)\n"
   ]
  },
  {
   "cell_type": "code",
   "execution_count": null,
   "metadata": {},
   "outputs": [],
   "source": [
    "def gausses(x, A1, m1, s1, A2, m2, s2):\n",
    "    y = A1*np.exp(-(x-m1)**2/(2*s1**2)) + A2*np.exp(-(x-m2)**2/(2*s2**2))\n",
    "    return(y)\n",
    "\n",
    "def lorz(x,A1,x0,g, A2, x02, g2):\n",
    "    y = A1 / (1*((x-x0)**2+(g/2)**2)) + A2 / (1*((x-x02)**2+(g2/2)**2))\n",
    "    return(y)\n",
    "\n",
    "def new_plar(ph,p,minus, plus,rorb):\n",
    "    u1 = (plus + minus)/2\n",
    "    u2 = (plus - minus)/2\n",
    "    znp = np.abs(rorb*np.sin(ph*np.pi))\n",
    "    a= occultquad(znp,p,[u1,u2])  \n",
    "    return(a -1) \n",
    "\n",
    "def new_plar_free(ph,p,u1,plus,rorb):\n",
    "    u2 = plus - u1\n",
    "    znp = np.abs(rorb*np.sin(ph*np.pi))\n",
    "    a= occultquad(znp,p,[u1,u2])  \n",
    "    return(a -1) \n",
    "\n",
    "def new_plar_free2(ph,p,u1,u2,rorb):\n",
    "    znp = np.abs(rorb*np.sin(ph*np.pi))\n",
    "    a= occultquad(znp,p,[u1,u2,])  \n",
    "    return(a -1) "
   ]
  },
  {
   "cell_type": "code",
   "execution_count": null,
   "metadata": {},
   "outputs": [],
   "source": [
    "df = np.loadtxt('2d3d_0.1R_circ.csv')\n",
    "frm = df[:,0]\n",
    "d2 = df[:,1]\n",
    "d3 = df[:,2]\n",
    "#plt.plot(frm, d3-1)\n",
    "plt.plot(frm, d3-1-new_plar_free2(frm/np.pi, 0.1, 0.0, 0.0, 2))\n",
    "outdf = pd.DataFrame(zip(frm, d3-1, new_plar_free2(frm/np.pi, 0.1, 0.0, 0.0, 2)), columns=[\"frame\",\"sim\",\"model\"])\n",
    "outdf.to_csv('0.1R_circ_com.csv', sep=\",\", index=False)"
   ]
  },
  {
   "cell_type": "code",
   "execution_count": null,
   "metadata": {},
   "outputs": [],
   "source": [
    "sim = dy.Simulator(100, 10000, 300, np.pi, 0,0)\n",
    "\n",
    "#meg1 = dy.Megastructure(200, True, 20, ecc=0, o_vel=3, ph_offset=np.pi/3)\n",
    "meg1 = dy.Megastructure(200, True, 20, ecc=0, o_vel=1, ph_offset=0)\n",
    "# meg2 = dy.Megastructure(250, True, 10, ecc=0, o_vel=2,ph_offset=np.pi/2)\n",
    "#meg3 = dy.Megastructure(350, True, 25, ecc=0.5, o_vel=1, per_off=np.pi/2)\n",
    "sim.add_megs(meg1)\n",
    "# sim.add_megs(meg2)\n",
    "#sim.add_megs(meg3)\n",
    "\n",
    "netlc=[]\n",
    "\n",
    "for i in range(50):\n",
    "    sim.initialize()\n",
    "    sim.simulate_transit()\n",
    "    netlc.append(sim.lc)\n",
    "    \n",
    "lc = np.mean(np.array(netlc), axis=0)\n",
    "TA = dy.Transit_Animate(sim.road, sim.megs, lc, sim.frames)\n",
    "TA.go(True,'multiann_1.gif')\n"
   ]
  },
  {
   "cell_type": "code",
   "execution_count": null,
   "metadata": {},
   "outputs": [],
   "source": [
    "fig, ax = plt.subplots(1,1, figsize=(7,5))\n",
    "ax.set_title('Multi Planet LC', size=16)\n",
    "ax.plot(sim.frames/np.pi,lc, color=\"#503f3f\")\n",
    "ax.set_xlabel('Phase', size=13)\n",
    "ax.set_ylabel('Flux', size=13)\n",
    "plt.savefig('fprez_multipl.png')\n"
   ]
  },
  {
   "cell_type": "code",
   "execution_count": null,
   "metadata": {},
   "outputs": [],
   "source": [
    "##simple planet\n",
    "sim = dy.Simulator(100, 10000, 300, np.pi, limb_u1=0.0, limb_u2=0)\n",
    "\n",
    "#meg1 = dy.Megastructure(200, True, 20, isrot=True, incl=0, ecc=0.0, per_off=0)\n",
    "meg1 = dy.Megastructure(200, False, 20, isrot=True, incl=0, ecc=0.0, per_off=0)\n",
    "meg1.regular_polygons_2d(30,6)\n",
    "meg2 = dy.Megastructure(200, False, 20, isrot=True, incl=0, ecc=0.0, per_off=0, elevation=0.3)\n",
    "meg2.regular_polygons_2d(30,6)\n",
    "sim.add_megs(meg1)\n",
    "sim.add_megs(meg2)\n",
    "\n",
    "netlc=[]\n",
    "\n",
    "for i in range(50):\n",
    "    sim.initialize()\n",
    "    sim.simulate_transit()\n",
    "    netlc.append(sim.lc)\n",
    "    \n",
    "lc = np.mean(np.array(netlc), axis=0)\n",
    "TA = dy.Transit_Animate(sim.road, sim.megs, lc, sim.frames)\n",
    "TA.go(True,'singleann2d_hex.gif')\n"
   ]
  },
  {
   "cell_type": "code",
   "execution_count": null,
   "metadata": {},
   "outputs": [],
   "source": [
    "th = np.linspace(0,2*np.pi, 300)\n",
    "R = 1"
   ]
  },
  {
   "cell_type": "code",
   "execution_count": null,
   "metadata": {},
   "outputs": [],
   "source": [
    "store = pd.HDFStore('../../processed_directories/go_circles/analyse_circles/008110757_1')\n",
    "data = store['data']\n",
    "metadata = store.get_storer('data').attrs.metadata\n",
    "\n",
    "print(metadata)\n",
    "print(data)  "
   ]
  },
  {
   "cell_type": "code",
   "execution_count": null,
   "metadata": {},
   "outputs": [],
   "source": [
    "def Prob(x, z, u):\n",
    "    k=1-u/2\n",
    "    y = ((1-u)*x + u*x**2/2)/k -z\n",
    "    return(y)\n",
    "\n",
    "def Prob2(x, z, u):\n",
    "    k=(1-u)*R+u*np.pi*R/4\n",
    "    y = ((1-u)*x + u*x*np.sqrt(R**2-x**2)/2*R + u*R*np.arcsin(x/R)/2)/k -z\n",
    "    return(y)"
   ]
  },
  {
   "cell_type": "code",
   "execution_count": null,
   "metadata": {},
   "outputs": [],
   "source": [
    "sol = root_scalar(Prob2,args=(1,0.1),bracket=[0,R])\n",
    "plt.plot(np.linspace(0,1,200), Prob2(np.linspace(0,1,200), 0.2, 0.6))\n",
    "print(sol.root, np.sin(sol.root),sol.iterations)"
   ]
  },
  {
   "cell_type": "code",
   "execution_count": null,
   "metadata": {},
   "outputs": [],
   "source": [
    "ran_th=2*np.pi*np.random.rand(20000)\n",
    "temp_z =np.sqrt(np.random.rand(20000))\n",
    "#temp_z =0.9*np.ones(200)\n",
    "ths = []\n",
    "for el in temp_z:\n",
    "    sol = root_scalar(Prob2,args=(el,0.0),bracket=[0,R])\n",
    "    #print(el,sol.root)\n",
    "    ths.append(sol.root)\n",
    "\n",
    "ran_x = 10*np.asarray(ths)\n",
    "\n",
    "#print(ran_rad, len(ran_rad))"
   ]
  },
  {
   "cell_type": "code",
   "execution_count": null,
   "metadata": {},
   "outputs": [],
   "source": [
    "plt.figure(figsize=(5,5))\n",
    "#plt.plot(R*np.cos(th), R*np.sin(th))\n",
    "plt.scatter(ran_x*np.sin(ran_th), ran_x*np.cos(ran_th), s=2)\n",
    "#plt.scatter(ran_rad*np.cos(ran_th)*ran_x, ran_rad*np.sin(ran_th)*ran_x, s=2)"
   ]
  }
 ],
 "metadata": {
  "interpreter": {
   "hash": "11938c6bc6919ae2720b4d5011047913343b08a43b18698fd82dedb0d4417594"
  },
  "kernelspec": {
   "display_name": "Python 3.9.7 64-bit",
   "language": "python",
   "name": "python3"
  },
  "language_info": {
   "codemirror_mode": {
    "name": "ipython",
    "version": 3
   },
   "file_extension": ".py",
   "mimetype": "text/x-python",
   "name": "python",
   "nbconvert_exporter": "python",
   "pygments_lexer": "ipython3",
   "version": "3.8.10"
  },
  "orig_nbformat": 4
 },
 "nbformat": 4,
 "nbformat_minor": 2
}
