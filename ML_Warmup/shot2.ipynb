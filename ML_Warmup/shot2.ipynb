{
 "metadata": {
  "language_info": {
   "codemirror_mode": {
    "name": "ipython",
    "version": 3
   },
   "file_extension": ".py",
   "mimetype": "text/x-python",
   "name": "python",
   "nbconvert_exporter": "python",
   "pygments_lexer": "ipython3",
   "version": "3.9.5"
  },
  "orig_nbformat": 2,
  "kernelspec": {
   "name": "python395jvsc74a57bd0ac59ebe37160ed0dfa835113d9b8498d9f09ceb179beaac4002f036b9467c963",
   "display_name": "Python 3.9.5 64-bit ('Python39')"
  },
  "metadata": {
   "interpreter": {
    "hash": "ac59ebe37160ed0dfa835113d9b8498d9f09ceb179beaac4002f036b9467c963"
   }
  }
 },
 "nbformat": 4,
 "nbformat_minor": 2,
 "cells": [
  {
   "cell_type": "code",
   "execution_count": 9,
   "metadata": {},
   "outputs": [],
   "source": [
    "import pandas as pd \n",
    "import numpy as np \n",
    "import matplotlib.pyplot as plt \n",
    "import sklearn\n",
    "from sklearn.datasets import load_boston\n"
   ]
  },
  {
   "cell_type": "code",
   "execution_count": 10,
   "metadata": {},
   "outputs": [],
   "source": [
    "boston=load_boston()"
   ]
  },
  {
   "cell_type": "code",
   "execution_count": 12,
   "metadata": {},
   "outputs": [],
   "source": [
    "bos=pd.DataFrame(boston.data)"
   ]
  },
  {
   "cell_type": "code",
   "execution_count": 14,
   "metadata": {},
   "outputs": [
    {
     "output_type": "stream",
     "name": "stdout",
     "text": [
      "<bound method NDFrame.head of           0     1      2    3      4      5     6       7    8      9     10  \\\n0    0.00632  18.0   2.31  0.0  0.538  6.575  65.2  4.0900  1.0  296.0  15.3   \n1    0.02731   0.0   7.07  0.0  0.469  6.421  78.9  4.9671  2.0  242.0  17.8   \n2    0.02729   0.0   7.07  0.0  0.469  7.185  61.1  4.9671  2.0  242.0  17.8   \n3    0.03237   0.0   2.18  0.0  0.458  6.998  45.8  6.0622  3.0  222.0  18.7   \n4    0.06905   0.0   2.18  0.0  0.458  7.147  54.2  6.0622  3.0  222.0  18.7   \n..       ...   ...    ...  ...    ...    ...   ...     ...  ...    ...   ...   \n501  0.06263   0.0  11.93  0.0  0.573  6.593  69.1  2.4786  1.0  273.0  21.0   \n502  0.04527   0.0  11.93  0.0  0.573  6.120  76.7  2.2875  1.0  273.0  21.0   \n503  0.06076   0.0  11.93  0.0  0.573  6.976  91.0  2.1675  1.0  273.0  21.0   \n504  0.10959   0.0  11.93  0.0  0.573  6.794  89.3  2.3889  1.0  273.0  21.0   \n505  0.04741   0.0  11.93  0.0  0.573  6.030  80.8  2.5050  1.0  273.0  21.0   \n\n         11    12  \n0    396.90  4.98  \n1    396.90  9.14  \n2    392.83  4.03  \n3    394.63  2.94  \n4    396.90  5.33  \n..      ...   ...  \n501  391.99  9.67  \n502  396.90  9.08  \n503  396.90  5.64  \n504  393.45  6.48  \n505  396.90  7.88  \n\n[506 rows x 13 columns]>\n['CRIM' 'ZN' 'INDUS' 'CHAS' 'NOX' 'RM' 'AGE' 'DIS' 'RAD' 'TAX' 'PTRATIO'\n 'B' 'LSTAT']\n"
     ]
    }
   ],
   "source": [
    "print(bos.head)\n",
    "print(boston.feature_names)"
   ]
  },
  {
   "cell_type": "code",
   "execution_count": 17,
   "metadata": {},
   "outputs": [],
   "source": [
    "bos['PRICE']=boston.target"
   ]
  },
  {
   "cell_type": "code",
   "execution_count": 18,
   "metadata": {},
   "outputs": [],
   "source": [
    "Y=bos['PRICE']\n",
    "X=bos.drop('PRICE',axis=1)"
   ]
  },
  {
   "cell_type": "code",
   "execution_count": 20,
   "metadata": {},
   "outputs": [
    {
     "output_type": "stream",
     "name": "stdout",
     "text": [
      "         0     1     2    3      4      5     6       7    8      9    10  \\\n0  0.00632  18.0  2.31  0.0  0.538  6.575  65.2  4.0900  1.0  296.0  15.3   \n1  0.02731   0.0  7.07  0.0  0.469  6.421  78.9  4.9671  2.0  242.0  17.8   \n2  0.02729   0.0  7.07  0.0  0.469  7.185  61.1  4.9671  2.0  242.0  17.8   \n3  0.03237   0.0  2.18  0.0  0.458  6.998  45.8  6.0622  3.0  222.0  18.7   \n4  0.06905   0.0  2.18  0.0  0.458  7.147  54.2  6.0622  3.0  222.0  18.7   \n\n       11    12  \n0  396.90  4.98  \n1  396.90  9.14  \n2  392.83  4.03  \n3  394.63  2.94  \n4  396.90  5.33  \n0    24.0\n1    21.6\n2    34.7\n3    33.4\n4    36.2\nName: PRICE, dtype: float64\n"
     ]
    }
   ],
   "source": [
    "print(X.head())\n",
    "print(Y.head())"
   ]
  },
  {
   "cell_type": "code",
   "execution_count": 21,
   "metadata": {},
   "outputs": [],
   "source": [
    "from sklearn.linear_model import LinearRegression\n",
    "X_train, X_test, Y_train, Y_test = sklearn.model_selection.train_test_split(X,Y,test_size=0.33,random_state=5)"
   ]
  },
  {
   "cell_type": "code",
   "execution_count": 22,
   "metadata": {},
   "outputs": [
    {
     "output_type": "stream",
     "name": "stdout",
     "text": [
      "(339, 13) (167, 13) (339,) (167,)\n"
     ]
    }
   ],
   "source": [
    "print(X_train.shape,X_test.shape,Y_train.shape,Y_test.shape)"
   ]
  },
  {
   "cell_type": "code",
   "execution_count": 23,
   "metadata": {},
   "outputs": [],
   "source": [
    "lm=LinearRegression()"
   ]
  },
  {
   "cell_type": "code",
   "execution_count": 26,
   "metadata": {},
   "outputs": [
    {
     "output_type": "execute_result",
     "data": {
      "text/plain": [
       "LinearRegression()"
      ]
     },
     "metadata": {},
     "execution_count": 26
    }
   ],
   "source": [
    "lm.fit(X_train, Y_train)"
   ]
  },
  {
   "cell_type": "code",
   "execution_count": 27,
   "metadata": {},
   "outputs": [],
   "source": [
    "Y_pred = lm.predict(X_test)"
   ]
  },
  {
   "cell_type": "code",
   "execution_count": 33,
   "metadata": {},
   "outputs": [
    {
     "output_type": "stream",
     "name": "stdout",
     "text": [
      "               0\nPRICE           \n37.6   37.467236\n27.9   31.391547\n22.6   27.120196\n13.8    6.468433\n35.2   33.629667\n...          ...\n14.4    9.718369\n35.4   34.705200\n25.3   25.704102\n18.3   20.154309\n16.6   15.394658\n\n[167 rows x 1 columns]\n"
     ]
    }
   ],
   "source": [
    "df=pd.DataFrame(Y_pred, Y_test)\n",
    "print(df)"
   ]
  },
  {
   "cell_type": "code",
   "execution_count": 36,
   "metadata": {},
   "outputs": [
    {
     "output_type": "stream",
     "name": "stdout",
     "text": [
      "28.530458765974675 3.4550349322483545\n"
     ]
    }
   ],
   "source": [
    "from sklearn.metrics import mean_squared_error,mean_absolute_error\n",
    "mse = mean_squared_error(Y_test, Y_pred)\n",
    "mae = mean_absolute_error(Y_test, Y_pred)\n",
    "print(mse,mae)"
   ]
  },
  {
   "cell_type": "code",
   "execution_count": 41,
   "metadata": {},
   "outputs": [
    {
     "output_type": "display_data",
     "data": {
      "text/plain": "<Figure size 432x288 with 1 Axes>",
      "image/svg+xml": "<?xml version=\"1.0\" encoding=\"utf-8\" standalone=\"no\"?>\r\n<!DOCTYPE svg PUBLIC \"-//W3C//DTD SVG 1.1//EN\"\r\n  \"http://www.w3.org/Graphics/SVG/1.1/DTD/svg11.dtd\">\r\n<svg height=\"248.518125pt\" version=\"1.1\" viewBox=\"0 0 368.925 248.518125\" width=\"368.925pt\" xmlns=\"http://www.w3.org/2000/svg\" xmlns:xlink=\"http://www.w3.org/1999/xlink\">\r\n <metadata>\r\n  <rdf:RDF xmlns:cc=\"http://creativecommons.org/ns#\" xmlns:dc=\"http://purl.org/dc/elements/1.1/\" xmlns:rdf=\"http://www.w3.org/1999/02/22-rdf-syntax-ns#\">\r\n   <cc:Work>\r\n    <dc:type rdf:resource=\"http://purl.org/dc/dcmitype/StillImage\"/>\r\n    <dc:date>2021-07-24T11:54:13.121524</dc:date>\r\n    <dc:format>image/svg+xml</dc:format>\r\n    <dc:creator>\r\n     <cc:Agent>\r\n      <dc:title>Matplotlib v3.4.2, https://matplotlib.org/</dc:title>\r\n     </cc:Agent>\r\n    </dc:creator>\r\n   </cc:Work>\r\n  </rdf:RDF>\r\n </metadata>\r\n <defs>\r\n  <style type=\"text/css\">*{stroke-linecap:butt;stroke-linejoin:round;}</style>\r\n </defs>\r\n <g id=\"figure_1\">\r\n  <g id=\"patch_1\">\r\n   <path d=\"M -0 248.518125 \r\nL 368.925 248.518125 \r\nL 368.925 0 \r\nL -0 0 \r\nz\r\n\" style=\"fill:none;\"/>\r\n  </g>\r\n  <g id=\"axes_1\">\r\n   <g id=\"patch_2\">\r\n    <path d=\"M 26.925 224.64 \r\nL 361.725 224.64 \r\nL 361.725 7.2 \r\nL 26.925 7.2 \r\nz\r\n\" style=\"fill:#ffffff;\"/>\r\n   </g>\r\n   <g id=\"PathCollection_1\">\r\n    <defs>\r\n     <path d=\"M 0 3 \r\nC 0.795609 3 1.55874 2.683901 2.12132 2.12132 \r\nC 2.683901 1.55874 3 0.795609 3 0 \r\nC 3 -0.795609 2.683901 -1.55874 2.12132 -2.12132 \r\nC 1.55874 -2.683901 0.795609 -3 0 -3 \r\nC -0.795609 -3 -1.55874 -2.683901 -2.12132 -2.12132 \r\nC -2.683901 -1.55874 -3 -0.795609 -3 0 \r\nC -3 0.795609 -2.683901 1.55874 -2.12132 2.12132 \r\nC -1.55874 2.683901 -0.795609 3 0 3 \r\nz\r\n\" id=\"m26772a61bb\" style=\"stroke:#1f77b4;\"/>\r\n    </defs>\r\n    <g clip-path=\"url(#p7e30512ec8)\">\r\n     <use style=\"fill:#1f77b4;stroke:#1f77b4;\" x=\"42.143182\" xlink:href=\"#m26772a61bb\" y=\"61.126421\"/>\r\n     <use style=\"fill:#1f77b4;stroke:#1f77b4;\" x=\"42.143182\" xlink:href=\"#m26772a61bb\" y=\"82.477676\"/>\r\n     <use style=\"fill:#1f77b4;stroke:#1f77b4;\" x=\"42.143182\" xlink:href=\"#m26772a61bb\" y=\"97.488106\"/>\r\n     <use style=\"fill:#1f77b4;stroke:#1f77b4;\" x=\"42.143182\" xlink:href=\"#m26772a61bb\" y=\"170.062769\"/>\r\n     <use style=\"fill:#1f77b4;stroke:#1f77b4;\" x=\"346.506818\" xlink:href=\"#m26772a61bb\" y=\"74.612448\"/>\r\n     <use style=\"fill:#1f77b4;stroke:#1f77b4;\" x=\"42.143182\" xlink:href=\"#m26772a61bb\" y=\"172.866244\"/>\r\n     <use style=\"fill:#1f77b4;stroke:#1f77b4;\" x=\"42.143182\" xlink:href=\"#m26772a61bb\" y=\"97.771807\"/>\r\n     <use style=\"fill:#1f77b4;stroke:#1f77b4;\" x=\"346.506818\" xlink:href=\"#m26772a61bb\" y=\"87.624237\"/>\r\n     <use style=\"fill:#1f77b4;stroke:#1f77b4;\" x=\"42.143182\" xlink:href=\"#m26772a61bb\" y=\"100.171498\"/>\r\n     <use style=\"fill:#1f77b4;stroke:#1f77b4;\" x=\"42.143182\" xlink:href=\"#m26772a61bb\" y=\"113.891518\"/>\r\n     <use style=\"fill:#1f77b4;stroke:#1f77b4;\" x=\"42.143182\" xlink:href=\"#m26772a61bb\" y=\"79.618874\"/>\r\n     <use style=\"fill:#1f77b4;stroke:#1f77b4;\" x=\"42.143182\" xlink:href=\"#m26772a61bb\" y=\"116.232136\"/>\r\n     <use style=\"fill:#1f77b4;stroke:#1f77b4;\" x=\"42.143182\" xlink:href=\"#m26772a61bb\" y=\"110.521656\"/>\r\n     <use style=\"fill:#1f77b4;stroke:#1f77b4;\" x=\"42.143182\" xlink:href=\"#m26772a61bb\" y=\"74.685276\"/>\r\n     <use style=\"fill:#1f77b4;stroke:#1f77b4;\" x=\"42.143182\" xlink:href=\"#m26772a61bb\" y=\"93.39054\"/>\r\n     <use style=\"fill:#1f77b4;stroke:#1f77b4;\" x=\"42.143182\" xlink:href=\"#m26772a61bb\" y=\"139.594003\"/>\r\n     <use style=\"fill:#1f77b4;stroke:#1f77b4;\" x=\"42.143182\" xlink:href=\"#m26772a61bb\" y=\"191.73688\"/>\r\n     <use style=\"fill:#1f77b4;stroke:#1f77b4;\" x=\"42.143182\" xlink:href=\"#m26772a61bb\" y=\"127.013431\"/>\r\n     <use style=\"fill:#1f77b4;stroke:#1f77b4;\" x=\"42.143182\" xlink:href=\"#m26772a61bb\" y=\"141.941213\"/>\r\n     <use style=\"fill:#1f77b4;stroke:#1f77b4;\" x=\"42.143182\" xlink:href=\"#m26772a61bb\" y=\"153.757522\"/>\r\n     <use style=\"fill:#1f77b4;stroke:#1f77b4;\" x=\"42.143182\" xlink:href=\"#m26772a61bb\" y=\"183.323616\"/>\r\n     <use style=\"fill:#1f77b4;stroke:#1f77b4;\" x=\"42.143182\" xlink:href=\"#m26772a61bb\" y=\"125.26183\"/>\r\n     <use style=\"fill:#1f77b4;stroke:#1f77b4;\" x=\"42.143182\" xlink:href=\"#m26772a61bb\" y=\"57.807748\"/>\r\n     <use style=\"fill:#1f77b4;stroke:#1f77b4;\" x=\"42.143182\" xlink:href=\"#m26772a61bb\" y=\"107.155111\"/>\r\n     <use style=\"fill:#1f77b4;stroke:#1f77b4;\" x=\"42.143182\" xlink:href=\"#m26772a61bb\" y=\"81.692646\"/>\r\n     <use style=\"fill:#1f77b4;stroke:#1f77b4;\" x=\"42.143182\" xlink:href=\"#m26772a61bb\" y=\"152.654523\"/>\r\n     <use style=\"fill:#1f77b4;stroke:#1f77b4;\" x=\"42.143182\" xlink:href=\"#m26772a61bb\" y=\"105.189762\"/>\r\n     <use style=\"fill:#1f77b4;stroke:#1f77b4;\" x=\"42.143182\" xlink:href=\"#m26772a61bb\" y=\"110.871685\"/>\r\n     <use style=\"fill:#1f77b4;stroke:#1f77b4;\" x=\"42.143182\" xlink:href=\"#m26772a61bb\" y=\"112.753097\"/>\r\n     <use style=\"fill:#1f77b4;stroke:#1f77b4;\" x=\"42.143182\" xlink:href=\"#m26772a61bb\" y=\"120.222891\"/>\r\n     <use style=\"fill:#1f77b4;stroke:#1f77b4;\" x=\"42.143182\" xlink:href=\"#m26772a61bb\" y=\"136.443135\"/>\r\n     <use style=\"fill:#1f77b4;stroke:#1f77b4;\" x=\"42.143182\" xlink:href=\"#m26772a61bb\" y=\"167.914346\"/>\r\n     <use style=\"fill:#1f77b4;stroke:#1f77b4;\" x=\"42.143182\" xlink:href=\"#m26772a61bb\" y=\"130.750484\"/>\r\n     <use style=\"fill:#1f77b4;stroke:#1f77b4;\" x=\"42.143182\" xlink:href=\"#m26772a61bb\" y=\"112.618511\"/>\r\n     <use style=\"fill:#1f77b4;stroke:#1f77b4;\" x=\"42.143182\" xlink:href=\"#m26772a61bb\" y=\"90.110941\"/>\r\n     <use style=\"fill:#1f77b4;stroke:#1f77b4;\" x=\"42.143182\" xlink:href=\"#m26772a61bb\" y=\"127.382276\"/>\r\n     <use style=\"fill:#1f77b4;stroke:#1f77b4;\" x=\"346.506818\" xlink:href=\"#m26772a61bb\" y=\"93.071367\"/>\r\n     <use style=\"fill:#1f77b4;stroke:#1f77b4;\" x=\"42.143182\" xlink:href=\"#m26772a61bb\" y=\"161.850987\"/>\r\n     <use style=\"fill:#1f77b4;stroke:#1f77b4;\" x=\"42.143182\" xlink:href=\"#m26772a61bb\" y=\"46.422367\"/>\r\n     <use style=\"fill:#1f77b4;stroke:#1f77b4;\" x=\"42.143182\" xlink:href=\"#m26772a61bb\" y=\"73.208751\"/>\r\n     <use style=\"fill:#1f77b4;stroke:#1f77b4;\" x=\"42.143182\" xlink:href=\"#m26772a61bb\" y=\"121.853202\"/>\r\n     <use style=\"fill:#1f77b4;stroke:#1f77b4;\" x=\"42.143182\" xlink:href=\"#m26772a61bb\" y=\"178.891961\"/>\r\n     <use style=\"fill:#1f77b4;stroke:#1f77b4;\" x=\"42.143182\" xlink:href=\"#m26772a61bb\" y=\"88.452895\"/>\r\n     <use style=\"fill:#1f77b4;stroke:#1f77b4;\" x=\"42.143182\" xlink:href=\"#m26772a61bb\" y=\"149.988261\"/>\r\n     <use style=\"fill:#1f77b4;stroke:#1f77b4;\" x=\"42.143182\" xlink:href=\"#m26772a61bb\" y=\"97.228621\"/>\r\n     <use style=\"fill:#1f77b4;stroke:#1f77b4;\" x=\"42.143182\" xlink:href=\"#m26772a61bb\" y=\"85.129341\"/>\r\n     <use style=\"fill:#1f77b4;stroke:#1f77b4;\" x=\"42.143182\" xlink:href=\"#m26772a61bb\" y=\"214.756364\"/>\r\n     <use style=\"fill:#1f77b4;stroke:#1f77b4;\" x=\"42.143182\" xlink:href=\"#m26772a61bb\" y=\"122.698905\"/>\r\n     <use style=\"fill:#1f77b4;stroke:#1f77b4;\" x=\"42.143182\" xlink:href=\"#m26772a61bb\" y=\"117.058597\"/>\r\n     <use style=\"fill:#1f77b4;stroke:#1f77b4;\" x=\"42.143182\" xlink:href=\"#m26772a61bb\" y=\"145.827542\"/>\r\n     <use style=\"fill:#1f77b4;stroke:#1f77b4;\" x=\"42.143182\" xlink:href=\"#m26772a61bb\" y=\"121.137044\"/>\r\n     <use style=\"fill:#1f77b4;stroke:#1f77b4;\" x=\"42.143182\" xlink:href=\"#m26772a61bb\" y=\"122.954413\"/>\r\n     <use style=\"fill:#1f77b4;stroke:#1f77b4;\" x=\"42.143182\" xlink:href=\"#m26772a61bb\" y=\"109.941163\"/>\r\n     <use style=\"fill:#1f77b4;stroke:#1f77b4;\" x=\"42.143182\" xlink:href=\"#m26772a61bb\" y=\"145.698813\"/>\r\n     <use style=\"fill:#1f77b4;stroke:#1f77b4;\" x=\"42.143182\" xlink:href=\"#m26772a61bb\" y=\"130.71717\"/>\r\n     <use style=\"fill:#1f77b4;stroke:#1f77b4;\" x=\"42.143182\" xlink:href=\"#m26772a61bb\" y=\"105.732267\"/>\r\n     <use style=\"fill:#1f77b4;stroke:#1f77b4;\" x=\"42.143182\" xlink:href=\"#m26772a61bb\" y=\"68.690658\"/>\r\n     <use style=\"fill:#1f77b4;stroke:#1f77b4;\" x=\"42.143182\" xlink:href=\"#m26772a61bb\" y=\"138.383037\"/>\r\n     <use style=\"fill:#1f77b4;stroke:#1f77b4;\" x=\"42.143182\" xlink:href=\"#m26772a61bb\" y=\"92.612315\"/>\r\n     <use style=\"fill:#1f77b4;stroke:#1f77b4;\" x=\"42.143182\" xlink:href=\"#m26772a61bb\" y=\"116.445317\"/>\r\n     <use style=\"fill:#1f77b4;stroke:#1f77b4;\" x=\"42.143182\" xlink:href=\"#m26772a61bb\" y=\"120.46672\"/>\r\n     <use style=\"fill:#1f77b4;stroke:#1f77b4;\" x=\"42.143182\" xlink:href=\"#m26772a61bb\" y=\"101.12738\"/>\r\n     <use style=\"fill:#1f77b4;stroke:#1f77b4;\" x=\"42.143182\" xlink:href=\"#m26772a61bb\" y=\"141.774293\"/>\r\n     <use style=\"fill:#1f77b4;stroke:#1f77b4;\" x=\"42.143182\" xlink:href=\"#m26772a61bb\" y=\"79.021823\"/>\r\n     <use style=\"fill:#1f77b4;stroke:#1f77b4;\" x=\"346.506818\" xlink:href=\"#m26772a61bb\" y=\"119.666374\"/>\r\n     <use style=\"fill:#1f77b4;stroke:#1f77b4;\" x=\"42.143182\" xlink:href=\"#m26772a61bb\" y=\"149.958345\"/>\r\n     <use style=\"fill:#1f77b4;stroke:#1f77b4;\" x=\"42.143182\" xlink:href=\"#m26772a61bb\" y=\"124.423425\"/>\r\n     <use style=\"fill:#1f77b4;stroke:#1f77b4;\" x=\"42.143182\" xlink:href=\"#m26772a61bb\" y=\"104.116935\"/>\r\n     <use style=\"fill:#1f77b4;stroke:#1f77b4;\" x=\"42.143182\" xlink:href=\"#m26772a61bb\" y=\"116.279204\"/>\r\n     <use style=\"fill:#1f77b4;stroke:#1f77b4;\" x=\"42.143182\" xlink:href=\"#m26772a61bb\" y=\"117.933528\"/>\r\n     <use style=\"fill:#1f77b4;stroke:#1f77b4;\" x=\"42.143182\" xlink:href=\"#m26772a61bb\" y=\"120.463934\"/>\r\n     <use style=\"fill:#1f77b4;stroke:#1f77b4;\" x=\"42.143182\" xlink:href=\"#m26772a61bb\" y=\"98.801881\"/>\r\n     <use style=\"fill:#1f77b4;stroke:#1f77b4;\" x=\"42.143182\" xlink:href=\"#m26772a61bb\" y=\"131.189868\"/>\r\n     <use style=\"fill:#1f77b4;stroke:#1f77b4;\" x=\"42.143182\" xlink:href=\"#m26772a61bb\" y=\"127.011003\"/>\r\n     <use style=\"fill:#1f77b4;stroke:#1f77b4;\" x=\"42.143182\" xlink:href=\"#m26772a61bb\" y=\"125.917826\"/>\r\n     <use style=\"fill:#1f77b4;stroke:#1f77b4;\" x=\"42.143182\" xlink:href=\"#m26772a61bb\" y=\"102.248689\"/>\r\n     <use style=\"fill:#1f77b4;stroke:#1f77b4;\" x=\"42.143182\" xlink:href=\"#m26772a61bb\" y=\"115.91818\"/>\r\n     <use style=\"fill:#1f77b4;stroke:#1f77b4;\" x=\"42.143182\" xlink:href=\"#m26772a61bb\" y=\"137.58975\"/>\r\n     <use style=\"fill:#1f77b4;stroke:#1f77b4;\" x=\"42.143182\" xlink:href=\"#m26772a61bb\" y=\"69.360631\"/>\r\n     <use style=\"fill:#1f77b4;stroke:#1f77b4;\" x=\"42.143182\" xlink:href=\"#m26772a61bb\" y=\"129.380664\"/>\r\n     <use style=\"fill:#1f77b4;stroke:#1f77b4;\" x=\"42.143182\" xlink:href=\"#m26772a61bb\" y=\"113.948922\"/>\r\n     <use style=\"fill:#1f77b4;stroke:#1f77b4;\" x=\"346.506818\" xlink:href=\"#m26772a61bb\" y=\"54.334083\"/>\r\n     <use style=\"fill:#1f77b4;stroke:#1f77b4;\" x=\"346.506818\" xlink:href=\"#m26772a61bb\" y=\"114.403485\"/>\r\n     <use style=\"fill:#1f77b4;stroke:#1f77b4;\" x=\"42.143182\" xlink:href=\"#m26772a61bb\" y=\"140.172996\"/>\r\n     <use style=\"fill:#1f77b4;stroke:#1f77b4;\" x=\"42.143182\" xlink:href=\"#m26772a61bb\" y=\"103.909238\"/>\r\n     <use style=\"fill:#1f77b4;stroke:#1f77b4;\" x=\"42.143182\" xlink:href=\"#m26772a61bb\" y=\"131.927846\"/>\r\n     <use style=\"fill:#1f77b4;stroke:#1f77b4;\" x=\"42.143182\" xlink:href=\"#m26772a61bb\" y=\"127.484871\"/>\r\n     <use style=\"fill:#1f77b4;stroke:#1f77b4;\" x=\"42.143182\" xlink:href=\"#m26772a61bb\" y=\"157.592597\"/>\r\n     <use style=\"fill:#1f77b4;stroke:#1f77b4;\" x=\"42.143182\" xlink:href=\"#m26772a61bb\" y=\"123.831037\"/>\r\n     <use style=\"fill:#1f77b4;stroke:#1f77b4;\" x=\"42.143182\" xlink:href=\"#m26772a61bb\" y=\"132.19264\"/>\r\n     <use style=\"fill:#1f77b4;stroke:#1f77b4;\" x=\"42.143182\" xlink:href=\"#m26772a61bb\" y=\"65.359637\"/>\r\n     <use style=\"fill:#1f77b4;stroke:#1f77b4;\" x=\"42.143182\" xlink:href=\"#m26772a61bb\" y=\"131.099013\"/>\r\n     <use style=\"fill:#1f77b4;stroke:#1f77b4;\" x=\"42.143182\" xlink:href=\"#m26772a61bb\" y=\"118.614532\"/>\r\n     <use style=\"fill:#1f77b4;stroke:#1f77b4;\" x=\"42.143182\" xlink:href=\"#m26772a61bb\" y=\"125.727761\"/>\r\n     <use style=\"fill:#1f77b4;stroke:#1f77b4;\" x=\"42.143182\" xlink:href=\"#m26772a61bb\" y=\"105.904634\"/>\r\n     <use style=\"fill:#1f77b4;stroke:#1f77b4;\" x=\"42.143182\" xlink:href=\"#m26772a61bb\" y=\"94.087738\"/>\r\n     <use style=\"fill:#1f77b4;stroke:#1f77b4;\" x=\"42.143182\" xlink:href=\"#m26772a61bb\" y=\"149.728438\"/>\r\n     <use style=\"fill:#1f77b4;stroke:#1f77b4;\" x=\"42.143182\" xlink:href=\"#m26772a61bb\" y=\"114.055051\"/>\r\n     <use style=\"fill:#1f77b4;stroke:#1f77b4;\" x=\"346.506818\" xlink:href=\"#m26772a61bb\" y=\"118.978786\"/>\r\n     <use style=\"fill:#1f77b4;stroke:#1f77b4;\" x=\"42.143182\" xlink:href=\"#m26772a61bb\" y=\"145.314637\"/>\r\n     <use style=\"fill:#1f77b4;stroke:#1f77b4;\" x=\"42.143182\" xlink:href=\"#m26772a61bb\" y=\"111.645113\"/>\r\n     <use style=\"fill:#1f77b4;stroke:#1f77b4;\" x=\"42.143182\" xlink:href=\"#m26772a61bb\" y=\"117.277095\"/>\r\n     <use style=\"fill:#1f77b4;stroke:#1f77b4;\" x=\"42.143182\" xlink:href=\"#m26772a61bb\" y=\"143.069556\"/>\r\n     <use style=\"fill:#1f77b4;stroke:#1f77b4;\" x=\"346.506818\" xlink:href=\"#m26772a61bb\" y=\"42.537861\"/>\r\n     <use style=\"fill:#1f77b4;stroke:#1f77b4;\" x=\"42.143182\" xlink:href=\"#m26772a61bb\" y=\"185.72752\"/>\r\n     <use style=\"fill:#1f77b4;stroke:#1f77b4;\" x=\"42.143182\" xlink:href=\"#m26772a61bb\" y=\"115.511745\"/>\r\n     <use style=\"fill:#1f77b4;stroke:#1f77b4;\" x=\"42.143182\" xlink:href=\"#m26772a61bb\" y=\"128.396108\"/>\r\n     <use style=\"fill:#1f77b4;stroke:#1f77b4;\" x=\"42.143182\" xlink:href=\"#m26772a61bb\" y=\"113.396387\"/>\r\n     <use style=\"fill:#1f77b4;stroke:#1f77b4;\" x=\"42.143182\" xlink:href=\"#m26772a61bb\" y=\"91.126213\"/>\r\n     <use style=\"fill:#1f77b4;stroke:#1f77b4;\" x=\"42.143182\" xlink:href=\"#m26772a61bb\" y=\"127.815582\"/>\r\n     <use style=\"fill:#1f77b4;stroke:#1f77b4;\" x=\"42.143182\" xlink:href=\"#m26772a61bb\" y=\"95.747942\"/>\r\n     <use style=\"fill:#1f77b4;stroke:#1f77b4;\" x=\"42.143182\" xlink:href=\"#m26772a61bb\" y=\"106.149642\"/>\r\n     <use style=\"fill:#1f77b4;stroke:#1f77b4;\" x=\"42.143182\" xlink:href=\"#m26772a61bb\" y=\"121.367565\"/>\r\n     <use style=\"fill:#1f77b4;stroke:#1f77b4;\" x=\"42.143182\" xlink:href=\"#m26772a61bb\" y=\"77.988229\"/>\r\n     <use style=\"fill:#1f77b4;stroke:#1f77b4;\" x=\"42.143182\" xlink:href=\"#m26772a61bb\" y=\"123.459669\"/>\r\n     <use style=\"fill:#1f77b4;stroke:#1f77b4;\" x=\"42.143182\" xlink:href=\"#m26772a61bb\" y=\"147.723044\"/>\r\n     <use style=\"fill:#1f77b4;stroke:#1f77b4;\" x=\"42.143182\" xlink:href=\"#m26772a61bb\" y=\"113.058242\"/>\r\n     <use style=\"fill:#1f77b4;stroke:#1f77b4;\" x=\"42.143182\" xlink:href=\"#m26772a61bb\" y=\"128.712491\"/>\r\n     <use style=\"fill:#1f77b4;stroke:#1f77b4;\" x=\"42.143182\" xlink:href=\"#m26772a61bb\" y=\"124.603296\"/>\r\n     <use style=\"fill:#1f77b4;stroke:#1f77b4;\" x=\"42.143182\" xlink:href=\"#m26772a61bb\" y=\"135.894055\"/>\r\n     <use style=\"fill:#1f77b4;stroke:#1f77b4;\" x=\"42.143182\" xlink:href=\"#m26772a61bb\" y=\"116.261547\"/>\r\n     <use style=\"fill:#1f77b4;stroke:#1f77b4;\" x=\"42.143182\" xlink:href=\"#m26772a61bb\" y=\"68.02607\"/>\r\n     <use style=\"fill:#1f77b4;stroke:#1f77b4;\" x=\"42.143182\" xlink:href=\"#m26772a61bb\" y=\"114.63679\"/>\r\n     <use style=\"fill:#1f77b4;stroke:#1f77b4;\" x=\"42.143182\" xlink:href=\"#m26772a61bb\" y=\"121.80626\"/>\r\n     <use style=\"fill:#1f77b4;stroke:#1f77b4;\" x=\"42.143182\" xlink:href=\"#m26772a61bb\" y=\"106.545958\"/>\r\n     <use style=\"fill:#1f77b4;stroke:#1f77b4;\" x=\"42.143182\" xlink:href=\"#m26772a61bb\" y=\"103.891848\"/>\r\n     <use style=\"fill:#1f77b4;stroke:#1f77b4;\" x=\"42.143182\" xlink:href=\"#m26772a61bb\" y=\"120.745121\"/>\r\n     <use style=\"fill:#1f77b4;stroke:#1f77b4;\" x=\"346.506818\" xlink:href=\"#m26772a61bb\" y=\"111.914367\"/>\r\n     <use style=\"fill:#1f77b4;stroke:#1f77b4;\" x=\"42.143182\" xlink:href=\"#m26772a61bb\" y=\"110.616249\"/>\r\n     <use style=\"fill:#1f77b4;stroke:#1f77b4;\" x=\"42.143182\" xlink:href=\"#m26772a61bb\" y=\"48.999384\"/>\r\n     <use style=\"fill:#1f77b4;stroke:#1f77b4;\" x=\"346.506818\" xlink:href=\"#m26772a61bb\" y=\"59.784584\"/>\r\n     <use style=\"fill:#1f77b4;stroke:#1f77b4;\" x=\"346.506818\" xlink:href=\"#m26772a61bb\" y=\"96.011972\"/>\r\n     <use style=\"fill:#1f77b4;stroke:#1f77b4;\" x=\"42.143182\" xlink:href=\"#m26772a61bb\" y=\"148.744605\"/>\r\n     <use style=\"fill:#1f77b4;stroke:#1f77b4;\" x=\"42.143182\" xlink:href=\"#m26772a61bb\" y=\"136.897583\"/>\r\n     <use style=\"fill:#1f77b4;stroke:#1f77b4;\" x=\"42.143182\" xlink:href=\"#m26772a61bb\" y=\"128.647475\"/>\r\n     <use style=\"fill:#1f77b4;stroke:#1f77b4;\" x=\"42.143182\" xlink:href=\"#m26772a61bb\" y=\"116.787183\"/>\r\n     <use style=\"fill:#1f77b4;stroke:#1f77b4;\" x=\"42.143182\" xlink:href=\"#m26772a61bb\" y=\"137.341098\"/>\r\n     <use style=\"fill:#1f77b4;stroke:#1f77b4;\" x=\"42.143182\" xlink:href=\"#m26772a61bb\" y=\"173.021967\"/>\r\n     <use style=\"fill:#1f77b4;stroke:#1f77b4;\" x=\"42.143182\" xlink:href=\"#m26772a61bb\" y=\"108.45151\"/>\r\n     <use style=\"fill:#1f77b4;stroke:#1f77b4;\" x=\"42.143182\" xlink:href=\"#m26772a61bb\" y=\"86.063428\"/>\r\n     <use style=\"fill:#1f77b4;stroke:#1f77b4;\" x=\"42.143182\" xlink:href=\"#m26772a61bb\" y=\"111.927753\"/>\r\n     <use style=\"fill:#1f77b4;stroke:#1f77b4;\" x=\"346.506818\" xlink:href=\"#m26772a61bb\" y=\"128.515611\"/>\r\n     <use style=\"fill:#1f77b4;stroke:#1f77b4;\" x=\"42.143182\" xlink:href=\"#m26772a61bb\" y=\"135.882579\"/>\r\n     <use style=\"fill:#1f77b4;stroke:#1f77b4;\" x=\"42.143182\" xlink:href=\"#m26772a61bb\" y=\"116.85749\"/>\r\n     <use style=\"fill:#1f77b4;stroke:#1f77b4;\" x=\"42.143182\" xlink:href=\"#m26772a61bb\" y=\"70.792529\"/>\r\n     <use style=\"fill:#1f77b4;stroke:#1f77b4;\" x=\"346.506818\" xlink:href=\"#m26772a61bb\" y=\"110.543877\"/>\r\n     <use style=\"fill:#1f77b4;stroke:#1f77b4;\" x=\"42.143182\" xlink:href=\"#m26772a61bb\" y=\"86.884735\"/>\r\n     <use style=\"fill:#1f77b4;stroke:#1f77b4;\" x=\"42.143182\" xlink:href=\"#m26772a61bb\" y=\"129.203948\"/>\r\n     <use style=\"fill:#1f77b4;stroke:#1f77b4;\" x=\"42.143182\" xlink:href=\"#m26772a61bb\" y=\"114.889616\"/>\r\n     <use style=\"fill:#1f77b4;stroke:#1f77b4;\" x=\"42.143182\" xlink:href=\"#m26772a61bb\" y=\"90.557872\"/>\r\n     <use style=\"fill:#1f77b4;stroke:#1f77b4;\" x=\"42.143182\" xlink:href=\"#m26772a61bb\" y=\"145.839192\"/>\r\n     <use style=\"fill:#1f77b4;stroke:#1f77b4;\" x=\"346.506818\" xlink:href=\"#m26772a61bb\" y=\"80.828304\"/>\r\n     <use style=\"fill:#1f77b4;stroke:#1f77b4;\" x=\"42.143182\" xlink:href=\"#m26772a61bb\" y=\"152.027409\"/>\r\n     <use style=\"fill:#1f77b4;stroke:#1f77b4;\" x=\"42.143182\" xlink:href=\"#m26772a61bb\" y=\"143.884768\"/>\r\n     <use style=\"fill:#1f77b4;stroke:#1f77b4;\" x=\"42.143182\" xlink:href=\"#m26772a61bb\" y=\"99.586273\"/>\r\n     <use style=\"fill:#1f77b4;stroke:#1f77b4;\" x=\"42.143182\" xlink:href=\"#m26772a61bb\" y=\"82.466202\"/>\r\n     <use style=\"fill:#1f77b4;stroke:#1f77b4;\" x=\"42.143182\" xlink:href=\"#m26772a61bb\" y=\"155.441173\"/>\r\n     <use style=\"fill:#1f77b4;stroke:#1f77b4;\" x=\"42.143182\" xlink:href=\"#m26772a61bb\" y=\"106.038899\"/>\r\n     <use style=\"fill:#1f77b4;stroke:#1f77b4;\" x=\"42.143182\" xlink:href=\"#m26772a61bb\" y=\"91.034914\"/>\r\n     <use style=\"fill:#1f77b4;stroke:#1f77b4;\" x=\"42.143182\" xlink:href=\"#m26772a61bb\" y=\"79.223389\"/>\r\n     <use style=\"fill:#1f77b4;stroke:#1f77b4;\" x=\"42.143182\" xlink:href=\"#m26772a61bb\" y=\"137.019685\"/>\r\n     <use style=\"fill:#1f77b4;stroke:#1f77b4;\" x=\"42.143182\" xlink:href=\"#m26772a61bb\" y=\"87.566921\"/>\r\n     <use style=\"fill:#1f77b4;stroke:#1f77b4;\" x=\"42.143182\" xlink:href=\"#m26772a61bb\" y=\"158.641809\"/>\r\n     <use style=\"fill:#1f77b4;stroke:#1f77b4;\" x=\"42.143182\" xlink:href=\"#m26772a61bb\" y=\"70.832798\"/>\r\n     <use style=\"fill:#1f77b4;stroke:#1f77b4;\" x=\"42.143182\" xlink:href=\"#m26772a61bb\" y=\"102.464561\"/>\r\n     <use style=\"fill:#1f77b4;stroke:#1f77b4;\" x=\"42.143182\" xlink:href=\"#m26772a61bb\" y=\"121.967707\"/>\r\n     <use style=\"fill:#1f77b4;stroke:#1f77b4;\" x=\"42.143182\" xlink:href=\"#m26772a61bb\" y=\"138.694126\"/>\r\n    </g>\r\n   </g>\r\n   <g id=\"PathCollection_2\">\r\n    <defs>\r\n     <path d=\"M 0 3 \r\nC 0.795609 3 1.55874 2.683901 2.12132 2.12132 \r\nC 2.683901 1.55874 3 0.795609 3 0 \r\nC 3 -0.795609 2.683901 -1.55874 2.12132 -2.12132 \r\nC 1.55874 -2.683901 0.795609 -3 0 -3 \r\nC -0.795609 -3 -1.55874 -2.683901 -2.12132 -2.12132 \r\nC -2.683901 -1.55874 -3 -0.795609 -3 0 \r\nC -3 0.795609 -2.683901 1.55874 -2.12132 2.12132 \r\nC -1.55874 2.683901 -0.795609 3 0 3 \r\nz\r\n\" id=\"m6c623988a6\" style=\"stroke:#ff7f0e;\"/>\r\n    </defs>\r\n    <g clip-path=\"url(#p7e30512ec8)\">\r\n     <use style=\"fill:#ff7f0e;stroke:#ff7f0e;\" x=\"42.143182\" xlink:href=\"#m6c623988a6\" y=\"60.659859\"/>\r\n     <use style=\"fill:#ff7f0e;stroke:#ff7f0e;\" x=\"42.143182\" xlink:href=\"#m6c623988a6\" y=\"94.747711\"/>\r\n     <use style=\"fill:#ff7f0e;stroke:#ff7f0e;\" x=\"42.143182\" xlink:href=\"#m6c623988a6\" y=\"113.373032\"/>\r\n     <use style=\"fill:#ff7f0e;stroke:#ff7f0e;\" x=\"42.143182\" xlink:href=\"#m6c623988a6\" y=\"144.298093\"/>\r\n     <use style=\"fill:#ff7f0e;stroke:#ff7f0e;\" x=\"346.506818\" xlink:href=\"#m6c623988a6\" y=\"69.093967\"/>\r\n     <use style=\"fill:#ff7f0e;stroke:#ff7f0e;\" x=\"42.143182\" xlink:href=\"#m6c623988a6\" y=\"156.246413\"/>\r\n     <use style=\"fill:#ff7f0e;stroke:#ff7f0e;\" x=\"42.143182\" xlink:href=\"#m6c623988a6\" y=\"108.804557\"/>\r\n     <use style=\"fill:#ff7f0e;stroke:#ff7f0e;\" x=\"346.506818\" xlink:href=\"#m6c623988a6\" y=\"90.882078\"/>\r\n     <use style=\"fill:#ff7f0e;stroke:#ff7f0e;\" x=\"42.143182\" xlink:href=\"#m6c623988a6\" y=\"112.67019\"/>\r\n     <use style=\"fill:#ff7f0e;stroke:#ff7f0e;\" x=\"42.143182\" xlink:href=\"#m6c623988a6\" y=\"111.264505\"/>\r\n     <use style=\"fill:#ff7f0e;stroke:#ff7f0e;\" x=\"42.143182\" xlink:href=\"#m6c623988a6\" y=\"76.12239\"/>\r\n     <use style=\"fill:#ff7f0e;stroke:#ff7f0e;\" x=\"42.143182\" xlink:href=\"#m6c623988a6\" y=\"126.024194\"/>\r\n     <use style=\"fill:#ff7f0e;stroke:#ff7f0e;\" x=\"42.143182\" xlink:href=\"#m6c623988a6\" y=\"121.455719\"/>\r\n     <use style=\"fill:#ff7f0e;stroke:#ff7f0e;\" x=\"42.143182\" xlink:href=\"#m6c623988a6\" y=\"65.931177\"/>\r\n     <use style=\"fill:#ff7f0e;stroke:#ff7f0e;\" x=\"42.143182\" xlink:href=\"#m6c623988a6\" y=\"107.047451\"/>\r\n     <use style=\"fill:#ff7f0e;stroke:#ff7f0e;\" x=\"42.143182\" xlink:href=\"#m6c623988a6\" y=\"132.349774\"/>\r\n     <use style=\"fill:#ff7f0e;stroke:#ff7f0e;\" x=\"42.143182\" xlink:href=\"#m6c623988a6\" y=\"129.889826\"/>\r\n     <use style=\"fill:#ff7f0e;stroke:#ff7f0e;\" x=\"42.143182\" xlink:href=\"#m6c623988a6\" y=\"123.915667\"/>\r\n     <use style=\"fill:#ff7f0e;stroke:#ff7f0e;\" x=\"42.143182\" xlink:href=\"#m6c623988a6\" y=\"123.564245\"/>\r\n     <use style=\"fill:#ff7f0e;stroke:#ff7f0e;\" x=\"42.143182\" xlink:href=\"#m6c623988a6\" y=\"140.08104\"/>\r\n     <use style=\"fill:#ff7f0e;stroke:#ff7f0e;\" x=\"42.143182\" xlink:href=\"#m6c623988a6\" y=\"164.329099\"/>\r\n     <use style=\"fill:#ff7f0e;stroke:#ff7f0e;\" x=\"42.143182\" xlink:href=\"#m6c623988a6\" y=\"111.967347\"/>\r\n     <use style=\"fill:#ff7f0e;stroke:#ff7f0e;\" x=\"42.143182\" xlink:href=\"#m6c623988a6\" y=\"35.357536\"/>\r\n     <use style=\"fill:#ff7f0e;stroke:#ff7f0e;\" x=\"42.143182\" xlink:href=\"#m6c623988a6\" y=\"111.615926\"/>\r\n     <use style=\"fill:#ff7f0e;stroke:#ff7f0e;\" x=\"42.143182\" xlink:href=\"#m6c623988a6\" y=\"79.636601\"/>\r\n     <use style=\"fill:#ff7f0e;stroke:#ff7f0e;\" x=\"42.143182\" xlink:href=\"#m6c623988a6\" y=\"154.840728\"/>\r\n     <use style=\"fill:#ff7f0e;stroke:#ff7f0e;\" x=\"42.143182\" xlink:href=\"#m6c623988a6\" y=\"111.615926\"/>\r\n     <use style=\"fill:#ff7f0e;stroke:#ff7f0e;\" x=\"42.143182\" xlink:href=\"#m6c623988a6\" y=\"118.292928\"/>\r\n     <use style=\"fill:#ff7f0e;stroke:#ff7f0e;\" x=\"42.143182\" xlink:href=\"#m6c623988a6\" y=\"114.778717\"/>\r\n     <use style=\"fill:#ff7f0e;stroke:#ff7f0e;\" x=\"42.143182\" xlink:href=\"#m6c623988a6\" y=\"108.101715\"/>\r\n     <use style=\"fill:#ff7f0e;stroke:#ff7f0e;\" x=\"42.143182\" xlink:href=\"#m6c623988a6\" y=\"131.998353\"/>\r\n     <use style=\"fill:#ff7f0e;stroke:#ff7f0e;\" x=\"42.143182\" xlink:href=\"#m6c623988a6\" y=\"168.194732\"/>\r\n     <use style=\"fill:#ff7f0e;stroke:#ff7f0e;\" x=\"42.143182\" xlink:href=\"#m6c623988a6\" y=\"148.163726\"/>\r\n     <use style=\"fill:#ff7f0e;stroke:#ff7f0e;\" x=\"42.143182\" xlink:href=\"#m6c623988a6\" y=\"130.241247\"/>\r\n     <use style=\"fill:#ff7f0e;stroke:#ff7f0e;\" x=\"42.143182\" xlink:href=\"#m6c623988a6\" y=\"100.019028\"/>\r\n     <use style=\"fill:#ff7f0e;stroke:#ff7f0e;\" x=\"42.143182\" xlink:href=\"#m6c623988a6\" y=\"123.915667\"/>\r\n     <use style=\"fill:#ff7f0e;stroke:#ff7f0e;\" x=\"346.506818\" xlink:href=\"#m6c623988a6\" y=\"104.587503\"/>\r\n     <use style=\"fill:#ff7f0e;stroke:#ff7f0e;\" x=\"42.143182\" xlink:href=\"#m6c623988a6\" y=\"163.626257\"/>\r\n     <use style=\"fill:#ff7f0e;stroke:#ff7f0e;\" x=\"42.143182\" xlink:href=\"#m6c623988a6\" y=\"21.30069\"/>\r\n     <use style=\"fill:#ff7f0e;stroke:#ff7f0e;\" x=\"42.143182\" xlink:href=\"#m6c623988a6\" y=\"70.14823\"/>\r\n     <use style=\"fill:#ff7f0e;stroke:#ff7f0e;\" x=\"42.143182\" xlink:href=\"#m6c623988a6\" y=\"144.298093\"/>\r\n     <use style=\"fill:#ff7f0e;stroke:#ff7f0e;\" x=\"42.143182\" xlink:href=\"#m6c623988a6\" y=\"142.189566\"/>\r\n     <use style=\"fill:#ff7f0e;stroke:#ff7f0e;\" x=\"42.143182\" xlink:href=\"#m6c623988a6\" y=\"87.016446\"/>\r\n     <use style=\"fill:#ff7f0e;stroke:#ff7f0e;\" x=\"42.143182\" xlink:href=\"#m6c623988a6\" y=\"148.163726\"/>\r\n     <use style=\"fill:#ff7f0e;stroke:#ff7f0e;\" x=\"42.143182\" xlink:href=\"#m6c623988a6\" y=\"97.55908\"/>\r\n     <use style=\"fill:#ff7f0e;stroke:#ff7f0e;\" x=\"42.143182\" xlink:href=\"#m6c623988a6\" y=\"105.641767\"/>\r\n     <use style=\"fill:#ff7f0e;stroke:#ff7f0e;\" x=\"42.143182\" xlink:href=\"#m6c623988a6\" y=\"168.194732\"/>\r\n     <use style=\"fill:#ff7f0e;stroke:#ff7f0e;\" x=\"42.143182\" xlink:href=\"#m6c623988a6\" y=\"120.752876\"/>\r\n     <use style=\"fill:#ff7f0e;stroke:#ff7f0e;\" x=\"42.143182\" xlink:href=\"#m6c623988a6\" y=\"117.238665\"/>\r\n     <use style=\"fill:#ff7f0e;stroke:#ff7f0e;\" x=\"42.143182\" xlink:href=\"#m6c623988a6\" y=\"143.595251\"/>\r\n     <use style=\"fill:#ff7f0e;stroke:#ff7f0e;\" x=\"42.143182\" xlink:href=\"#m6c623988a6\" y=\"121.104297\"/>\r\n     <use style=\"fill:#ff7f0e;stroke:#ff7f0e;\" x=\"42.143182\" xlink:href=\"#m6c623988a6\" y=\"114.778717\"/>\r\n     <use style=\"fill:#ff7f0e;stroke:#ff7f0e;\" x=\"42.143182\" xlink:href=\"#m6c623988a6\" y=\"117.590086\"/>\r\n     <use style=\"fill:#ff7f0e;stroke:#ff7f0e;\" x=\"42.143182\" xlink:href=\"#m6c623988a6\" y=\"145.352357\"/>\r\n     <use style=\"fill:#ff7f0e;stroke:#ff7f0e;\" x=\"42.143182\" xlink:href=\"#m6c623988a6\" y=\"124.618509\"/>\r\n     <use style=\"fill:#ff7f0e;stroke:#ff7f0e;\" x=\"42.143182\" xlink:href=\"#m6c623988a6\" y=\"105.993188\"/>\r\n     <use style=\"fill:#ff7f0e;stroke:#ff7f0e;\" x=\"42.143182\" xlink:href=\"#m6c623988a6\" y=\"38.871748\"/>\r\n     <use style=\"fill:#ff7f0e;stroke:#ff7f0e;\" x=\"42.143182\" xlink:href=\"#m6c623988a6\" y=\"143.24383\"/>\r\n     <use style=\"fill:#ff7f0e;stroke:#ff7f0e;\" x=\"42.143182\" xlink:href=\"#m6c623988a6\" y=\"92.287763\"/>\r\n     <use style=\"fill:#ff7f0e;stroke:#ff7f0e;\" x=\"42.143182\" xlink:href=\"#m6c623988a6\" y=\"123.564245\"/>\r\n     <use style=\"fill:#ff7f0e;stroke:#ff7f0e;\" x=\"42.143182\" xlink:href=\"#m6c623988a6\" y=\"133.755459\"/>\r\n     <use style=\"fill:#ff7f0e;stroke:#ff7f0e;\" x=\"42.143182\" xlink:href=\"#m6c623988a6\" y=\"111.264505\"/>\r\n     <use style=\"fill:#ff7f0e;stroke:#ff7f0e;\" x=\"42.143182\" xlink:href=\"#m6c623988a6\" y=\"135.863986\"/>\r\n     <use style=\"fill:#ff7f0e;stroke:#ff7f0e;\" x=\"42.143182\" xlink:href=\"#m6c623988a6\" y=\"47.657277\"/>\r\n     <use style=\"fill:#ff7f0e;stroke:#ff7f0e;\" x=\"346.506818\" xlink:href=\"#m6c623988a6\" y=\"113.021611\"/>\r\n     <use style=\"fill:#ff7f0e;stroke:#ff7f0e;\" x=\"42.143182\" xlink:href=\"#m6c623988a6\" y=\"163.626257\"/>\r\n     <use style=\"fill:#ff7f0e;stroke:#ff7f0e;\" x=\"42.143182\" xlink:href=\"#m6c623988a6\" y=\"128.13272\"/>\r\n     <use style=\"fill:#ff7f0e;stroke:#ff7f0e;\" x=\"42.143182\" xlink:href=\"#m6c623988a6\" y=\"105.993188\"/>\r\n     <use style=\"fill:#ff7f0e;stroke:#ff7f0e;\" x=\"42.143182\" xlink:href=\"#m6c623988a6\" y=\"116.535822\"/>\r\n     <use style=\"fill:#ff7f0e;stroke:#ff7f0e;\" x=\"42.143182\" xlink:href=\"#m6c623988a6\" y=\"120.401455\"/>\r\n     <use style=\"fill:#ff7f0e;stroke:#ff7f0e;\" x=\"42.143182\" xlink:href=\"#m6c623988a6\" y=\"134.10688\"/>\r\n     <use style=\"fill:#ff7f0e;stroke:#ff7f0e;\" x=\"42.143182\" xlink:href=\"#m6c623988a6\" y=\"115.130138\"/>\r\n     <use style=\"fill:#ff7f0e;stroke:#ff7f0e;\" x=\"42.143182\" xlink:href=\"#m6c623988a6\" y=\"124.618509\"/>\r\n     <use style=\"fill:#ff7f0e;stroke:#ff7f0e;\" x=\"42.143182\" xlink:href=\"#m6c623988a6\" y=\"96.153396\"/>\r\n     <use style=\"fill:#ff7f0e;stroke:#ff7f0e;\" x=\"42.143182\" xlink:href=\"#m6c623988a6\" y=\"94.747711\"/>\r\n     <use style=\"fill:#ff7f0e;stroke:#ff7f0e;\" x=\"42.143182\" xlink:href=\"#m6c623988a6\" y=\"87.016446\"/>\r\n     <use style=\"fill:#ff7f0e;stroke:#ff7f0e;\" x=\"42.143182\" xlink:href=\"#m6c623988a6\" y=\"131.646932\"/>\r\n     <use style=\"fill:#ff7f0e;stroke:#ff7f0e;\" x=\"42.143182\" xlink:href=\"#m6c623988a6\" y=\"138.675355\"/>\r\n     <use style=\"fill:#ff7f0e;stroke:#ff7f0e;\" x=\"42.143182\" xlink:href=\"#m6c623988a6\" y=\"83.853655\"/>\r\n     <use style=\"fill:#ff7f0e;stroke:#ff7f0e;\" x=\"42.143182\" xlink:href=\"#m6c623988a6\" y=\"142.892409\"/>\r\n     <use style=\"fill:#ff7f0e;stroke:#ff7f0e;\" x=\"42.143182\" xlink:href=\"#m6c623988a6\" y=\"123.915667\"/>\r\n     <use style=\"fill:#ff7f0e;stroke:#ff7f0e;\" x=\"346.506818\" xlink:href=\"#m6c623988a6\" y=\"17.083636\"/>\r\n     <use style=\"fill:#ff7f0e;stroke:#ff7f0e;\" x=\"346.506818\" xlink:href=\"#m6c623988a6\" y=\"116.535822\"/>\r\n     <use style=\"fill:#ff7f0e;stroke:#ff7f0e;\" x=\"42.143182\" xlink:href=\"#m6c623988a6\" y=\"151.677938\"/>\r\n     <use style=\"fill:#ff7f0e;stroke:#ff7f0e;\" x=\"42.143182\" xlink:href=\"#m6c623988a6\" y=\"124.618509\"/>\r\n     <use style=\"fill:#ff7f0e;stroke:#ff7f0e;\" x=\"42.143182\" xlink:href=\"#m6c623988a6\" y=\"147.109463\"/>\r\n     <use style=\"fill:#ff7f0e;stroke:#ff7f0e;\" x=\"42.143182\" xlink:href=\"#m6c623988a6\" y=\"131.295511\"/>\r\n     <use style=\"fill:#ff7f0e;stroke:#ff7f0e;\" x=\"42.143182\" xlink:href=\"#m6c623988a6\" y=\"158.706361\"/>\r\n     <use style=\"fill:#ff7f0e;stroke:#ff7f0e;\" x=\"42.143182\" xlink:href=\"#m6c623988a6\" y=\"121.455719\"/>\r\n     <use style=\"fill:#ff7f0e;stroke:#ff7f0e;\" x=\"42.143182\" xlink:href=\"#m6c623988a6\" y=\"127.429878\"/>\r\n     <use style=\"fill:#ff7f0e;stroke:#ff7f0e;\" x=\"42.143182\" xlink:href=\"#m6c623988a6\" y=\"17.083636\"/>\r\n     <use style=\"fill:#ff7f0e;stroke:#ff7f0e;\" x=\"42.143182\" xlink:href=\"#m6c623988a6\" y=\"123.915667\"/>\r\n     <use style=\"fill:#ff7f0e;stroke:#ff7f0e;\" x=\"42.143182\" xlink:href=\"#m6c623988a6\" y=\"117.590086\"/>\r\n     <use style=\"fill:#ff7f0e;stroke:#ff7f0e;\" x=\"42.143182\" xlink:href=\"#m6c623988a6\" y=\"128.13272\"/>\r\n     <use style=\"fill:#ff7f0e;stroke:#ff7f0e;\" x=\"42.143182\" xlink:href=\"#m6c623988a6\" y=\"113.373032\"/>\r\n     <use style=\"fill:#ff7f0e;stroke:#ff7f0e;\" x=\"42.143182\" xlink:href=\"#m6c623988a6\" y=\"104.938924\"/>\r\n     <use style=\"fill:#ff7f0e;stroke:#ff7f0e;\" x=\"42.143182\" xlink:href=\"#m6c623988a6\" y=\"137.972513\"/>\r\n     <use style=\"fill:#ff7f0e;stroke:#ff7f0e;\" x=\"42.143182\" xlink:href=\"#m6c623988a6\" y=\"99.316186\"/>\r\n     <use style=\"fill:#ff7f0e;stroke:#ff7f0e;\" x=\"346.506818\" xlink:href=\"#m6c623988a6\" y=\"114.075874\"/>\r\n     <use style=\"fill:#ff7f0e;stroke:#ff7f0e;\" x=\"42.143182\" xlink:href=\"#m6c623988a6\" y=\"146.758041\"/>\r\n     <use style=\"fill:#ff7f0e;stroke:#ff7f0e;\" x=\"42.143182\" xlink:href=\"#m6c623988a6\" y=\"111.967347\"/>\r\n     <use style=\"fill:#ff7f0e;stroke:#ff7f0e;\" x=\"42.143182\" xlink:href=\"#m6c623988a6\" y=\"106.69603\"/>\r\n     <use style=\"fill:#ff7f0e;stroke:#ff7f0e;\" x=\"42.143182\" xlink:href=\"#m6c623988a6\" y=\"146.758041\"/>\r\n     <use style=\"fill:#ff7f0e;stroke:#ff7f0e;\" x=\"346.506818\" xlink:href=\"#m6c623988a6\" y=\"17.083636\"/>\r\n     <use style=\"fill:#ff7f0e;stroke:#ff7f0e;\" x=\"42.143182\" xlink:href=\"#m6c623988a6\" y=\"161.869151\"/>\r\n     <use style=\"fill:#ff7f0e;stroke:#ff7f0e;\" x=\"42.143182\" xlink:href=\"#m6c623988a6\" y=\"120.401455\"/>\r\n     <use style=\"fill:#ff7f0e;stroke:#ff7f0e;\" x=\"42.143182\" xlink:href=\"#m6c623988a6\" y=\"150.272253\"/>\r\n     <use style=\"fill:#ff7f0e;stroke:#ff7f0e;\" x=\"42.143182\" xlink:href=\"#m6c623988a6\" y=\"17.083636\"/>\r\n     <use style=\"fill:#ff7f0e;stroke:#ff7f0e;\" x=\"42.143182\" xlink:href=\"#m6c623988a6\" y=\"108.101715\"/>\r\n     <use style=\"fill:#ff7f0e;stroke:#ff7f0e;\" x=\"42.143182\" xlink:href=\"#m6c623988a6\" y=\"136.215407\"/>\r\n     <use style=\"fill:#ff7f0e;stroke:#ff7f0e;\" x=\"42.143182\" xlink:href=\"#m6c623988a6\" y=\"108.804557\"/>\r\n     <use style=\"fill:#ff7f0e;stroke:#ff7f0e;\" x=\"42.143182\" xlink:href=\"#m6c623988a6\" y=\"107.398872\"/>\r\n     <use style=\"fill:#ff7f0e;stroke:#ff7f0e;\" x=\"42.143182\" xlink:href=\"#m6c623988a6\" y=\"146.758041\"/>\r\n     <use style=\"fill:#ff7f0e;stroke:#ff7f0e;\" x=\"42.143182\" xlink:href=\"#m6c623988a6\" y=\"86.313603\"/>\r\n     <use style=\"fill:#ff7f0e;stroke:#ff7f0e;\" x=\"42.143182\" xlink:href=\"#m6c623988a6\" y=\"139.378197\"/>\r\n     <use style=\"fill:#ff7f0e;stroke:#ff7f0e;\" x=\"42.143182\" xlink:href=\"#m6c623988a6\" y=\"144.298093\"/>\r\n     <use style=\"fill:#ff7f0e;stroke:#ff7f0e;\" x=\"42.143182\" xlink:href=\"#m6c623988a6\" y=\"100.019028\"/>\r\n     <use style=\"fill:#ff7f0e;stroke:#ff7f0e;\" x=\"42.143182\" xlink:href=\"#m6c623988a6\" y=\"134.458301\"/>\r\n     <use style=\"fill:#ff7f0e;stroke:#ff7f0e;\" x=\"42.143182\" xlink:href=\"#m6c623988a6\" y=\"126.375615\"/>\r\n     <use style=\"fill:#ff7f0e;stroke:#ff7f0e;\" x=\"42.143182\" xlink:href=\"#m6c623988a6\" y=\"130.94409\"/>\r\n     <use style=\"fill:#ff7f0e;stroke:#ff7f0e;\" x=\"42.143182\" xlink:href=\"#m6c623988a6\" y=\"127.078457\"/>\r\n     <use style=\"fill:#ff7f0e;stroke:#ff7f0e;\" x=\"42.143182\" xlink:href=\"#m6c623988a6\" y=\"75.419548\"/>\r\n     <use style=\"fill:#ff7f0e;stroke:#ff7f0e;\" x=\"42.143182\" xlink:href=\"#m6c623988a6\" y=\"120.050034\"/>\r\n     <use style=\"fill:#ff7f0e;stroke:#ff7f0e;\" x=\"42.143182\" xlink:href=\"#m6c623988a6\" y=\"132.701195\"/>\r\n     <use style=\"fill:#ff7f0e;stroke:#ff7f0e;\" x=\"42.143182\" xlink:href=\"#m6c623988a6\" y=\"110.561663\"/>\r\n     <use style=\"fill:#ff7f0e;stroke:#ff7f0e;\" x=\"42.143182\" xlink:href=\"#m6c623988a6\" y=\"99.667607\"/>\r\n     <use style=\"fill:#ff7f0e;stroke:#ff7f0e;\" x=\"42.143182\" xlink:href=\"#m6c623988a6\" y=\"117.590086\"/>\r\n     <use style=\"fill:#ff7f0e;stroke:#ff7f0e;\" x=\"346.506818\" xlink:href=\"#m6c623988a6\" y=\"117.238665\"/>\r\n     <use style=\"fill:#ff7f0e;stroke:#ff7f0e;\" x=\"42.143182\" xlink:href=\"#m6c623988a6\" y=\"125.321351\"/>\r\n     <use style=\"fill:#ff7f0e;stroke:#ff7f0e;\" x=\"42.143182\" xlink:href=\"#m6c623988a6\" y=\"17.083636\"/>\r\n     <use style=\"fill:#ff7f0e;stroke:#ff7f0e;\" x=\"346.506818\" xlink:href=\"#m6c623988a6\" y=\"17.083636\"/>\r\n     <use style=\"fill:#ff7f0e;stroke:#ff7f0e;\" x=\"346.506818\" xlink:href=\"#m6c623988a6\" y=\"111.967347\"/>\r\n     <use style=\"fill:#ff7f0e;stroke:#ff7f0e;\" x=\"42.143182\" xlink:href=\"#m6c623988a6\" y=\"155.894991\"/>\r\n     <use style=\"fill:#ff7f0e;stroke:#ff7f0e;\" x=\"42.143182\" xlink:href=\"#m6c623988a6\" y=\"130.241247\"/>\r\n     <use style=\"fill:#ff7f0e;stroke:#ff7f0e;\" x=\"42.143182\" xlink:href=\"#m6c623988a6\" y=\"154.489307\"/>\r\n     <use style=\"fill:#ff7f0e;stroke:#ff7f0e;\" x=\"42.143182\" xlink:href=\"#m6c623988a6\" y=\"118.99577\"/>\r\n     <use style=\"fill:#ff7f0e;stroke:#ff7f0e;\" x=\"42.143182\" xlink:href=\"#m6c623988a6\" y=\"144.298093\"/>\r\n     <use style=\"fill:#ff7f0e;stroke:#ff7f0e;\" x=\"42.143182\" xlink:href=\"#m6c623988a6\" y=\"155.894991\"/>\r\n     <use style=\"fill:#ff7f0e;stroke:#ff7f0e;\" x=\"42.143182\" xlink:href=\"#m6c623988a6\" y=\"114.778717\"/>\r\n     <use style=\"fill:#ff7f0e;stroke:#ff7f0e;\" x=\"42.143182\" xlink:href=\"#m6c623988a6\" y=\"85.610761\"/>\r\n     <use style=\"fill:#ff7f0e;stroke:#ff7f0e;\" x=\"42.143182\" xlink:href=\"#m6c623988a6\" y=\"124.618509\"/>\r\n     <use style=\"fill:#ff7f0e;stroke:#ff7f0e;\" x=\"346.506818\" xlink:href=\"#m6c623988a6\" y=\"137.972513\"/>\r\n     <use style=\"fill:#ff7f0e;stroke:#ff7f0e;\" x=\"42.143182\" xlink:href=\"#m6c623988a6\" y=\"121.80714\"/>\r\n     <use style=\"fill:#ff7f0e;stroke:#ff7f0e;\" x=\"42.143182\" xlink:href=\"#m6c623988a6\" y=\"124.96993\"/>\r\n     <use style=\"fill:#ff7f0e;stroke:#ff7f0e;\" x=\"42.143182\" xlink:href=\"#m6c623988a6\" y=\"71.202494\"/>\r\n     <use style=\"fill:#ff7f0e;stroke:#ff7f0e;\" x=\"346.506818\" xlink:href=\"#m6c623988a6\" y=\"17.083636\"/>\r\n     <use style=\"fill:#ff7f0e;stroke:#ff7f0e;\" x=\"42.143182\" xlink:href=\"#m6c623988a6\" y=\"108.453136\"/>\r\n     <use style=\"fill:#ff7f0e;stroke:#ff7f0e;\" x=\"42.143182\" xlink:href=\"#m6c623988a6\" y=\"127.078457\"/>\r\n     <use style=\"fill:#ff7f0e;stroke:#ff7f0e;\" x=\"42.143182\" xlink:href=\"#m6c623988a6\" y=\"123.212824\"/>\r\n     <use style=\"fill:#ff7f0e;stroke:#ff7f0e;\" x=\"42.143182\" xlink:href=\"#m6c623988a6\" y=\"113.724453\"/>\r\n     <use style=\"fill:#ff7f0e;stroke:#ff7f0e;\" x=\"42.143182\" xlink:href=\"#m6c623988a6\" y=\"146.055199\"/>\r\n     <use style=\"fill:#ff7f0e;stroke:#ff7f0e;\" x=\"346.506818\" xlink:href=\"#m6c623988a6\" y=\"17.083636\"/>\r\n     <use style=\"fill:#ff7f0e;stroke:#ff7f0e;\" x=\"42.143182\" xlink:href=\"#m6c623988a6\" y=\"151.326516\"/>\r\n     <use style=\"fill:#ff7f0e;stroke:#ff7f0e;\" x=\"42.143182\" xlink:href=\"#m6c623988a6\" y=\"154.137886\"/>\r\n     <use style=\"fill:#ff7f0e;stroke:#ff7f0e;\" x=\"42.143182\" xlink:href=\"#m6c623988a6\" y=\"109.507399\"/>\r\n     <use style=\"fill:#ff7f0e;stroke:#ff7f0e;\" x=\"42.143182\" xlink:href=\"#m6c623988a6\" y=\"68.391125\"/>\r\n     <use style=\"fill:#ff7f0e;stroke:#ff7f0e;\" x=\"42.143182\" xlink:href=\"#m6c623988a6\" y=\"139.378197\"/>\r\n     <use style=\"fill:#ff7f0e;stroke:#ff7f0e;\" x=\"42.143182\" xlink:href=\"#m6c623988a6\" y=\"107.047451\"/>\r\n     <use style=\"fill:#ff7f0e;stroke:#ff7f0e;\" x=\"42.143182\" xlink:href=\"#m6c623988a6\" y=\"75.419548\"/>\r\n     <use style=\"fill:#ff7f0e;stroke:#ff7f0e;\" x=\"42.143182\" xlink:href=\"#m6c623988a6\" y=\"81.745128\"/>\r\n     <use style=\"fill:#ff7f0e;stroke:#ff7f0e;\" x=\"42.143182\" xlink:href=\"#m6c623988a6\" y=\"145.703778\"/>\r\n     <use style=\"fill:#ff7f0e;stroke:#ff7f0e;\" x=\"42.143182\" xlink:href=\"#m6c623988a6\" y=\"70.14823\"/>\r\n     <use style=\"fill:#ff7f0e;stroke:#ff7f0e;\" x=\"42.143182\" xlink:href=\"#m6c623988a6\" y=\"142.189566\"/>\r\n     <use style=\"fill:#ff7f0e;stroke:#ff7f0e;\" x=\"42.143182\" xlink:href=\"#m6c623988a6\" y=\"68.391125\"/>\r\n     <use style=\"fill:#ff7f0e;stroke:#ff7f0e;\" x=\"42.143182\" xlink:href=\"#m6c623988a6\" y=\"103.884661\"/>\r\n     <use style=\"fill:#ff7f0e;stroke:#ff7f0e;\" x=\"42.143182\" xlink:href=\"#m6c623988a6\" y=\"128.484142\"/>\r\n     <use style=\"fill:#ff7f0e;stroke:#ff7f0e;\" x=\"42.143182\" xlink:href=\"#m6c623988a6\" y=\"134.458301\"/>\r\n    </g>\r\n   </g>\r\n   <g id=\"matplotlib.axis_1\">\r\n    <g id=\"xtick_1\">\r\n     <g id=\"line2d_1\">\r\n      <defs>\r\n       <path d=\"M 0 0 \r\nL 0 3.5 \r\n\" id=\"m1b1854a840\" style=\"stroke:#000000;stroke-width:0.8;\"/>\r\n      </defs>\r\n      <g>\r\n       <use style=\"stroke:#000000;stroke-width:0.8;\" x=\"42.143182\" xlink:href=\"#m1b1854a840\" y=\"224.64\"/>\r\n      </g>\r\n     </g>\r\n     <g id=\"text_1\">\r\n      <!-- 0.0 -->\r\n      <g transform=\"translate(34.191619 239.238437)scale(0.1 -0.1)\">\r\n       <defs>\r\n        <path d=\"M 2034 4250 \r\nQ 1547 4250 1301 3770 \r\nQ 1056 3291 1056 2328 \r\nQ 1056 1369 1301 889 \r\nQ 1547 409 2034 409 \r\nQ 2525 409 2770 889 \r\nQ 3016 1369 3016 2328 \r\nQ 3016 3291 2770 3770 \r\nQ 2525 4250 2034 4250 \r\nz\r\nM 2034 4750 \r\nQ 2819 4750 3233 4129 \r\nQ 3647 3509 3647 2328 \r\nQ 3647 1150 3233 529 \r\nQ 2819 -91 2034 -91 \r\nQ 1250 -91 836 529 \r\nQ 422 1150 422 2328 \r\nQ 422 3509 836 4129 \r\nQ 1250 4750 2034 4750 \r\nz\r\n\" id=\"DejaVuSans-30\" transform=\"scale(0.015625)\"/>\r\n        <path d=\"M 684 794 \r\nL 1344 794 \r\nL 1344 0 \r\nL 684 0 \r\nL 684 794 \r\nz\r\n\" id=\"DejaVuSans-2e\" transform=\"scale(0.015625)\"/>\r\n       </defs>\r\n       <use xlink:href=\"#DejaVuSans-30\"/>\r\n       <use x=\"63.623047\" xlink:href=\"#DejaVuSans-2e\"/>\r\n       <use x=\"95.410156\" xlink:href=\"#DejaVuSans-30\"/>\r\n      </g>\r\n     </g>\r\n    </g>\r\n    <g id=\"xtick_2\">\r\n     <g id=\"line2d_2\">\r\n      <g>\r\n       <use style=\"stroke:#000000;stroke-width:0.8;\" x=\"103.015909\" xlink:href=\"#m1b1854a840\" y=\"224.64\"/>\r\n      </g>\r\n     </g>\r\n     <g id=\"text_2\">\r\n      <!-- 0.2 -->\r\n      <g transform=\"translate(95.064347 239.238437)scale(0.1 -0.1)\">\r\n       <defs>\r\n        <path d=\"M 1228 531 \r\nL 3431 531 \r\nL 3431 0 \r\nL 469 0 \r\nL 469 531 \r\nQ 828 903 1448 1529 \r\nQ 2069 2156 2228 2338 \r\nQ 2531 2678 2651 2914 \r\nQ 2772 3150 2772 3378 \r\nQ 2772 3750 2511 3984 \r\nQ 2250 4219 1831 4219 \r\nQ 1534 4219 1204 4116 \r\nQ 875 4013 500 3803 \r\nL 500 4441 \r\nQ 881 4594 1212 4672 \r\nQ 1544 4750 1819 4750 \r\nQ 2544 4750 2975 4387 \r\nQ 3406 4025 3406 3419 \r\nQ 3406 3131 3298 2873 \r\nQ 3191 2616 2906 2266 \r\nQ 2828 2175 2409 1742 \r\nQ 1991 1309 1228 531 \r\nz\r\n\" id=\"DejaVuSans-32\" transform=\"scale(0.015625)\"/>\r\n       </defs>\r\n       <use xlink:href=\"#DejaVuSans-30\"/>\r\n       <use x=\"63.623047\" xlink:href=\"#DejaVuSans-2e\"/>\r\n       <use x=\"95.410156\" xlink:href=\"#DejaVuSans-32\"/>\r\n      </g>\r\n     </g>\r\n    </g>\r\n    <g id=\"xtick_3\">\r\n     <g id=\"line2d_3\">\r\n      <g>\r\n       <use style=\"stroke:#000000;stroke-width:0.8;\" x=\"163.888636\" xlink:href=\"#m1b1854a840\" y=\"224.64\"/>\r\n      </g>\r\n     </g>\r\n     <g id=\"text_3\">\r\n      <!-- 0.4 -->\r\n      <g transform=\"translate(155.937074 239.238437)scale(0.1 -0.1)\">\r\n       <defs>\r\n        <path d=\"M 2419 4116 \r\nL 825 1625 \r\nL 2419 1625 \r\nL 2419 4116 \r\nz\r\nM 2253 4666 \r\nL 3047 4666 \r\nL 3047 1625 \r\nL 3713 1625 \r\nL 3713 1100 \r\nL 3047 1100 \r\nL 3047 0 \r\nL 2419 0 \r\nL 2419 1100 \r\nL 313 1100 \r\nL 313 1709 \r\nL 2253 4666 \r\nz\r\n\" id=\"DejaVuSans-34\" transform=\"scale(0.015625)\"/>\r\n       </defs>\r\n       <use xlink:href=\"#DejaVuSans-30\"/>\r\n       <use x=\"63.623047\" xlink:href=\"#DejaVuSans-2e\"/>\r\n       <use x=\"95.410156\" xlink:href=\"#DejaVuSans-34\"/>\r\n      </g>\r\n     </g>\r\n    </g>\r\n    <g id=\"xtick_4\">\r\n     <g id=\"line2d_4\">\r\n      <g>\r\n       <use style=\"stroke:#000000;stroke-width:0.8;\" x=\"224.761364\" xlink:href=\"#m1b1854a840\" y=\"224.64\"/>\r\n      </g>\r\n     </g>\r\n     <g id=\"text_4\">\r\n      <!-- 0.6 -->\r\n      <g transform=\"translate(216.809801 239.238437)scale(0.1 -0.1)\">\r\n       <defs>\r\n        <path d=\"M 2113 2584 \r\nQ 1688 2584 1439 2293 \r\nQ 1191 2003 1191 1497 \r\nQ 1191 994 1439 701 \r\nQ 1688 409 2113 409 \r\nQ 2538 409 2786 701 \r\nQ 3034 994 3034 1497 \r\nQ 3034 2003 2786 2293 \r\nQ 2538 2584 2113 2584 \r\nz\r\nM 3366 4563 \r\nL 3366 3988 \r\nQ 3128 4100 2886 4159 \r\nQ 2644 4219 2406 4219 \r\nQ 1781 4219 1451 3797 \r\nQ 1122 3375 1075 2522 \r\nQ 1259 2794 1537 2939 \r\nQ 1816 3084 2150 3084 \r\nQ 2853 3084 3261 2657 \r\nQ 3669 2231 3669 1497 \r\nQ 3669 778 3244 343 \r\nQ 2819 -91 2113 -91 \r\nQ 1303 -91 875 529 \r\nQ 447 1150 447 2328 \r\nQ 447 3434 972 4092 \r\nQ 1497 4750 2381 4750 \r\nQ 2619 4750 2861 4703 \r\nQ 3103 4656 3366 4563 \r\nz\r\n\" id=\"DejaVuSans-36\" transform=\"scale(0.015625)\"/>\r\n       </defs>\r\n       <use xlink:href=\"#DejaVuSans-30\"/>\r\n       <use x=\"63.623047\" xlink:href=\"#DejaVuSans-2e\"/>\r\n       <use x=\"95.410156\" xlink:href=\"#DejaVuSans-36\"/>\r\n      </g>\r\n     </g>\r\n    </g>\r\n    <g id=\"xtick_5\">\r\n     <g id=\"line2d_5\">\r\n      <g>\r\n       <use style=\"stroke:#000000;stroke-width:0.8;\" x=\"285.634091\" xlink:href=\"#m1b1854a840\" y=\"224.64\"/>\r\n      </g>\r\n     </g>\r\n     <g id=\"text_5\">\r\n      <!-- 0.8 -->\r\n      <g transform=\"translate(277.682528 239.238437)scale(0.1 -0.1)\">\r\n       <defs>\r\n        <path d=\"M 2034 2216 \r\nQ 1584 2216 1326 1975 \r\nQ 1069 1734 1069 1313 \r\nQ 1069 891 1326 650 \r\nQ 1584 409 2034 409 \r\nQ 2484 409 2743 651 \r\nQ 3003 894 3003 1313 \r\nQ 3003 1734 2745 1975 \r\nQ 2488 2216 2034 2216 \r\nz\r\nM 1403 2484 \r\nQ 997 2584 770 2862 \r\nQ 544 3141 544 3541 \r\nQ 544 4100 942 4425 \r\nQ 1341 4750 2034 4750 \r\nQ 2731 4750 3128 4425 \r\nQ 3525 4100 3525 3541 \r\nQ 3525 3141 3298 2862 \r\nQ 3072 2584 2669 2484 \r\nQ 3125 2378 3379 2068 \r\nQ 3634 1759 3634 1313 \r\nQ 3634 634 3220 271 \r\nQ 2806 -91 2034 -91 \r\nQ 1263 -91 848 271 \r\nQ 434 634 434 1313 \r\nQ 434 1759 690 2068 \r\nQ 947 2378 1403 2484 \r\nz\r\nM 1172 3481 \r\nQ 1172 3119 1398 2916 \r\nQ 1625 2713 2034 2713 \r\nQ 2441 2713 2670 2916 \r\nQ 2900 3119 2900 3481 \r\nQ 2900 3844 2670 4047 \r\nQ 2441 4250 2034 4250 \r\nQ 1625 4250 1398 4047 \r\nQ 1172 3844 1172 3481 \r\nz\r\n\" id=\"DejaVuSans-38\" transform=\"scale(0.015625)\"/>\r\n       </defs>\r\n       <use xlink:href=\"#DejaVuSans-30\"/>\r\n       <use x=\"63.623047\" xlink:href=\"#DejaVuSans-2e\"/>\r\n       <use x=\"95.410156\" xlink:href=\"#DejaVuSans-38\"/>\r\n      </g>\r\n     </g>\r\n    </g>\r\n    <g id=\"xtick_6\">\r\n     <g id=\"line2d_6\">\r\n      <g>\r\n       <use style=\"stroke:#000000;stroke-width:0.8;\" x=\"346.506818\" xlink:href=\"#m1b1854a840\" y=\"224.64\"/>\r\n      </g>\r\n     </g>\r\n     <g id=\"text_6\">\r\n      <!-- 1.0 -->\r\n      <g transform=\"translate(338.555256 239.238437)scale(0.1 -0.1)\">\r\n       <defs>\r\n        <path d=\"M 794 531 \r\nL 1825 531 \r\nL 1825 4091 \r\nL 703 3866 \r\nL 703 4441 \r\nL 1819 4666 \r\nL 2450 4666 \r\nL 2450 531 \r\nL 3481 531 \r\nL 3481 0 \r\nL 794 0 \r\nL 794 531 \r\nz\r\n\" id=\"DejaVuSans-31\" transform=\"scale(0.015625)\"/>\r\n       </defs>\r\n       <use xlink:href=\"#DejaVuSans-31\"/>\r\n       <use x=\"63.623047\" xlink:href=\"#DejaVuSans-2e\"/>\r\n       <use x=\"95.410156\" xlink:href=\"#DejaVuSans-30\"/>\r\n      </g>\r\n     </g>\r\n    </g>\r\n   </g>\r\n   <g id=\"matplotlib.axis_2\">\r\n    <g id=\"ytick_1\">\r\n     <g id=\"line2d_7\">\r\n      <defs>\r\n       <path d=\"M 0 0 \r\nL -3.5 0 \r\n\" id=\"me422d20fd5\" style=\"stroke:#000000;stroke-width:0.8;\"/>\r\n      </defs>\r\n      <g>\r\n       <use style=\"stroke:#000000;stroke-width:0.8;\" x=\"26.925\" xlink:href=\"#me422d20fd5\" y=\"192.794212\"/>\r\n      </g>\r\n     </g>\r\n     <g id=\"text_7\">\r\n      <!-- 0 -->\r\n      <g transform=\"translate(13.5625 196.593431)scale(0.1 -0.1)\">\r\n       <use xlink:href=\"#DejaVuSans-30\"/>\r\n      </g>\r\n     </g>\r\n    </g>\r\n    <g id=\"ytick_2\">\r\n     <g id=\"line2d_8\">\r\n      <g>\r\n       <use style=\"stroke:#000000;stroke-width:0.8;\" x=\"26.925\" xlink:href=\"#me422d20fd5\" y=\"157.652097\"/>\r\n      </g>\r\n     </g>\r\n     <g id=\"text_8\">\r\n      <!-- 10 -->\r\n      <g transform=\"translate(7.2 161.451316)scale(0.1 -0.1)\">\r\n       <use xlink:href=\"#DejaVuSans-31\"/>\r\n       <use x=\"63.623047\" xlink:href=\"#DejaVuSans-30\"/>\r\n      </g>\r\n     </g>\r\n    </g>\r\n    <g id=\"ytick_3\">\r\n     <g id=\"line2d_9\">\r\n      <g>\r\n       <use style=\"stroke:#000000;stroke-width:0.8;\" x=\"26.925\" xlink:href=\"#me422d20fd5\" y=\"122.509982\"/>\r\n      </g>\r\n     </g>\r\n     <g id=\"text_9\">\r\n      <!-- 20 -->\r\n      <g transform=\"translate(7.2 126.309201)scale(0.1 -0.1)\">\r\n       <use xlink:href=\"#DejaVuSans-32\"/>\r\n       <use x=\"63.623047\" xlink:href=\"#DejaVuSans-30\"/>\r\n      </g>\r\n     </g>\r\n    </g>\r\n    <g id=\"ytick_4\">\r\n     <g id=\"line2d_10\">\r\n      <g>\r\n       <use style=\"stroke:#000000;stroke-width:0.8;\" x=\"26.925\" xlink:href=\"#me422d20fd5\" y=\"87.367867\"/>\r\n      </g>\r\n     </g>\r\n     <g id=\"text_10\">\r\n      <!-- 30 -->\r\n      <g transform=\"translate(7.2 91.167086)scale(0.1 -0.1)\">\r\n       <defs>\r\n        <path d=\"M 2597 2516 \r\nQ 3050 2419 3304 2112 \r\nQ 3559 1806 3559 1356 \r\nQ 3559 666 3084 287 \r\nQ 2609 -91 1734 -91 \r\nQ 1441 -91 1130 -33 \r\nQ 819 25 488 141 \r\nL 488 750 \r\nQ 750 597 1062 519 \r\nQ 1375 441 1716 441 \r\nQ 2309 441 2620 675 \r\nQ 2931 909 2931 1356 \r\nQ 2931 1769 2642 2001 \r\nQ 2353 2234 1838 2234 \r\nL 1294 2234 \r\nL 1294 2753 \r\nL 1863 2753 \r\nQ 2328 2753 2575 2939 \r\nQ 2822 3125 2822 3475 \r\nQ 2822 3834 2567 4026 \r\nQ 2313 4219 1838 4219 \r\nQ 1578 4219 1281 4162 \r\nQ 984 4106 628 3988 \r\nL 628 4550 \r\nQ 988 4650 1302 4700 \r\nQ 1616 4750 1894 4750 \r\nQ 2613 4750 3031 4423 \r\nQ 3450 4097 3450 3541 \r\nQ 3450 3153 3228 2886 \r\nQ 3006 2619 2597 2516 \r\nz\r\n\" id=\"DejaVuSans-33\" transform=\"scale(0.015625)\"/>\r\n       </defs>\r\n       <use xlink:href=\"#DejaVuSans-33\"/>\r\n       <use x=\"63.623047\" xlink:href=\"#DejaVuSans-30\"/>\r\n      </g>\r\n     </g>\r\n    </g>\r\n    <g id=\"ytick_5\">\r\n     <g id=\"line2d_11\">\r\n      <g>\r\n       <use style=\"stroke:#000000;stroke-width:0.8;\" x=\"26.925\" xlink:href=\"#me422d20fd5\" y=\"52.225752\"/>\r\n      </g>\r\n     </g>\r\n     <g id=\"text_11\">\r\n      <!-- 40 -->\r\n      <g transform=\"translate(7.2 56.02497)scale(0.1 -0.1)\">\r\n       <use xlink:href=\"#DejaVuSans-34\"/>\r\n       <use x=\"63.623047\" xlink:href=\"#DejaVuSans-30\"/>\r\n      </g>\r\n     </g>\r\n    </g>\r\n    <g id=\"ytick_6\">\r\n     <g id=\"line2d_12\">\r\n      <g>\r\n       <use style=\"stroke:#000000;stroke-width:0.8;\" x=\"26.925\" xlink:href=\"#me422d20fd5\" y=\"17.083636\"/>\r\n      </g>\r\n     </g>\r\n     <g id=\"text_12\">\r\n      <!-- 50 -->\r\n      <g transform=\"translate(7.2 20.882855)scale(0.1 -0.1)\">\r\n       <defs>\r\n        <path d=\"M 691 4666 \r\nL 3169 4666 \r\nL 3169 4134 \r\nL 1269 4134 \r\nL 1269 2991 \r\nQ 1406 3038 1543 3061 \r\nQ 1681 3084 1819 3084 \r\nQ 2600 3084 3056 2656 \r\nQ 3513 2228 3513 1497 \r\nQ 3513 744 3044 326 \r\nQ 2575 -91 1722 -91 \r\nQ 1428 -91 1123 -41 \r\nQ 819 9 494 109 \r\nL 494 744 \r\nQ 775 591 1075 516 \r\nQ 1375 441 1709 441 \r\nQ 2250 441 2565 725 \r\nQ 2881 1009 2881 1497 \r\nQ 2881 1984 2565 2268 \r\nQ 2250 2553 1709 2553 \r\nQ 1456 2553 1204 2497 \r\nQ 953 2441 691 2322 \r\nL 691 4666 \r\nz\r\n\" id=\"DejaVuSans-35\" transform=\"scale(0.015625)\"/>\r\n       </defs>\r\n       <use xlink:href=\"#DejaVuSans-35\"/>\r\n       <use x=\"63.623047\" xlink:href=\"#DejaVuSans-30\"/>\r\n      </g>\r\n     </g>\r\n    </g>\r\n   </g>\r\n   <g id=\"patch_3\">\r\n    <path d=\"M 26.925 224.64 \r\nL 26.925 7.2 \r\n\" style=\"fill:none;stroke:#000000;stroke-linecap:square;stroke-linejoin:miter;stroke-width:0.8;\"/>\r\n   </g>\r\n   <g id=\"patch_4\">\r\n    <path d=\"M 361.725 224.64 \r\nL 361.725 7.2 \r\n\" style=\"fill:none;stroke:#000000;stroke-linecap:square;stroke-linejoin:miter;stroke-width:0.8;\"/>\r\n   </g>\r\n   <g id=\"patch_5\">\r\n    <path d=\"M 26.925 224.64 \r\nL 361.725 224.64 \r\n\" style=\"fill:none;stroke:#000000;stroke-linecap:square;stroke-linejoin:miter;stroke-width:0.8;\"/>\r\n   </g>\r\n   <g id=\"patch_6\">\r\n    <path d=\"M 26.925 7.2 \r\nL 361.725 7.2 \r\n\" style=\"fill:none;stroke:#000000;stroke-linecap:square;stroke-linejoin:miter;stroke-width:0.8;\"/>\r\n   </g>\r\n  </g>\r\n </g>\r\n <defs>\r\n  <clipPath id=\"p7e30512ec8\">\r\n   <rect height=\"217.44\" width=\"334.8\" x=\"26.925\" y=\"7.2\"/>\r\n  </clipPath>\r\n </defs>\r\n</svg>\r\n",
      "image/png": "[encoded data removed]"
     },
     "metadata": {
      "needs_background": "light"
     }
    }
   ],
   "source": [
    "plt.scatter(X_test[3],Y_pred)\n",
    "plt.scatter(X_test[3],Y_test)\n",
    "plt.show()"
   ]
  },
  {
   "cell_type": "code",
   "execution_count": 44,
   "metadata": {},
   "outputs": [],
   "source": [
    "#task 2 logistic regression\n",
    "dataset=pd.read_csv('Social_Network_Ads.csv')"
   ]
  },
  {
   "cell_type": "code",
   "execution_count": 45,
   "metadata": {},
   "outputs": [
    {
     "output_type": "execute_result",
     "data": {
      "text/plain": [
       "    User ID  Gender  Age  EstimatedSalary  Purchased\n",
       "0  15624510    Male   19            19000          0\n",
       "1  15810944    Male   35            20000          0\n",
       "2  15668575  Female   26            43000          0\n",
       "3  15603246  Female   27            57000          0\n",
       "4  15804002    Male   19            76000          0"
      ],
      "text/html": "<div>\n<style scoped>\n    .dataframe tbody tr th:only-of-type {\n        vertical-align: middle;\n    }\n\n    .dataframe tbody tr th {\n        vertical-align: top;\n    }\n\n    .dataframe thead th {\n        text-align: right;\n    }\n</style>\n<table border=\"1\" class=\"dataframe\">\n  <thead>\n    <tr style=\"text-align: right;\">\n      <th></th>\n      <th>User ID</th>\n      <th>Gender</th>\n      <th>Age</th>\n      <th>EstimatedSalary</th>\n      <th>Purchased</th>\n    </tr>\n  </thead>\n  <tbody>\n    <tr>\n      <th>0</th>\n      <td>15624510</td>\n      <td>Male</td>\n      <td>19</td>\n      <td>19000</td>\n      <td>0</td>\n    </tr>\n    <tr>\n      <th>1</th>\n      <td>15810944</td>\n      <td>Male</td>\n      <td>35</td>\n      <td>20000</td>\n      <td>0</td>\n    </tr>\n    <tr>\n      <th>2</th>\n      <td>15668575</td>\n      <td>Female</td>\n      <td>26</td>\n      <td>43000</td>\n      <td>0</td>\n    </tr>\n    <tr>\n      <th>3</th>\n      <td>15603246</td>\n      <td>Female</td>\n      <td>27</td>\n      <td>57000</td>\n      <td>0</td>\n    </tr>\n    <tr>\n      <th>4</th>\n      <td>15804002</td>\n      <td>Male</td>\n      <td>19</td>\n      <td>76000</td>\n      <td>0</td>\n    </tr>\n  </tbody>\n</table>\n</div>"
     },
     "metadata": {},
     "execution_count": 45
    }
   ],
   "source": [
    "dataset.head()"
   ]
  },
  {
   "cell_type": "code",
   "execution_count": 47,
   "metadata": {},
   "outputs": [
    {
     "output_type": "stream",
     "name": "stdout",
     "text": [
      "[[   19 19000]\n [   35 20000]\n [   26 43000]\n [   27 57000]\n [   19 76000]]\n"
     ]
    }
   ],
   "source": [
    "X=dataset.iloc[:,[2,3]].values\n",
    "Y=dataset.iloc[:,4].values\n",
    "print(X[0:5])"
   ]
  },
  {
   "cell_type": "code",
   "execution_count": 59,
   "metadata": {},
   "outputs": [],
   "source": [
    "from sklearn.model_selection import train_test_split\n",
    "X_train, X_test, Y_train, Y_test = sklearn.model_selection.train_test_split(X,Y,test_size=0.25,random_state=0)\n",
    "#feature scaling is important, something ranges in 1000s somethni gin 10s, so we need a uniform thing... thats like activation function only right? min max std or sigmoid?"
   ]
  },
  {
   "cell_type": "code",
   "execution_count": 61,
   "metadata": {},
   "outputs": [
    {
     "output_type": "execute_result",
     "data": {
      "text/plain": [
       "array([[ 0.58164944, -0.88670699],\n",
       "       [-0.60673761,  1.46173768],\n",
       "       [-0.01254409, -0.5677824 ],\n",
       "       [-0.60673761,  1.89663484],\n",
       "       [ 1.37390747, -1.40858358]])"
      ]
     },
     "metadata": {},
     "execution_count": 61
    }
   ],
   "source": [
    "from sklearn.preprocessing import StandardScaler\n",
    "sc=StandardScaler()\n",
    "X_train = sc.fit_transform(X_train)\n",
    "X_test = sc.transform(X_test)\n",
    "X_train[0:5,]"
   ]
  },
  {
   "cell_type": "code",
   "execution_count": 62,
   "metadata": {},
   "outputs": [
    {
     "output_type": "execute_result",
     "data": {
      "text/plain": [
       "LogisticRegression(random_state=0)"
      ]
     },
     "metadata": {},
     "execution_count": 62
    }
   ],
   "source": [
    "from sklearn.linear_model import LogisticRegression\n",
    "classifier=LogisticRegression(random_state=0)\n",
    "classifier.fit(X_train, Y_train)"
   ]
  },
  {
   "cell_type": "code",
   "execution_count": 65,
   "metadata": {},
   "outputs": [
    {
     "output_type": "stream",
     "name": "stdout",
     "text": [
      "    0\n0   0\n0   0\n0   0\n0   0\n0   0\n.. ..\n1   0\n0   0\n1   0\n1   1\n1   1\n\n[100 rows x 1 columns]\n"
     ]
    }
   ],
   "source": [
    "Y_test_pred = classifier.predict(X_test)\n",
    "df=pd.DataFrame(Y_test_pred, Y_test)\n",
    "print(df)"
   ]
  },
  {
   "cell_type": "code",
   "execution_count": 66,
   "metadata": {},
   "outputs": [
    {
     "output_type": "execute_result",
     "data": {
      "text/plain": [
       "array([[65,  3],\n",
       "       [ 8, 24]], dtype=int64)"
      ]
     },
     "metadata": {},
     "execution_count": 66
    }
   ],
   "source": [
    "from sklearn.metrics import confusion_matrix\n",
    "cm = confusion_matrix(Y_test, Y_test_pred)\n",
    "cm"
   ]
  },
  {
   "cell_type": "code",
   "execution_count": null,
   "metadata": {},
   "outputs": [],
   "source": []
  }
 ]
}