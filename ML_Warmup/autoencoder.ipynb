{
    "cells": [
        {
            "cell_type": "code",
            "execution_count": null,
            "metadata": {},
            "outputs": [],
            "source": [
                "import numpy as np\n",
                "import matplotlib.pyplot as plt\n",
                "import tensorflow as tf\n",
                "import pandas as pd\n",
                "\n",
                "from sklearn.metrics import accuracy_score,precision_score,recall_score\n",
                "from sklearn.model_selection import train_test_split\n",
                "from tensorflow.keras import layers,losses\n",
                "from tensorflow.keras.datasets import fashion_mnist\n",
                "from tensorflow.keras.models import Model"
            ]
        },
        {
            "cell_type": "code",
            "execution_count": null,
            "metadata": {},
            "outputs": [],
            "source": [
                "(x_train,_),(x_test,_)=fashion_mnist.load_data()\n",
                "x_train=x_train.astype('float32')/255\n",
                "x_test=x_test.astype('float32')/255\n",
                "print (x_train.shape)\n",
                "print (x_test.shape)"
            ]
        },
        {
            "cell_type": "code",
            "execution_count": null,
            "metadata": {},
            "outputs": [],
            "source": [
                "fig,ax=plt.subplots(2,7)\n",
                "i=0\n",
                "j=0\n",
                "for el in x_train[0:14]:\n",
                "    ax[j][i].imshow(el, cmap=plt.get_cmap('gray'))\n",
                "    i+=1\n",
                "    if(i==7):\n",
                "        j+=1\n",
                "        i=0"
            ]
        },
        {
            "cell_type": "code",
            "execution_count": null,
            "metadata": {},
            "outputs": [],
            "source": [
                "#autoencoders: extract features from a sample space, and then decode to reproduce the results\n",
                "#here latent dimension is 64\n",
                "latent_dim=64\n",
                "input_im=tf.keras.Input(shape=(28,28,1))\n",
                "encoder=tf.keras.Sequential([layers.Flatten(),layers.Dense(latent_dim,activation='relu')])\n",
                "decoder=tf.keras.Sequential([layers.Dense(784,activation='sigmoid'),layers.Reshape((28,28))])\n",
                "def autoenc(x_arr):\n",
                "    feature=encoder(x_arr)\n",
                "    output=decoder(feature)\n",
                "    return output\n",
                "model=Model(input_im,autoenc(input_im))\n",
                "model.compile(optimizer='adam', loss=losses.MeanSquaredError())\n"
            ]
        },
        {
            "cell_type": "code",
            "execution_count": null,
            "metadata": {},
            "outputs": [],
            "source": [
                "conv_encoder = tf.keras.Sequential([layers.Input(shape=(28, 28, 1)),layers.Conv2D(16, (3, 3), activation='relu', padding='same', strides=2),\n",
                "    layers.Conv2D(8, (3, 3), activation='relu', padding='same', strides=2)])\n",
                "\n",
                "conv_decoder = tf.keras.Sequential([layers.Conv2DTranspose(8, kernel_size=3, strides=2, activation='relu', padding='same'),\n",
                "    layers.Conv2DTranspose(16, kernel_size=3, strides=2, activation='relu', padding='same'),\n",
                "    layers.Conv2D(1, kernel_size=(3, 3), activation='sigmoid', padding='same')])\n",
                "\n",
                "def conv_autoenc(x):\n",
                "    encoded = conv_encoder(x)\n",
                "    decoded = conv_decoder(encoded)\n",
                "    return decoded\n",
                "\n",
                "conv_model=Model(input_im,conv_autoenc(input_im))\n",
                "conv_model.compile(optimizer='adam', loss=losses.MeanSquaredError())"
            ]
        },
        {
            "cell_type": "code",
            "execution_count": null,
            "metadata": {},
            "outputs": [],
            "source": [
                "#model.summary()\n",
                "conv_model.summary()"
            ]
        },
        {
            "cell_type": "code",
            "execution_count": null,
            "metadata": {},
            "outputs": [],
            "source": [
                "conv_model.fit(x_train, x_train,epochs=10,shuffle=True,validation_data=(x_test, x_test))"
            ]
        },
        {
            "cell_type": "code",
            "execution_count": null,
            "metadata": {},
            "outputs": [],
            "source": [
                "encoded_imgs = conv_encoder(x_test.reshape(10000,28,28,1)).numpy()\n",
                "decoded_imgs = conv_decoder(encoded_imgs).numpy()"
            ]
        },
        {
            "cell_type": "code",
            "execution_count": null,
            "metadata": {},
            "outputs": [],
            "source": [
                "n = 10\n",
                "plt.figure(figsize=(20, 4))\n",
                "for i in range(n):\n",
                "  # display original\n",
                "  ax = plt.subplot(2, n, i + 1)\n",
                "  plt.imshow(x_test[i])\n",
                "  plt.title(\"original\")\n",
                "  plt.gray()\n",
                "  ax.get_xaxis().set_visible(False)\n",
                "  ax.get_yaxis().set_visible(False)\n",
                "\n",
                "  # display reconstruction\n",
                "  ax = plt.subplot(2, n, i + 1 + n)\n",
                "  plt.imshow(decoded_imgs[i])\n",
                "  plt.title(\"reconstructed\")\n",
                "  plt.gray()\n",
                "  ax.get_xaxis().set_visible(False)\n",
                "  ax.get_yaxis().set_visible(False)\n",
                "plt.show()"
            ]
        },
        {
            "cell_type": "code",
            "execution_count": null,
            "metadata": {},
            "outputs": [],
            "source": [
                "n = 10\n",
                "plt.figure(figsize=(20, 4))\n",
                "print(encoded_imgs)\n",
                "for i in range(n):\n",
                "  # display original\n",
                "  ax = plt.subplot(2, n, i + 1)\n",
                "  plt.plot(encoded_imgs[i])\n",
                "  plt.title(\"features\")\n",
                "  plt.gray()\n",
                "  ax.get_xaxis().set_visible(False)\n",
                "  ax.get_yaxis().set_visible(False)"
            ]
        }
    ],
    "metadata": {
        "interpreter": {
            "hash": "ac59ebe37160ed0dfa835113d9b8498d9f09ceb179beaac4002f036b9467c963"
        },
        "kernelspec": {
            "display_name": "Python 3.9.5 64-bit",
            "name": "python3"
        },
        "language_info": {
            "codemirror_mode": {
                "name": "ipython",
                "version": 3
            },
            "file_extension": ".py",
            "mimetype": "text/x-python",
            "name": "python",
            "nbconvert_exporter": "python",
            "pygments_lexer": "ipython3",
            "version": "3.9.5"
        },
        "orig_nbformat": 4
    },
    "nbformat": 4,
    "nbformat_minor": 2
}
