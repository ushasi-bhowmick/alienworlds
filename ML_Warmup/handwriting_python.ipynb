{
    "cells": [
        {
            "cell_type": "code",
            "execution_count": 2,
            "source": [
                "import numpy as np\r\n",
                "import matplotlib.pyplot as plt\r\n",
                "from keras.datasets import mnist\r\n",
                "import random"
            ],
            "outputs": [],
            "metadata": {}
        },
        {
            "cell_type": "code",
            "execution_count": 3,
            "source": [
                "(train_X, train_y), (test_X, test_y) = mnist.load_data()"
            ],
            "outputs": [],
            "metadata": {}
        },
        {
            "cell_type": "code",
            "execution_count": 5,
            "source": [
                "#get an idea of what data looks like\r\n",
                "print(\"input shape:\",train_X.shape)\r\n",
                "print(\"label shape\",test_y.shape)\r\n",
                "print(train_y[:16])\r\n",
                "fig,ax=plt.subplots(4,4)\r\n",
                "j=0\r\n",
                "k=0\r\n",
                "for i in range(16):  \r\n",
                "    ax[j][k].imshow(train_X[i], cmap=plt.get_cmap('gray'))\r\n",
                "    j+=1\r\n",
                "    if(j==4): \r\n",
                "        j=0\r\n",
                "        k+=1\r\n",
                "plt.show()"
            ],
            "outputs": [
                {
                    "output_type": "stream",
                    "name": "stdout",
                    "text": [
                        "input shape: (60000, 28, 28)\n",
                        "label shape (10000,)\n",
                        "[5 0 4 1 9 2 1 3 1 4 3 5 3 6 1 7]\n"
                    ]
                },
                {
                    "output_type": "display_data",
                    "data": {
                        "text/plain": [
                            "<Figure size 432x288 with 16 Axes>"
                        ],
                        "image/png": "[encoded data removed]"
                    },
                    "metadata": {
                        "needs_background": "light"
                    }
                }
            ],
            "metadata": {}
        },
        {
            "cell_type": "code",
            "execution_count": 43,
            "source": [
                "rand=np.arange(60000)\r\n",
                "np.random.shuffle(rand)\r\n",
                "train_no=rand[:50000]\r\n",
                "val_no=rand[50000:]\r\n",
                "\r\n",
                "X_train,X_val=train_X[train_no,:,:],train_X[val_no,:,:]\r\n",
                "Y_train,Y_val=train_y[train_no],train_y[val_no]"
            ],
            "outputs": [],
            "metadata": {}
        },
        {
            "cell_type": "code",
            "execution_count": 44,
            "source": [
                "#now we need to define our network architecture\r\n",
                "#we need to go from 784 nodes to 128 nodes to 10 nodes. Two random matrices, 784x128 and 128x10 for weights and biases\r\n",
                "def gen_rand_matrix(a,b):\r\n",
                "    mat=np.random.uniform(-1,1,(a,b))*np.sqrt(1/(a*b))\r\n",
                "    return mat.astype(np.float32)\r\n",
                "\r\n",
                "\r\n"
            ],
            "outputs": [],
            "metadata": {}
        },
        {
            "cell_type": "code",
            "execution_count": 56,
            "source": [
                "#define the functions. relu and softmax?\r\n",
                "#Sigmoid funstion\r\n",
                "def reLU(x):\r\n",
                "    return 1/(np.exp(-x)+1)    \r\n",
                "\r\n",
                "#derivative of sigmoid\r\n",
                "def d_reLU(x):\r\n",
                "    return (np.exp(-x))/((np.exp(-x)+1)**2)\r\n",
                "\r\n",
                "def softmax(x):\r\n",
                "    exp_element=np.exp(x-x.max())\r\n",
                "    return exp_element/np.sum(exp_element,axis=0)\r\n",
                "\r\n",
                "#derivative of softmax\r\n",
                "def d_softmax(x):\r\n",
                "    exp_element=np.exp(x-x.max())\r\n",
                "    return exp_element/np.sum(exp_element,axis=0)*(1-exp_element/np.sum(exp_element,axis=0))\r\n"
            ],
            "outputs": [],
            "metadata": {}
        },
        {
            "cell_type": "code",
            "execution_count": 57,
            "source": [
                "loss=[]\r\n",
                "lr=0.001\r\n",
                "random.seed(42)\r\n",
                "lay1=gen_rand_matrix(28*28,128)\r\n",
                "lay2=gen_rand_matrix(128,10)\r\n",
                "b_lay1=np.zeros(128)\r\n",
                "b_lay2=np.zeros(10)\r\n",
                "def forward_backward_pass(x,y):\r\n",
                "    #first convert y into a functioning output, that means not a digit, but an array of 10 bool elements\r\n",
                "    targets = np.zeros((len(y),10), np.float32)\r\n",
                "    targets[range(targets.shape[0]),y] = 1\r\n",
                "    global lay1,lay2,b_lay1,b_lay2\r\n",
                "\r\n",
                "    #foward pass, put the input into the neural net\r\n",
                "    x_ly1=x.dot(lay1)+b_lay1\r\n",
                "    x_relu=reLU(x_ly1)\r\n",
                "    x_ly2=x_relu.dot(lay2)+b_lay2\r\n",
                "    out=softmax(x_ly2)\r\n",
                "    \r\n",
                "    #error in second layer of weights and biases\r\n",
                "    error=2*(out-targets)/out.shape[0]*d_softmax(x_ly2)\r\n",
                "    update_l2=x_relu.T@error\r\n",
                "    update_b2=np.sum(error, axis=0)\r\n",
                "    \r\n",
                "    #error in the first layer of weights and biases\r\n",
                "    error2=((lay2).dot(error.T)).T*d_reLU(x_ly1)\r\n",
                "    update_l1=x.T@error2\r\n",
                "    update_b1=np.sum(error2, axis=0)\r\n",
                "\r\n",
                "    #update stuff\r\n",
                "\r\n",
                "    return out,update_l1,update_l2,update_b1,update_b2"
            ],
            "outputs": [],
            "metadata": {}
        },
        {
            "cell_type": "code",
            "execution_count": 58,
            "source": [
                "epochs=10000\r\n",
                "batch=128\r\n",
                "lr=0.001\r\n",
                "losses,accuracies,val_accuracies=[],[],[]\r\n",
                "\r\n",
                "#we'll try a stochastic gradient descent ... keeping in touch with the old algorithm\r\n",
                "for i in range(epochs):\r\n",
                "    sample=np.random.randint(0,X_train.shape[0],size=(batch))\r\n",
                "    x=X_train[sample].reshape((-1,28*28))\r\n",
                "    y=Y_train[sample]\r\n",
                "    out,update_l1,update_l2,update_b1,update_b2=forward_backward_pass(x,y)\r\n",
                "\r\n",
                "    category=np.argmax(out,axis=1)\r\n",
                "    accuracy=(category==y).mean()\r\n",
                "    accuracies.append(accuracy)\r\n",
                "\r\n",
                "    lay1=lay1-lr*update_l1\r\n",
                "    lay2=lay2-lr*update_l2\r\n",
                "    b_lay1 += update_b1*lr\r\n",
                "    b_lay2 += update_b2*lr\r\n",
                "    \r\n",
                "    loss=((category-y)**2).mean()\r\n",
                "    losses.append(loss.item())\r\n",
                "    \r\n",
                "    if(i%500==0):    \r\n",
                "        X_val=X_val.reshape((-1,28*28))\r\n",
                "        val_out=np.argmax(softmax(reLU(X_val.dot(lay1)).dot(lay2)),axis=1)\r\n",
                "        val_acc=(val_out==Y_val).mean()\r\n",
                "        val_accuracies.append(val_acc.item())\r\n",
                "        print(f'For {i}th epoch: train accuracy: {accuracy:.3f} | validation accuracy:{val_acc:.3f}')\r\n",
                "\r\n"
            ],
            "outputs": [
                {
                    "output_type": "stream",
                    "name": "stdout",
                    "text": [
                        "For 0th epoch: train accuracy: 0.109 | validation accuracy:0.098\n",
                        "For 500th epoch: train accuracy: 0.344 | validation accuracy:0.098\n",
                        "For 1000th epoch: train accuracy: 0.359 | validation accuracy:0.098\n",
                        "For 1500th epoch: train accuracy: 0.352 | validation accuracy:0.098\n"
                    ]
                },
                {
                    "output_type": "stream",
                    "name": "stderr",
                    "text": [
                        "<ipython-input-56-8678e2b646a2>:13: RuntimeWarning: invalid value encountered in true_divide\n",
                        "  return exp_element/np.sum(exp_element,axis=0)\n",
                        "<ipython-input-56-8678e2b646a2>:18: RuntimeWarning: invalid value encountered in true_divide\n",
                        "  return exp_element/np.sum(exp_element,axis=0)*(1-exp_element/np.sum(exp_element,axis=0))\n"
                    ]
                },
                {
                    "output_type": "stream",
                    "name": "stdout",
                    "text": [
                        "For 2000th epoch: train accuracy: 0.125 | validation accuracy:0.098\n",
                        "For 2500th epoch: train accuracy: 0.094 | validation accuracy:0.098\n",
                        "For 3000th epoch: train accuracy: 0.094 | validation accuracy:0.098\n",
                        "For 3500th epoch: train accuracy: 0.094 | validation accuracy:0.098\n",
                        "For 4000th epoch: train accuracy: 0.086 | validation accuracy:0.098\n",
                        "For 4500th epoch: train accuracy: 0.047 | validation accuracy:0.098\n",
                        "For 5000th epoch: train accuracy: 0.109 | validation accuracy:0.098\n",
                        "For 5500th epoch: train accuracy: 0.125 | validation accuracy:0.098\n",
                        "For 6000th epoch: train accuracy: 0.109 | validation accuracy:0.098\n",
                        "For 6500th epoch: train accuracy: 0.125 | validation accuracy:0.098\n",
                        "For 7000th epoch: train accuracy: 0.102 | validation accuracy:0.098\n",
                        "For 7500th epoch: train accuracy: 0.102 | validation accuracy:0.098\n",
                        "For 8000th epoch: train accuracy: 0.062 | validation accuracy:0.098\n",
                        "For 8500th epoch: train accuracy: 0.117 | validation accuracy:0.098\n",
                        "For 9000th epoch: train accuracy: 0.070 | validation accuracy:0.098\n",
                        "For 9500th epoch: train accuracy: 0.094 | validation accuracy:0.098\n"
                    ]
                }
            ],
            "metadata": {}
        },
        {
            "cell_type": "code",
            "execution_count": 53,
            "source": [
                "test_X=test_X.reshape((-1,28*28))\r\n",
                "\r\n",
                "test_out=np.argmax(softmax(reLU(test_X.dot(lay1)).dot(lay2)),axis=1)\r\n",
                "test_acc=(test_out==test_y).mean().item()\r\n",
                "print(f'Test accuracy = {test_acc*100:.2f}%')"
            ],
            "outputs": [
                {
                    "output_type": "stream",
                    "name": "stdout",
                    "text": [
                        "Test accuracy = 82.88%\n"
                    ]
                }
            ],
            "metadata": {}
        }
    ],
    "metadata": {
        "orig_nbformat": 4,
        "language_info": {
            "name": "python",
            "version": "3.9.5",
            "mimetype": "text/x-python",
            "codemirror_mode": {
                "name": "ipython",
                "version": 3
            },
            "pygments_lexer": "ipython3",
            "nbconvert_exporter": "python",
            "file_extension": ".py"
        },
        "kernelspec": {
            "name": "python3",
            "display_name": "Python 3.9.5 64-bit"
        },
        "interpreter": {
            "hash": "ac59ebe37160ed0dfa835113d9b8498d9f09ceb179beaac4002f036b9467c963"
        }
    },
    "nbformat": 4,
    "nbformat_minor": 2
}