{
    "cells": [
        {
            "cell_type": "code",
            "execution_count": null,
            "metadata": {},
            "outputs": [],
            "source": [
                "import numpy as np\n",
                "import matplotlib.pyplot as plt\n",
                "from keras.datasets import mnist\n",
                "import random"
            ]
        },
        {
            "cell_type": "code",
            "execution_count": null,
            "metadata": {},
            "outputs": [],
            "source": [
                "(train_X, train_y), (test_X, test_y) = mnist.load_data()"
            ]
        },
        {
            "cell_type": "code",
            "execution_count": null,
            "metadata": {},
            "outputs": [],
            "source": [
                "#get an idea of what data looks like\n",
                "print(\"input shape:\",train_X.shape)\n",
                "print(\"label shape\",test_y.shape)\n",
                "print(train_y[:16])\n",
                "fig,ax=plt.subplots(4,4)\n",
                "j=0\n",
                "k=0\n",
                "for i in range(16):  \n",
                "    ax[j][k].imshow(train_X[i], cmap=plt.get_cmap('gray'))\n",
                "    j+=1\n",
                "    if(j==4): \n",
                "        j=0\n",
                "        k+=1\n",
                "plt.show()"
            ]
        },
        {
            "cell_type": "code",
            "execution_count": null,
            "metadata": {},
            "outputs": [],
            "source": [
                "rand=np.arange(60000)\n",
                "np.random.shuffle(rand)\n",
                "train_no=rand[:50000]\n",
                "val_no=rand[50000:]\n",
                "\n",
                "X_train,X_val=train_X[train_no,:,:],train_X[val_no,:,:]\n",
                "Y_train,Y_val=train_y[train_no],train_y[val_no]"
            ]
        },
        {
            "cell_type": "code",
            "execution_count": null,
            "metadata": {},
            "outputs": [],
            "source": [
                "#now we need to define our network architecture\n",
                "#we need to go from 784 nodes to 128 nodes to 10 nodes. Two random matrices, 784x128 and 128x10 for weights and biases\n",
                "def gen_rand_matrix(a,b):\n",
                "    mat=np.random.uniform(-1,1,(a,b))*np.sqrt(1/(a*b))\n",
                "    return mat.astype(np.float32)\n",
                "\n",
                "\n"
            ]
        },
        {
            "cell_type": "code",
            "execution_count": null,
            "metadata": {},
            "outputs": [],
            "source": [
                "#define the functions. relu and softmax?\n",
                "#Sigmoid funstion\n",
                "def reLU(x):\n",
                "    return 1/(np.exp(-x)+1)    \n",
                "\n",
                "#derivative of sigmoid\n",
                "def d_reLU(x):\n",
                "    return (np.exp(-x))/((np.exp(-x)+1)**2)\n",
                "\n",
                "def softmax(x):\n",
                "    exp_element=np.exp(x-x.max())\n",
                "    return exp_element/np.sum(exp_element,axis=0)\n",
                "\n",
                "#derivative of softmax\n",
                "def d_softmax(x):\n",
                "    exp_element=np.exp(x-x.max())\n",
                "    return exp_element/np.sum(exp_element,axis=0)*(1-exp_element/np.sum(exp_element,axis=0))\n"
            ]
        },
        {
            "cell_type": "code",
            "execution_count": null,
            "metadata": {},
            "outputs": [],
            "source": [
                "loss=[]\n",
                "lr=0.001\n",
                "random.seed(42)\n",
                "lay1=gen_rand_matrix(28*28,128)\n",
                "lay2=gen_rand_matrix(128,10)\n",
                "b_lay1=np.zeros(128)\n",
                "b_lay2=np.zeros(10)\n",
                "def forward_backward_pass(x,y):\n",
                "    #first convert y into a functioning output, that means not a digit, but an array of 10 bool elements\n",
                "    targets = np.zeros((len(y),10), np.float32)\n",
                "    targets[range(targets.shape[0]),y] = 1\n",
                "    global lay1,lay2,b_lay1,b_lay2\n",
                "\n",
                "    #foward pass, put the input into the neural net\n",
                "    x_ly1=x.dot(lay1)+b_lay1\n",
                "    x_relu=reLU(x_ly1)\n",
                "    x_ly2=x_relu.dot(lay2)+b_lay2\n",
                "    out=softmax(x_ly2)\n",
                "    \n",
                "    #error in second layer of weights and biases\n",
                "    error=2*(out-targets)/out.shape[0]*d_softmax(x_ly2)\n",
                "    update_l2=x_relu.T@error\n",
                "    update_b2=np.sum(error, axis=0)\n",
                "    \n",
                "    #error in the first layer of weights and biases\n",
                "    error2=((lay2).dot(error.T)).T*d_reLU(x_ly1)\n",
                "    update_l1=x.T@error2\n",
                "    update_b1=np.sum(error2, axis=0)\n",
                "\n",
                "    #update stuff\n",
                "\n",
                "    return out,update_l1,update_l2,update_b1,update_b2"
            ]
        },
        {
            "cell_type": "code",
            "execution_count": null,
            "metadata": {},
            "outputs": [],
            "source": [
                "epochs=10000\n",
                "batch=128\n",
                "lr=0.001\n",
                "losses,accuracies,val_accuracies=[],[],[]\n",
                "\n",
                "#we'll try a stochastic gradient descent ... keeping in touch with the old algorithm\n",
                "for i in range(epochs):\n",
                "    sample=np.random.randint(0,X_train.shape[0],size=(batch))\n",
                "    x=X_train[sample].reshape((-1,28*28))\n",
                "    y=Y_train[sample]\n",
                "    out,update_l1,update_l2,update_b1,update_b2=forward_backward_pass(x,y)\n",
                "\n",
                "    category=np.argmax(out,axis=1)\n",
                "    accuracy=(category==y).mean()\n",
                "    accuracies.append(accuracy)\n",
                "\n",
                "    lay1=lay1-lr*update_l1\n",
                "    lay2=lay2-lr*update_l2\n",
                "    b_lay1 += update_b1*lr\n",
                "    b_lay2 += update_b2*lr\n",
                "    \n",
                "    loss=((category-y)**2).mean()\n",
                "    losses.append(loss.item())\n",
                "    \n",
                "    if(i%500==0):    \n",
                "        X_val=X_val.reshape((-1,28*28))\n",
                "        val_out=np.argmax(softmax(reLU(X_val.dot(lay1)).dot(lay2)),axis=1)\n",
                "        val_acc=(val_out==Y_val).mean()\n",
                "        val_accuracies.append(val_acc.item())\n",
                "        print(f'For {i}th epoch: train accuracy: {accuracy:.3f} | validation accuracy:{val_acc:.3f}')\n",
                "\n"
            ]
        },
        {
            "cell_type": "code",
            "execution_count": null,
            "metadata": {},
            "outputs": [],
            "source": [
                "test_X=test_X.reshape((-1,28*28))\n",
                "\n",
                "test_out=np.argmax(softmax(reLU(test_X.dot(lay1)).dot(lay2)),axis=1)\n",
                "test_acc=(test_out==test_y).mean().item()\n",
                "print(f'Test accuracy = {test_acc*100:.2f}%')"
            ]
        }
    ],
    "metadata": {
        "interpreter": {
            "hash": "ac59ebe37160ed0dfa835113d9b8498d9f09ceb179beaac4002f036b9467c963"
        },
        "kernelspec": {
            "display_name": "Python 3.9.5 64-bit",
            "name": "python3"
        },
        "language_info": {
            "codemirror_mode": {
                "name": "ipython",
                "version": 3
            },
            "file_extension": ".py",
            "mimetype": "text/x-python",
            "name": "python",
            "nbconvert_exporter": "python",
            "pygments_lexer": "ipython3",
            "version": "3.9.5"
        },
        "orig_nbformat": 4
    },
    "nbformat": 4,
    "nbformat_minor": 2
}
