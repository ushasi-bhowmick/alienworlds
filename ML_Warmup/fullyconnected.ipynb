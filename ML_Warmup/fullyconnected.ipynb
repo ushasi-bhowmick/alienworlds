{
    "cells": [
        {
            "cell_type": "code",
            "execution_count": null,
            "metadata": {},
            "outputs": [],
            "source": [
                "import numpy as np\n",
                "import matplotlib.pyplot as plt\n",
                "import tensorflow as tf"
            ]
        },
        {
            "cell_type": "code",
            "execution_count": null,
            "metadata": {},
            "outputs": [],
            "source": [
                "from tensorflow import keras"
            ]
        },
        {
            "cell_type": "code",
            "execution_count": null,
            "metadata": {},
            "outputs": [],
            "source": [
                "#network and training parameters:\n",
                "EPOCHS = 200 #how many iterations we run the training set\n",
                "BATCH_SIZE = 128\n",
                "VERBOSE = 1 #no idea what this is but lets see...\n",
                "NB_CLASSES = 10 #10 digits\n",
                "N_HIDDEN = 128 #number of nodes in hidden layer\n",
                "VAL_SPLIT = 0.2  #how much of sample is reserved for validation\n",
                "RESHAPED = 784\n",
                "(X_train, Y_train), (X_test, Y_test) = tf.keras.datasets.mnist.load_data()\n",
                "print(len(X_train),len(X_test))"
            ]
        },
        {
            "cell_type": "code",
            "execution_count": null,
            "metadata": {},
            "outputs": [],
            "source": [
                "X_train = X_train.reshape(60000,784)\n",
                "X_test = X_test.reshape(10000,784)\n",
                "X_train = X_train.astype('float32')\n",
                "X_test = X_test.astype('float32')\n",
                "\n",
                "#normalise input to between 0,1 ... but this aint like sigmoid, you \n",
                "#aint squishing the whole number line into between 0 and 1... btw\n",
                "#pixels go from 0 to 255\n",
                "\n",
                "X_train /= 255\n",
                "X_test /= 255\n",
                "\n",
                "print(X_train.shape[0],'train samples')\n",
                "print(X_test.shape[0],'test samples')\n",
                "\n",
                "#one hot representation of samples...\n",
                "Y_train = tf.keras.utils.to_categorical(Y_train, NB_CLASSES)\n",
                "Y_test = tf.keras.utils.to_categorical(Y_test, NB_CLASSES)\n",
                "\n"
            ]
        },
        {
            "cell_type": "code",
            "execution_count": null,
            "metadata": {},
            "outputs": [],
            "source": [
                "#buid the model\n",
                "#SGD stochastic gradient descent... \n",
                "model = tf.keras.models.Sequential()\n",
                "DROPOUT=0.3\n",
                "\n",
                "#add hidden layers\n",
                "model.add(keras.layers.Dense(N_HIDDEN,input_shape=(RESHAPED,),name='dense_layer',activation='relu'))\n",
                "model.add(keras.layers.Dropout(DROPOUT))\n",
                "model.add(keras.layers.Dense(N_HIDDEN,input_shape=(RESHAPED,),name='dense_layer_2',activation='relu'))\n",
                "model.add(keras.layers.Dropout(DROPOUT))\n",
                "model.add(keras.layers.Dense(NB_CLASSES,input_shape=(RESHAPED,),name='dense_layer_3',activation='softmax'))\n",
                "model.summary()\n",
                "model.compile(optimizer='SGD', loss='categorical_crossentropy',metrics=['accuracy'])\n"
            ]
        },
        {
            "cell_type": "code",
            "execution_count": null,
            "metadata": {},
            "outputs": [],
            "source": [
                "#training the model\n",
                "model.fit(X_train,Y_train, batch_size=BATCH_SIZE, epochs=EPOCHS, verbose=VERBOSE, validation_split=VAL_SPLIT)"
            ]
        },
        {
            "cell_type": "code",
            "execution_count": null,
            "metadata": {},
            "outputs": [],
            "source": [
                "#evaluate the model\n",
                "test_loss, test_acc = model.evaluate(X_test, Y_test)\n",
                "print('Test accuracy:', test_acc)"
            ]
        }
    ],
    "metadata": {
        "interpreter": {
            "hash": "ac59ebe37160ed0dfa835113d9b8498d9f09ceb179beaac4002f036b9467c963"
        },
        "kernelspec": {
            "display_name": "Python 3.9.7 64-bit",
            "name": "python3"
        },
        "language_info": {
            "codemirror_mode": {
                "name": "ipython",
                "version": 3
            },
            "file_extension": ".py",
            "mimetype": "text/x-python",
            "name": "python",
            "nbconvert_exporter": "python",
            "pygments_lexer": "ipython3",
            "version": "3.9.7"
        },
        "orig_nbformat": 4
    },
    "nbformat": 4,
    "nbformat_minor": 2
}
