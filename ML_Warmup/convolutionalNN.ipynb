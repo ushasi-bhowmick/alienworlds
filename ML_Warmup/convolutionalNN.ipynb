{
    "cells": [
        {
            "cell_type": "code",
            "execution_count": null,
            "metadata": {},
            "outputs": [],
            "source": [
                "import tensorflow as tf\n",
                "import matplotlib.pyplot as plt\n",
                "import pandas as pd"
            ]
        },
        {
            "cell_type": "code",
            "execution_count": null,
            "metadata": {},
            "outputs": [],
            "source": [
                "(train_images, train_labels), (test_images, test_labels) = tf.keras.datasets.cifar10.load_data()\n",
                "train_images, test_images = train_images/255.0, test_images/255.0\n"
            ]
        },
        {
            "cell_type": "code",
            "execution_count": null,
            "metadata": {},
            "outputs": [],
            "source": [
                "class_names = ['airplane', 'automobile', 'bird', 'cat', 'deer', 'dog', 'frog', 'horse', 'ship', 'truck']\n",
                "plt.figure(figsize=(10,10))\n",
                "for i in range(25):\n",
                "    plt.subplot(5,5,i+1)\n",
                "    plt.xticks([])\n",
                "    plt.yticks([])\n",
                "    plt.grid(False)\n",
                "    plt.imshow(train_images[i])\n",
                "    plt.xlabel(class_names[train_labels[i][0]])\n",
                "plt.show()"
            ]
        },
        {
            "cell_type": "code",
            "execution_count": null,
            "metadata": {},
            "outputs": [],
            "source": [
                "from tensorflow.keras import layers\n",
                "model = tf.keras.models.Sequential()\n",
                "model.add(layers.Conv2D(32,(3,3),activation='relu',input_shape=(32,32,3)))\n",
                "model.add(layers.MaxPool2D((2,2)))\n",
                "model.add(layers.Conv2D(64,(3,3),activation='relu'))\n",
                "model.add(layers.MaxPool2D((2,2)))\n",
                "model.add(layers.Conv2D(64,(3,3),activation='relu'))\n",
                "#we reduced the dimensionality of the image, while fixing the number of output classes ... in this case 64\n",
                "#basically 64 is the number of features we wish to extract from the neural network.\n",
                "model.add(layers.Flatten())\n",
                "model.add(layers.Dense(64,activation='relu'))\n",
                "model.add(layers.Dense(10))\n",
                "model.summary()\n"
            ]
        },
        {
            "cell_type": "code",
            "execution_count": null,
            "metadata": {},
            "outputs": [],
            "source": [
                "model.compile(optimizer='adam', loss=tf.keras.losses.SparseCategoricalCrossentropy(from_logits=True), metrics=['accuracy'])\n",
                "history=model.fit(train_images, train_labels, epochs=10, validation_data=(test_images, test_labels))"
            ]
        },
        {
            "cell_type": "code",
            "execution_count": null,
            "metadata": {},
            "outputs": [],
            "source": [
                "plt.plot(history.history['accuracy'], label='accuracy')\n",
                "plt.plot(history.history['val_accuracy'], label = 'val_accuracy')\n",
                "plt.xlabel('Epoch')\n",
                "plt.ylabel('Accuracy')\n",
                "plt.ylim([0.5, 1])\n",
                "plt.legend(loc='lower right')\n",
                "\n",
                "test_loss, test_acc = model.evaluate(test_images,  test_labels, verbose=2)"
            ]
        }
    ],
    "metadata": {
        "interpreter": {
            "hash": "ac59ebe37160ed0dfa835113d9b8498d9f09ceb179beaac4002f036b9467c963"
        },
        "kernelspec": {
            "display_name": "Python 3.9.7 64-bit",
            "name": "python3"
        },
        "language_info": {
            "codemirror_mode": {
                "name": "ipython",
                "version": 3
            },
            "file_extension": ".py",
            "mimetype": "text/x-python",
            "name": "python",
            "nbconvert_exporter": "python",
            "pygments_lexer": "ipython3",
            "version": "3.9.7"
        },
        "orig_nbformat": 4
    },
    "nbformat": 4,
    "nbformat_minor": 2
}
