{
 "cells": [
  {
   "cell_type": "markdown",
   "metadata": {},
   "source": [
    "# Baeysian 2D model "
   ]
  },
  {
   "cell_type": "code",
   "execution_count": 1,
   "metadata": {},
   "outputs": [],
   "source": [
    "import numpy as np \n",
    "import pandas as pd \n",
    "import emcee \n",
    "import matplotlib.pyplot as plt \n",
    "from transit import occultnonlin, occultquad\n",
    "from interpolation import lc_interpolate"
   ]
  },
  {
   "cell_type": "markdown",
   "metadata": {},
   "source": [
    "### Line Fits\n",
    "Try out the algorithm by fitting a line"
   ]
  },
  {
   "cell_type": "code",
   "execution_count": null,
   "metadata": {},
   "outputs": [],
   "source": [
    "np.random.seed(123)\n",
    "\n",
    "# Choose the \"true\" parameters.\n",
    "m_true = -0.9594\n",
    "b_true = 4.294\n",
    "f_true = 0.534\n",
    "\n",
    "# Generate some synthetic data from the model.\n",
    "N = 50\n",
    "x = np.sort(10 * np.random.rand(N))\n",
    "yerr = 0.1 + 0.5 * np.random.rand(N)\n",
    "y = m_true * x + b_true\n",
    "y += np.abs(f_true * y) * np.random.randn(N)\n",
    "y += yerr * np.random.randn(N)\n",
    "\n",
    "plt.errorbar(x, y, yerr=yerr, fmt=\".k\", capsize=0)\n",
    "x0 = np.linspace(0, 10, 500)\n",
    "plt.plot(x0, m_true * x0 + b_true, \"k\", alpha=0.3, lw=3)\n",
    "plt.xlim(0, 10)\n",
    "plt.xlabel(\"x\")\n",
    "plt.ylabel(\"y\")"
   ]
  },
  {
   "cell_type": "code",
   "execution_count": null,
   "metadata": {},
   "outputs": [],
   "source": [
    "def log_prior(theta):\n",
    "    m, b, log_f = theta\n",
    "    if -5.0 < m < 0.5 and 0.0 < b < 10.0 and -10.0 < log_f < 1.0:\n",
    "        return 0.0\n",
    "    return -np.inf\n",
    "\n",
    "def log_likelihood(theta, x, y, yerr):\n",
    "    m, b, log_f = theta\n",
    "    model = m * x + b\n",
    "    sigma2 = yerr ** 2 + model ** 2 * np.exp(2 * log_f)\n",
    "    return -0.5 * np.sum((y - model) ** 2 / sigma2 + np.log(sigma2))\n",
    "\n",
    "def log_probability(theta, x, y, yerr):\n",
    "    lp = log_prior(theta)\n",
    "    if not np.isfinite(lp):\n",
    "        return -np.inf\n",
    "    return lp + log_likelihood(theta, x, y, yerr)"
   ]
  },
  {
   "cell_type": "code",
   "execution_count": null,
   "metadata": {},
   "outputs": [],
   "source": [
    "A = np.vander(x, 2)\n",
    "C = np.diag(yerr * yerr)\n",
    "ATA = np.dot(A.T, A / (yerr ** 2)[:, None])\n",
    "cov = np.linalg.inv(ATA)\n",
    "w = np.linalg.solve(ATA, np.dot(A.T, y / yerr ** 2))\n",
    "print(\"Least-squares estimates:\")\n",
    "print(\"m = {0:.3f} ± {1:.3f}\".format(w[0], np.sqrt(cov[0, 0])))\n",
    "print(\"b = {0:.3f} ± {1:.3f}\".format(w[1], np.sqrt(cov[1, 1])))\n",
    "\n",
    "plt.errorbar(x, y, yerr=yerr, fmt=\".k\", capsize=0)\n",
    "plt.plot(x0, m_true * x0 + b_true, \"k\", alpha=0.3, lw=3, label=\"truth\")\n",
    "plt.plot(x0, np.dot(np.vander(x0, 2), w), \"--k\", label=\"LS\")\n",
    "plt.legend(fontsize=14)\n",
    "plt.xlim(0, 10)\n",
    "plt.xlabel(\"x\")\n",
    "plt.ylabel(\"y\")"
   ]
  },
  {
   "cell_type": "code",
   "execution_count": null,
   "metadata": {},
   "outputs": [],
   "source": [
    "from scipy.optimize import minimize\n",
    "\n",
    "np.random.seed(42)\n",
    "nll = lambda *args: -log_likelihood(*args)\n",
    "initial = np.array([m_true, b_true, np.log(f_true)]) + 0.1 * np.random.randn(3)\n",
    "soln = minimize(nll, initial, args=(x, y, yerr))\n",
    "m_ml, b_ml, log_f_ml = soln.x\n",
    "\n",
    "print(\"Maximum likelihood estimates:\")\n",
    "print(\"m = {0:.3f}\".format(m_ml))\n",
    "print(\"b = {0:.3f}\".format(b_ml))\n",
    "print(\"f = {0:.3f}\".format(np.exp(log_f_ml)))\n",
    "\n",
    "plt.errorbar(x, y, yerr=yerr, fmt=\".k\", capsize=0)\n",
    "plt.plot(x0, m_true * x0 + b_true, \"k\", alpha=0.3, lw=3, label=\"truth\")\n",
    "plt.plot(x0, np.dot(np.vander(x0, 2), w), \"--k\", label=\"LS\")\n",
    "plt.plot(x0, np.dot(np.vander(x0, 2), [m_ml, b_ml]), \":k\", label=\"ML\")\n",
    "plt.legend(fontsize=14)\n",
    "plt.xlim(0, 10)\n",
    "plt.xlabel(\"x\")\n",
    "plt.ylabel(\"y\")"
   ]
  },
  {
   "cell_type": "code",
   "execution_count": null,
   "metadata": {},
   "outputs": [],
   "source": [
    "pos = soln.x + 1e-4 * np.random.randn(32, 3)\n",
    "nwalkers, ndim = pos.shape\n",
    "\n",
    "sampler = emcee.EnsembleSampler(\n",
    "    nwalkers, ndim, log_probability, args=(x, y, yerr)\n",
    ")\n",
    "sampler.run_mcmc(pos, 5000, progress=True)"
   ]
  },
  {
   "cell_type": "code",
   "execution_count": null,
   "metadata": {},
   "outputs": [],
   "source": [
    "fig, axes = plt.subplots(3, figsize=(10, 7), sharex=True)\n",
    "samples = sampler.get_chain()\n",
    "labels = [\"m\", \"b\", \"log(f)\"]\n",
    "for i in range(ndim):\n",
    "    ax = axes[i]\n",
    "    ax.plot(samples[:, :, i], \"k\", alpha=0.3)\n",
    "    ax.set_xlim(0, len(samples))\n",
    "    ax.set_ylabel(labels[i])\n",
    "    ax.yaxis.set_label_coords(-0.1, 0.5)\n",
    "\n",
    "axes[-1].set_xlabel(\"step number\")"
   ]
  },
  {
   "cell_type": "code",
   "execution_count": null,
   "metadata": {},
   "outputs": [],
   "source": [
    "import corner\n",
    "flat_samples = sampler.get_chain(discard=100, thin=15, flat=True)\n",
    "print(flat_samples.shape)\n",
    "fig = corner.corner(\n",
    "    flat_samples, labels=labels, truths=[m_true, b_true, np.log(f_true)]\n",
    ");"
   ]
  },
  {
   "cell_type": "code",
   "execution_count": null,
   "metadata": {},
   "outputs": [],
   "source": [
    "inds = np.random.randint(len(flat_samples), size=100)\n",
    "for ind in inds:\n",
    "    sample = flat_samples[ind]\n",
    "    plt.plot(x0, np.dot(np.vander(x0, 2), sample[:2]), \"C1\", alpha=0.1)\n",
    "plt.errorbar(x, y, yerr=yerr, fmt=\".k\", capsize=0)\n",
    "plt.plot(x0, m_true * x0 + b_true, \"k\", label=\"truth\")\n",
    "plt.legend(fontsize=14)\n",
    "plt.xlim(0, 10)\n",
    "plt.xlabel(\"x\")\n",
    "plt.ylabel(\"y\")"
   ]
  },
  {
   "cell_type": "markdown",
   "metadata": {},
   "source": [
    "### 3D Model fit\n",
    "Here we try out the same exercise from a 3D Model... just something so that we can try out the procedure with less computation time"
   ]
  },
  {
   "cell_type": "code",
   "execution_count": null,
   "metadata": {},
   "outputs": [],
   "source": [
    "#here's the planet model\n",
    "def new_plar(ph,p,u1,u2,rorb,imp):\n",
    "    znp = np.sqrt(np.abs(rorb*np.sin(ph*np.pi))**2+imp**2)\n",
    "    a= occultquad(znp,p,[u1,u2])  \n",
    "    return(a)\n",
    "\n",
    "#here's some generated synthetic data\n",
    "ph = np.linspace(-0.5,0.5,300)\n",
    "fl = new_plar(ph, 0.11,0.23,0.34,3.12,0.0)\n",
    "fl = fl*np.random.normal(1,0.0005,300)\n",
    "fl_err = np.abs(np.random.normal(0,0.0005,300))\n",
    "\n",
    "\n",
    "plt.errorbar(ph,fl,fl_err,None, marker='.', ls='None')\n",
    "plt.show()"
   ]
  },
  {
   "cell_type": "code",
   "execution_count": null,
   "metadata": {},
   "outputs": [],
   "source": [
    "# setting up the priors code\n",
    "def log_prior_pl(theta):\n",
    "    p, u1, u2, rorb= theta\n",
    "    if 0 < p < 1 and 0.2 < u1 < 0.3 and 0.3 < u2 < 0.4 and 0 < u1+u2 < 1 and 1 < rorb < 5:\n",
    "        return 0.0\n",
    "    return -np.inf\n",
    "\n",
    "def log_likelihood_pl(theta, ph, fl, fl_err):\n",
    "    p, u1, u2, rorb = theta\n",
    "    model = new_plar(ph, p, u1, u2, rorb, 0)\n",
    "    return -0.5 * np.sum(((fl - model)/fl_err) ** 2)\n",
    "    #sigma2 = fl_err ** 2 + model ** 2 * np.exp(2 * log_f)\n",
    "    #return -0.5 * np.sum((fl - model) ** 2 / sigma2 + np.log(sigma2))\n",
    "\n",
    "def log_probability_pl(theta, ph, fl, fl_err):\n",
    "    lp = log_prior_pl(theta)\n",
    "    if not np.isfinite(lp):\n",
    "        return -np.inf\n",
    "    return lp + log_likelihood_pl(theta, ph, fl, fl_err)"
   ]
  },
  {
   "cell_type": "code",
   "execution_count": null,
   "metadata": {},
   "outputs": [],
   "source": [
    "initial = np.array([0.1,0.2,0.4,3])\n",
    "nwalkers = 32\n",
    "ndim = 4\n",
    "p0 = [np.array(initial) + 1e-7 * np.random.randn(ndim) for i in range(nwalkers)]\n",
    "\n",
    "sampler = emcee.EnsembleSampler(\n",
    "    nwalkers, ndim, log_probability_pl, args=(ph, fl, fl_err)\n",
    ")\n",
    "sampler.run_mcmc(p0, 3000, progress=True)"
   ]
  },
  {
   "cell_type": "code",
   "execution_count": null,
   "metadata": {},
   "outputs": [],
   "source": [
    "tau = sampler.get_autocorr_time()\n",
    "print(tau)"
   ]
  },
  {
   "cell_type": "code",
   "execution_count": null,
   "metadata": {},
   "outputs": [],
   "source": [
    "import corner\n",
    "labels = [\"p\", \"u1\",\"u2\",\"rorb\",\"b\"]\n",
    "flat_samples = sampler.get_chain(discard=10, thin=1, flat=True)\n",
    "print(flat_samples.shape)\n",
    "fig = corner.corner(\n",
    "    flat_samples, labels=labels, truths=[0.11,0.23,0.34,3.12]\n",
    ");"
   ]
  },
  {
   "cell_type": "code",
   "execution_count": null,
   "metadata": {},
   "outputs": [],
   "source": [
    "from IPython.display import display, Math\n",
    "\n",
    "for i in range(ndim):\n",
    "    mcmc = np.percentile(flat_samples[:, i], [16, 50, 84])\n",
    "    q = np.diff(mcmc)\n",
    "    txt = \"\\mathrm{{{3}}} = {0:.3f}_{{-{1:.3f}}}^{{{2:.3f}}}\"\n",
    "    txt = txt.format(mcmc[1], q[0], q[1], labels[i])\n",
    "    display(Math(txt))\n",
    "\n",
    "print(0.11,0.23,0.34,3.12,0.0)"
   ]
  },
  {
   "cell_type": "code",
   "execution_count": null,
   "metadata": {},
   "outputs": [],
   "source": [
    "def sample_walkers(nsamples,flattened_chain):\n",
    "    models = []\n",
    "    draw = np.floor(np.random.uniform(0,len(flattened_chain),size=nsamples)).astype(int)\n",
    "    thetas = flattened_chain[draw]\n",
    "    for i in thetas:\n",
    "        a,b,c,d = i\n",
    "        mod = new_plar(ph,a,b,c,d,0.0)\n",
    "        models.append(mod)\n",
    "    spread = 3*np.std(models,axis=0)\n",
    "    med_model = np.median(models,axis=0)\n",
    "    return med_model,spread\n",
    "med_model, spread = sample_walkers(5000,flat_samples)\n",
    "\n",
    "plt.errorbar(ph, fl, fl_err, capsize=0, color='gray', ls='None', zorder=0)\n",
    "#plt.plot(age,new_best_fit_model,label='Highest Likelihood Model')\n",
    "plt.fill_between(ph,med_model-spread,med_model+spread,color='red',alpha=0.5,label=r'$3\\sigma$ Posterior Spread', zorder=1)\n",
    "plt.plot(ph, new_plar(ph, 0.11,0.23,0.34,3.12,0.0), \"k\", label=\"truth\")\n",
    "#plt.plot(ph, new_plar(ph, 0.099,0.711,0.713,2.89,0.0), \"k\", label=\"est\")\n",
    "plt.legend(fontsize=14)\n",
    "plt.title('True: Rpl:0.11 Rorb:3.12 u1:0.23 u2:0.34 b:0 \\n Fit: Rpl:0.107 Rorb:3.07 u1:0.06 u2:0.85 b:0.0')\n",
    "\n",
    "plt.xlabel(\"x\")\n",
    "plt.ylabel(\"y\")\n",
    "#plt.savefig('baeysiantest.png')"
   ]
  },
  {
   "cell_type": "markdown",
   "metadata": {},
   "source": [
    "### 2D Model Fit\n",
    "Now we generalize the interpolation routine to include 2D models"
   ]
  },
  {
   "cell_type": "code",
   "execution_count": 2,
   "metadata": {},
   "outputs": [
    {
     "data": {
      "image/png": "[encoded data removed]",
      "text/plain": [
       "<Figure size 432x288 with 1 Axes>"
      ]
     },
     "metadata": {
      "needs_background": "light"
     },
     "output_type": "display_data"
    }
   ],
   "source": [
    "# generate data\n",
    "\n",
    "#here's some generated synthetic data\n",
    "df = pd.read_csv('2d3d_0.1R_limb_circ.csv', sep=',')\n",
    "ph = df['frame']\n",
    "fl = df['2d']\n",
    "fl_err = df['2dstd']\n",
    "\n",
    "plt.errorbar(ph,fl,fl_err,None, marker='.', ls='None')\n",
    "plt.show()"
   ]
  },
  {
   "cell_type": "code",
   "execution_count": 19,
   "metadata": {},
   "outputs": [],
   "source": [
    "# setting up the priors code\n",
    "def log_prior_2d(theta):\n",
    "    p, rorb, u1, u2= theta\n",
    "    if 0 < p < 1 and 0 < u1 < 1 and 0 < u2 < 1 and 0 < u1+u2 < 1 and 1 < rorb < 5:\n",
    "        return 0.0\n",
    "    return -np.inf\n",
    "\n",
    "def log_likelihood_2d(theta, ph, fl, fl_err):\n",
    "    p, rorb, u1, u2 = theta\n",
    "    model = lc_interpolate(ph, p, rorb, 0.001, u1, u2)\n",
    "    return -0.5 * np.sum(((fl - model)/fl_err) ** 2)\n",
    "    #sigma2 = fl_err ** 2 + model ** 2 * np.exp(2 * log_f)\n",
    "    #return -0.5 * np.sum((fl - model) ** 2 / sigma2 + np.log(sigma2))\n",
    "\n",
    "def log_probability_2d(theta, ph, fl, fl_err):\n",
    "    lp = log_prior_2d(theta)\n",
    "    if not np.isfinite(lp):\n",
    "        return -np.inf\n",
    "    return lp + log_likelihood_2d(theta, ph, fl, fl_err)"
   ]
  },
  {
   "cell_type": "code",
   "execution_count": 22,
   "metadata": {},
   "outputs": [
    {
     "name": "stderr",
     "output_type": "stream",
     "text": [
      "  0%|          | 0/50 [00:00<?, ?it/s]/home/ushasi/.local/lib/python3.8/site-packages/emcee/moves/red_blue.py:99: RuntimeWarning: invalid value encountered in double_scalars\n",
      "  lnpdiff = f + nlp - state.log_prob[j]\n",
      "/home/ushasi/.local/lib/python3.8/site-packages/emcee/moves/red_blue.py:99: RuntimeWarning: invalid value encountered in double_scalars\n",
      "  lnpdiff = f + nlp - state.log_prob[j]\n",
      "  2%|▏         | 1/50 [00:13<11:10, 13.68s/it]/home/ushasi/.local/lib/python3.8/site-packages/emcee/moves/red_blue.py:99: RuntimeWarning: invalid value encountered in double_scalars\n",
      "  lnpdiff = f + nlp - state.log_prob[j]\n",
      "/home/ushasi/.local/lib/python3.8/site-packages/emcee/moves/red_blue.py:99: RuntimeWarning: invalid value encountered in double_scalars\n",
      "  lnpdiff = f + nlp - state.log_prob[j]\n",
      "  4%|▍         | 2/50 [00:27<10:50, 13.56s/it]/home/ushasi/.local/lib/python3.8/site-packages/emcee/moves/red_blue.py:99: RuntimeWarning: invalid value encountered in double_scalars\n",
      "  lnpdiff = f + nlp - state.log_prob[j]\n",
      "  6%|▌         | 3/50 [00:40<10:34, 13.50s/it]/home/ushasi/.local/lib/python3.8/site-packages/emcee/moves/red_blue.py:99: RuntimeWarning: invalid value encountered in double_scalars\n",
      "  lnpdiff = f + nlp - state.log_prob[j]\n",
      "/home/ushasi/.local/lib/python3.8/site-packages/emcee/moves/red_blue.py:99: RuntimeWarning: invalid value encountered in double_scalars\n",
      "  lnpdiff = f + nlp - state.log_prob[j]\n",
      "  8%|▊         | 4/50 [00:58<11:41, 15.25s/it]/home/ushasi/.local/lib/python3.8/site-packages/emcee/moves/red_blue.py:99: RuntimeWarning: invalid value encountered in double_scalars\n",
      "  lnpdiff = f + nlp - state.log_prob[j]\n",
      " 10%|█         | 5/50 [01:12<11:07, 14.82s/it]/home/ushasi/.local/lib/python3.8/site-packages/emcee/moves/red_blue.py:99: RuntimeWarning: invalid value encountered in double_scalars\n",
      "  lnpdiff = f + nlp - state.log_prob[j]\n",
      "/home/ushasi/.local/lib/python3.8/site-packages/emcee/moves/red_blue.py:99: RuntimeWarning: invalid value encountered in double_scalars\n",
      "  lnpdiff = f + nlp - state.log_prob[j]\n",
      " 12%|█▏        | 6/50 [01:37<13:16, 18.10s/it]/home/ushasi/.local/lib/python3.8/site-packages/emcee/moves/red_blue.py:99: RuntimeWarning: invalid value encountered in double_scalars\n",
      "  lnpdiff = f + nlp - state.log_prob[j]\n",
      "/home/ushasi/.local/lib/python3.8/site-packages/emcee/moves/red_blue.py:99: RuntimeWarning: invalid value encountered in double_scalars\n",
      "  lnpdiff = f + nlp - state.log_prob[j]\n",
      " 14%|█▍        | 7/50 [01:55<12:58, 18.11s/it]/home/ushasi/.local/lib/python3.8/site-packages/emcee/moves/red_blue.py:99: RuntimeWarning: invalid value encountered in double_scalars\n",
      "  lnpdiff = f + nlp - state.log_prob[j]\n",
      "/home/ushasi/.local/lib/python3.8/site-packages/emcee/moves/red_blue.py:99: RuntimeWarning: invalid value encountered in double_scalars\n",
      "  lnpdiff = f + nlp - state.log_prob[j]\n",
      " 16%|█▌        | 8/50 [02:13<12:44, 18.21s/it]/home/ushasi/.local/lib/python3.8/site-packages/emcee/moves/red_blue.py:99: RuntimeWarning: invalid value encountered in double_scalars\n",
      "  lnpdiff = f + nlp - state.log_prob[j]\n",
      "/home/ushasi/.local/lib/python3.8/site-packages/emcee/moves/red_blue.py:99: RuntimeWarning: invalid value encountered in double_scalars\n",
      "  lnpdiff = f + nlp - state.log_prob[j]\n",
      " 18%|█▊        | 9/50 [02:38<13:51, 20.28s/it]/home/ushasi/.local/lib/python3.8/site-packages/emcee/moves/red_blue.py:99: RuntimeWarning: invalid value encountered in double_scalars\n",
      "  lnpdiff = f + nlp - state.log_prob[j]\n",
      "/home/ushasi/.local/lib/python3.8/site-packages/emcee/moves/red_blue.py:99: RuntimeWarning: invalid value encountered in double_scalars\n",
      "  lnpdiff = f + nlp - state.log_prob[j]\n",
      " 20%|██        | 10/50 [03:02<14:20, 21.50s/it]/home/ushasi/.local/lib/python3.8/site-packages/emcee/moves/red_blue.py:99: RuntimeWarning: invalid value encountered in double_scalars\n",
      "  lnpdiff = f + nlp - state.log_prob[j]\n",
      " 22%|██▏       | 11/50 [03:25<14:09, 21.77s/it]/home/ushasi/.local/lib/python3.8/site-packages/emcee/moves/red_blue.py:99: RuntimeWarning: invalid value encountered in double_scalars\n",
      "  lnpdiff = f + nlp - state.log_prob[j]\n",
      " 24%|██▍       | 12/50 [03:45<13:26, 21.22s/it]Traceback (most recent call last):\n",
      "  File \"/home/ushasi/.local/lib/python3.8/site-packages/emcee/ensemble.py\", line 624, in __call__\n",
      "    return self.f(x, *self.args, **self.kwargs)\n",
      "  File \"/tmp/ipykernel_14884/1920442261.py\", line 19, in log_probability_2d\n",
      "    return lp + log_likelihood_2d(theta, ph, fl, fl_err)\n",
      "  File \"/tmp/ipykernel_14884/1920442261.py\", line 10, in log_likelihood_2d\n",
      "    model = lc_interpolate(ph, p, rorb, 0.001, u1, u2)\n",
      "  File \"/home/ushasi/Documents/GitHub/alienworlds/Sims/interpolation.py\", line 94, in lc_interpolate\n",
      "    phase_list, flux_list, parspace = lc_read(rpl, rorb, b, u1, u2)\n",
      "  File \"/home/ushasi/Documents/GitHub/alienworlds/Sims/interpolation.py\", line 85, in lc_read\n",
      "    df=pd.read_csv('../Computation_Directory/Rpl_'+str(el[1]*100)+'/2d_rorb_'+str(el[0])+'.csv')\n",
      "  File \"/home/ushasi/.local/lib/python3.8/site-packages/pandas/util/_decorators.py\", line 311, in wrapper\n",
      "    return func(*args, **kwargs)\n",
      "  File \"/home/ushasi/.local/lib/python3.8/site-packages/pandas/io/parsers/readers.py\", line 680, in read_csv\n",
      "    return _read(filepath_or_buffer, kwds)\n",
      "  File \"/home/ushasi/.local/lib/python3.8/site-packages/pandas/io/parsers/readers.py\", line 581, in _read\n",
      "    return parser.read(nrows)\n",
      "  File \"/home/ushasi/.local/lib/python3.8/site-packages/pandas/io/parsers/readers.py\", line 1254, in read\n",
      "    index, columns, col_dict = self._engine.read(nrows)\n",
      "  File \"/home/ushasi/.local/lib/python3.8/site-packages/pandas/io/parsers/c_parser_wrapper.py\", line 225, in read\n",
      "    chunks = self._reader.read_low_memory(nrows)\n",
      "  File \"pandas/_libs/parsers.pyx\", line 805, in pandas._libs.parsers.TextReader.read_low_memory\n",
      "  File \"pandas/_libs/parsers.pyx\", line 883, in pandas._libs.parsers.TextReader._read_rows\n",
      "  File \"pandas/_libs/parsers.pyx\", line 1026, in pandas._libs.parsers.TextReader._convert_column_data\n",
      "  File \"pandas/_libs/parsers.pyx\", line 1072, in pandas._libs.parsers.TextReader._convert_tokens\n",
      "  File \"pandas/_libs/parsers.pyx\", line 1147, in pandas._libs.parsers.TextReader._convert_with_dtype\n",
      "  File \"/home/ushasi/.local/lib/python3.8/site-packages/pandas/core/dtypes/common.py\", line 1429, in is_extension_array_dtype\n",
      "    def is_extension_array_dtype(arr_or_dtype) -> bool:\n",
      "KeyboardInterrupt\n",
      " 24%|██▍       | 12/50 [03:47<11:59, 18.92s/it]"
     ]
    },
    {
     "name": "stdout",
     "output_type": "stream",
     "text": [
      "emcee: Exception while calling your likelihood function:\n",
      "  params: [1.09989986e-01 2.10997649e+00 5.49978604e-01 1.43460947e-05]\n",
      "  args: (0     -1.047198\n",
      "1     -1.043000\n",
      "2     -1.038803\n",
      "3     -1.034606\n",
      "4     -1.030409\n",
      "         ...   \n",
      "495    1.030409\n",
      "496    1.034606\n",
      "497    1.038803\n",
      "498    1.043000\n",
      "499    1.047198\n",
      "Name: frame, Length: 500, dtype: float64, 0      1.0\n",
      "1      1.0\n",
      "2      1.0\n",
      "3      1.0\n",
      "4      1.0\n",
      "      ... \n",
      "495    1.0\n",
      "496    1.0\n",
      "497    1.0\n",
      "498    1.0\n",
      "499    1.0\n",
      "Name: 2d, Length: 500, dtype: float64, 0      0.0\n",
      "1      0.0\n",
      "2      0.0\n",
      "3      0.0\n",
      "4      0.0\n",
      "      ... \n",
      "495    0.0\n",
      "496    0.0\n",
      "497    0.0\n",
      "498    0.0\n",
      "499    0.0\n",
      "Name: 2dstd, Length: 500, dtype: float64)\n",
      "  kwargs: {}\n",
      "  exception:\n"
     ]
    },
    {
     "name": "stderr",
     "output_type": "stream",
     "text": [
      "\n"
     ]
    },
    {
     "ename": "KeyboardInterrupt",
     "evalue": "",
     "output_type": "error",
     "traceback": [
      "\u001b[0;31m---------------------------------------------------------------------------\u001b[0m",
      "\u001b[0;31mKeyboardInterrupt\u001b[0m                         Traceback (most recent call last)",
      "\u001b[1;32m/home/ushasi/Documents/GitHub/alienworlds/Sims/baesianMC.ipynb Cell 23'\u001b[0m in \u001b[0;36m<cell line: 9>\u001b[0;34m()\u001b[0m\n\u001b[1;32m      <a href='vscode-notebook-cell:/home/ushasi/Documents/GitHub/alienworlds/Sims/baesianMC.ipynb#ch0000022?line=3'>4</a>\u001b[0m p0 \u001b[39m=\u001b[39m [np\u001b[39m.\u001b[39marray(initial) \u001b[39m+\u001b[39m \u001b[39m1e-5\u001b[39m \u001b[39m*\u001b[39m np\u001b[39m.\u001b[39mrandom\u001b[39m.\u001b[39mrandn(ndim) \u001b[39mfor\u001b[39;00m i \u001b[39min\u001b[39;00m \u001b[39mrange\u001b[39m(nwalkers)]\n\u001b[1;32m      <a href='vscode-notebook-cell:/home/ushasi/Documents/GitHub/alienworlds/Sims/baesianMC.ipynb#ch0000022?line=5'>6</a>\u001b[0m sampler \u001b[39m=\u001b[39m emcee\u001b[39m.\u001b[39mEnsembleSampler(\n\u001b[1;32m      <a href='vscode-notebook-cell:/home/ushasi/Documents/GitHub/alienworlds/Sims/baesianMC.ipynb#ch0000022?line=6'>7</a>\u001b[0m     nwalkers, ndim, log_probability_2d, args\u001b[39m=\u001b[39m(ph, fl, fl_err)\n\u001b[1;32m      <a href='vscode-notebook-cell:/home/ushasi/Documents/GitHub/alienworlds/Sims/baesianMC.ipynb#ch0000022?line=7'>8</a>\u001b[0m )\n\u001b[0;32m----> <a href='vscode-notebook-cell:/home/ushasi/Documents/GitHub/alienworlds/Sims/baesianMC.ipynb#ch0000022?line=8'>9</a>\u001b[0m sampler\u001b[39m.\u001b[39;49mrun_mcmc(p0, \u001b[39m50\u001b[39;49m, progress\u001b[39m=\u001b[39;49m\u001b[39mTrue\u001b[39;49;00m)\n",
      "File \u001b[0;32m~/.local/lib/python3.8/site-packages/emcee/ensemble.py:443\u001b[0m, in \u001b[0;36mEnsembleSampler.run_mcmc\u001b[0;34m(self, initial_state, nsteps, **kwargs)\u001b[0m\n\u001b[1;32m    <a href='file:///home/ushasi/.local/lib/python3.8/site-packages/emcee/ensemble.py?line=439'>440</a>\u001b[0m     initial_state \u001b[39m=\u001b[39m \u001b[39mself\u001b[39m\u001b[39m.\u001b[39m_previous_state\n\u001b[1;32m    <a href='file:///home/ushasi/.local/lib/python3.8/site-packages/emcee/ensemble.py?line=441'>442</a>\u001b[0m results \u001b[39m=\u001b[39m \u001b[39mNone\u001b[39;00m\n\u001b[0;32m--> <a href='file:///home/ushasi/.local/lib/python3.8/site-packages/emcee/ensemble.py?line=442'>443</a>\u001b[0m \u001b[39mfor\u001b[39;00m results \u001b[39min\u001b[39;00m \u001b[39mself\u001b[39m\u001b[39m.\u001b[39msample(initial_state, iterations\u001b[39m=\u001b[39mnsteps, \u001b[39m*\u001b[39m\u001b[39m*\u001b[39mkwargs):\n\u001b[1;32m    <a href='file:///home/ushasi/.local/lib/python3.8/site-packages/emcee/ensemble.py?line=443'>444</a>\u001b[0m     \u001b[39mpass\u001b[39;00m\n\u001b[1;32m    <a href='file:///home/ushasi/.local/lib/python3.8/site-packages/emcee/ensemble.py?line=445'>446</a>\u001b[0m \u001b[39m# Store so that the ``initial_state=None`` case will work\u001b[39;00m\n",
      "File \u001b[0;32m~/.local/lib/python3.8/site-packages/emcee/ensemble.py:402\u001b[0m, in \u001b[0;36mEnsembleSampler.sample\u001b[0;34m(self, initial_state, log_prob0, rstate0, blobs0, iterations, tune, skip_initial_state_check, thin_by, thin, store, progress, progress_kwargs)\u001b[0m\n\u001b[1;32m    <a href='file:///home/ushasi/.local/lib/python3.8/site-packages/emcee/ensemble.py?line=398'>399</a>\u001b[0m move \u001b[39m=\u001b[39m \u001b[39mself\u001b[39m\u001b[39m.\u001b[39m_random\u001b[39m.\u001b[39mchoice(\u001b[39mself\u001b[39m\u001b[39m.\u001b[39m_moves, p\u001b[39m=\u001b[39m\u001b[39mself\u001b[39m\u001b[39m.\u001b[39m_weights)\n\u001b[1;32m    <a href='file:///home/ushasi/.local/lib/python3.8/site-packages/emcee/ensemble.py?line=400'>401</a>\u001b[0m \u001b[39m# Propose\u001b[39;00m\n\u001b[0;32m--> <a href='file:///home/ushasi/.local/lib/python3.8/site-packages/emcee/ensemble.py?line=401'>402</a>\u001b[0m state, accepted \u001b[39m=\u001b[39m move\u001b[39m.\u001b[39;49mpropose(model, state)\n\u001b[1;32m    <a href='file:///home/ushasi/.local/lib/python3.8/site-packages/emcee/ensemble.py?line=402'>403</a>\u001b[0m state\u001b[39m.\u001b[39mrandom_state \u001b[39m=\u001b[39m \u001b[39mself\u001b[39m\u001b[39m.\u001b[39mrandom_state\n\u001b[1;32m    <a href='file:///home/ushasi/.local/lib/python3.8/site-packages/emcee/ensemble.py?line=404'>405</a>\u001b[0m \u001b[39mif\u001b[39;00m tune:\n",
      "File \u001b[0;32m~/.local/lib/python3.8/site-packages/emcee/moves/red_blue.py:93\u001b[0m, in \u001b[0;36mRedBlueMove.propose\u001b[0;34m(self, model, state)\u001b[0m\n\u001b[1;32m     <a href='file:///home/ushasi/.local/lib/python3.8/site-packages/emcee/moves/red_blue.py?line=89'>90</a>\u001b[0m q, factors \u001b[39m=\u001b[39m \u001b[39mself\u001b[39m\u001b[39m.\u001b[39mget_proposal(s, c, model\u001b[39m.\u001b[39mrandom)\n\u001b[1;32m     <a href='file:///home/ushasi/.local/lib/python3.8/site-packages/emcee/moves/red_blue.py?line=91'>92</a>\u001b[0m \u001b[39m# Compute the lnprobs of the proposed position.\u001b[39;00m\n\u001b[0;32m---> <a href='file:///home/ushasi/.local/lib/python3.8/site-packages/emcee/moves/red_blue.py?line=92'>93</a>\u001b[0m new_log_probs, new_blobs \u001b[39m=\u001b[39m model\u001b[39m.\u001b[39;49mcompute_log_prob_fn(q)\n\u001b[1;32m     <a href='file:///home/ushasi/.local/lib/python3.8/site-packages/emcee/moves/red_blue.py?line=94'>95</a>\u001b[0m \u001b[39m# Loop over the walkers and update them accordingly.\u001b[39;00m\n\u001b[1;32m     <a href='file:///home/ushasi/.local/lib/python3.8/site-packages/emcee/moves/red_blue.py?line=95'>96</a>\u001b[0m \u001b[39mfor\u001b[39;00m i, (j, f, nlp) \u001b[39min\u001b[39;00m \u001b[39menumerate\u001b[39m(\n\u001b[1;32m     <a href='file:///home/ushasi/.local/lib/python3.8/site-packages/emcee/moves/red_blue.py?line=96'>97</a>\u001b[0m     \u001b[39mzip\u001b[39m(all_inds[S1], factors, new_log_probs)\n\u001b[1;32m     <a href='file:///home/ushasi/.local/lib/python3.8/site-packages/emcee/moves/red_blue.py?line=97'>98</a>\u001b[0m ):\n",
      "File \u001b[0;32m~/.local/lib/python3.8/site-packages/emcee/ensemble.py:489\u001b[0m, in \u001b[0;36mEnsembleSampler.compute_log_prob\u001b[0;34m(self, coords)\u001b[0m\n\u001b[1;32m    <a href='file:///home/ushasi/.local/lib/python3.8/site-packages/emcee/ensemble.py?line=486'>487</a>\u001b[0m     \u001b[39melse\u001b[39;00m:\n\u001b[1;32m    <a href='file:///home/ushasi/.local/lib/python3.8/site-packages/emcee/ensemble.py?line=487'>488</a>\u001b[0m         map_func \u001b[39m=\u001b[39m \u001b[39mmap\u001b[39m\n\u001b[0;32m--> <a href='file:///home/ushasi/.local/lib/python3.8/site-packages/emcee/ensemble.py?line=488'>489</a>\u001b[0m     results \u001b[39m=\u001b[39m \u001b[39mlist\u001b[39;49m(map_func(\u001b[39mself\u001b[39;49m\u001b[39m.\u001b[39;49mlog_prob_fn, p))\n\u001b[1;32m    <a href='file:///home/ushasi/.local/lib/python3.8/site-packages/emcee/ensemble.py?line=490'>491</a>\u001b[0m \u001b[39mtry\u001b[39;00m:\n\u001b[1;32m    <a href='file:///home/ushasi/.local/lib/python3.8/site-packages/emcee/ensemble.py?line=491'>492</a>\u001b[0m     log_prob \u001b[39m=\u001b[39m np\u001b[39m.\u001b[39marray([\u001b[39mfloat\u001b[39m(l[\u001b[39m0\u001b[39m]) \u001b[39mfor\u001b[39;00m l \u001b[39min\u001b[39;00m results])\n",
      "File \u001b[0;32m~/.local/lib/python3.8/site-packages/emcee/ensemble.py:624\u001b[0m, in \u001b[0;36m_FunctionWrapper.__call__\u001b[0;34m(self, x)\u001b[0m\n\u001b[1;32m    <a href='file:///home/ushasi/.local/lib/python3.8/site-packages/emcee/ensemble.py?line=621'>622</a>\u001b[0m \u001b[39mdef\u001b[39;00m \u001b[39m__call__\u001b[39m(\u001b[39mself\u001b[39m, x):\n\u001b[1;32m    <a href='file:///home/ushasi/.local/lib/python3.8/site-packages/emcee/ensemble.py?line=622'>623</a>\u001b[0m     \u001b[39mtry\u001b[39;00m:\n\u001b[0;32m--> <a href='file:///home/ushasi/.local/lib/python3.8/site-packages/emcee/ensemble.py?line=623'>624</a>\u001b[0m         \u001b[39mreturn\u001b[39;00m \u001b[39mself\u001b[39;49m\u001b[39m.\u001b[39;49mf(x, \u001b[39m*\u001b[39;49m\u001b[39mself\u001b[39;49m\u001b[39m.\u001b[39;49margs, \u001b[39m*\u001b[39;49m\u001b[39m*\u001b[39;49m\u001b[39mself\u001b[39;49m\u001b[39m.\u001b[39;49mkwargs)\n\u001b[1;32m    <a href='file:///home/ushasi/.local/lib/python3.8/site-packages/emcee/ensemble.py?line=624'>625</a>\u001b[0m     \u001b[39mexcept\u001b[39;00m:  \u001b[39m# pragma: no cover\u001b[39;00m\n\u001b[1;32m    <a href='file:///home/ushasi/.local/lib/python3.8/site-packages/emcee/ensemble.py?line=625'>626</a>\u001b[0m         \u001b[39mimport\u001b[39;00m \u001b[39mtraceback\u001b[39;00m\n",
      "\u001b[1;32m/home/ushasi/Documents/GitHub/alienworlds/Sims/baesianMC.ipynb Cell 22'\u001b[0m in \u001b[0;36mlog_probability_2d\u001b[0;34m(theta, ph, fl, fl_err)\u001b[0m\n\u001b[1;32m     <a href='vscode-notebook-cell:/home/ushasi/Documents/GitHub/alienworlds/Sims/baesianMC.ipynb#ch0000021?line=16'>17</a>\u001b[0m \u001b[39mif\u001b[39;00m \u001b[39mnot\u001b[39;00m np\u001b[39m.\u001b[39misfinite(lp):\n\u001b[1;32m     <a href='vscode-notebook-cell:/home/ushasi/Documents/GitHub/alienworlds/Sims/baesianMC.ipynb#ch0000021?line=17'>18</a>\u001b[0m     \u001b[39mreturn\u001b[39;00m \u001b[39m-\u001b[39mnp\u001b[39m.\u001b[39minf\n\u001b[0;32m---> <a href='vscode-notebook-cell:/home/ushasi/Documents/GitHub/alienworlds/Sims/baesianMC.ipynb#ch0000021?line=18'>19</a>\u001b[0m \u001b[39mreturn\u001b[39;00m lp \u001b[39m+\u001b[39m log_likelihood_2d(theta, ph, fl, fl_err)\n",
      "\u001b[1;32m/home/ushasi/Documents/GitHub/alienworlds/Sims/baesianMC.ipynb Cell 22'\u001b[0m in \u001b[0;36mlog_likelihood_2d\u001b[0;34m(theta, ph, fl, fl_err)\u001b[0m\n\u001b[1;32m      <a href='vscode-notebook-cell:/home/ushasi/Documents/GitHub/alienworlds/Sims/baesianMC.ipynb#ch0000021?line=7'>8</a>\u001b[0m \u001b[39mdef\u001b[39;00m \u001b[39mlog_likelihood_2d\u001b[39m(theta, ph, fl, fl_err):\n\u001b[1;32m      <a href='vscode-notebook-cell:/home/ushasi/Documents/GitHub/alienworlds/Sims/baesianMC.ipynb#ch0000021?line=8'>9</a>\u001b[0m     p, rorb, u1, u2 \u001b[39m=\u001b[39m theta\n\u001b[0;32m---> <a href='vscode-notebook-cell:/home/ushasi/Documents/GitHub/alienworlds/Sims/baesianMC.ipynb#ch0000021?line=9'>10</a>\u001b[0m     model \u001b[39m=\u001b[39m lc_interpolate(ph, p, rorb, \u001b[39m0.001\u001b[39;49m, u1, u2)\n\u001b[1;32m     <a href='vscode-notebook-cell:/home/ushasi/Documents/GitHub/alienworlds/Sims/baesianMC.ipynb#ch0000021?line=10'>11</a>\u001b[0m     \u001b[39mreturn\u001b[39;00m \u001b[39m-\u001b[39m\u001b[39m0.5\u001b[39m \u001b[39m*\u001b[39m np\u001b[39m.\u001b[39msum(((fl \u001b[39m-\u001b[39m model)\u001b[39m/\u001b[39mfl_err) \u001b[39m*\u001b[39m\u001b[39m*\u001b[39m \u001b[39m2\u001b[39m)\n",
      "File \u001b[0;32m~/Documents/GitHub/alienworlds/Sims/interpolation.py:94\u001b[0m, in \u001b[0;36mlc_interpolate\u001b[0;34m(ph, rpl, rorb, b, u1, u2)\u001b[0m\n\u001b[1;32m     <a href='file:///home/ushasi/Documents/GitHub/alienworlds/Sims/interpolation.py?line=92'>93</a>\u001b[0m \u001b[39mdef\u001b[39;00m \u001b[39mlc_interpolate\u001b[39m(ph, rpl, rorb, b, u1, u2):\n\u001b[0;32m---> <a href='file:///home/ushasi/Documents/GitHub/alienworlds/Sims/interpolation.py?line=93'>94</a>\u001b[0m     phase_list, flux_list, parspace \u001b[39m=\u001b[39m lc_read(rpl, rorb, b, u1, u2)\n\u001b[1;32m     <a href='file:///home/ushasi/Documents/GitHub/alienworlds/Sims/interpolation.py?line=96'>97</a>\u001b[0m     final_flux\u001b[39m=\u001b[39m np\u001b[39m.\u001b[39mtranspose(flux_list)\n\u001b[1;32m     <a href='file:///home/ushasi/Documents/GitHub/alienworlds/Sims/interpolation.py?line=98'>99</a>\u001b[0m     \u001b[39m#print(parspace)\u001b[39;00m\n",
      "File \u001b[0;32m~/Documents/GitHub/alienworlds/Sims/interpolation.py:85\u001b[0m, in \u001b[0;36mlc_read\u001b[0;34m(rpl, rorb, b, u1, u2)\u001b[0m\n\u001b[1;32m     <a href='file:///home/ushasi/Documents/GitHub/alienworlds/Sims/interpolation.py?line=82'>83</a>\u001b[0m flux_list\u001b[39m=\u001b[39m[]\n\u001b[1;32m     <a href='file:///home/ushasi/Documents/GitHub/alienworlds/Sims/interpolation.py?line=83'>84</a>\u001b[0m \u001b[39mfor\u001b[39;00m el \u001b[39min\u001b[39;00m listed:\n\u001b[0;32m---> <a href='file:///home/ushasi/Documents/GitHub/alienworlds/Sims/interpolation.py?line=84'>85</a>\u001b[0m     df\u001b[39m=\u001b[39mpd\u001b[39m.\u001b[39;49mread_csv(\u001b[39m'\u001b[39;49m\u001b[39m../Computation_Directory/Rpl_\u001b[39;49m\u001b[39m'\u001b[39;49m\u001b[39m+\u001b[39;49m\u001b[39mstr\u001b[39;49m(el[\u001b[39m1\u001b[39;49m]\u001b[39m*\u001b[39;49m\u001b[39m100\u001b[39;49m)\u001b[39m+\u001b[39;49m\u001b[39m'\u001b[39;49m\u001b[39m/2d_rorb_\u001b[39;49m\u001b[39m'\u001b[39;49m\u001b[39m+\u001b[39;49m\u001b[39mstr\u001b[39;49m(el[\u001b[39m0\u001b[39;49m])\u001b[39m+\u001b[39;49m\u001b[39m'\u001b[39;49m\u001b[39m.csv\u001b[39;49m\u001b[39m'\u001b[39;49m)\n\u001b[1;32m     <a href='file:///home/ushasi/Documents/GitHub/alienworlds/Sims/interpolation.py?line=85'>86</a>\u001b[0m     ph\u001b[39m=\u001b[39mdf[\u001b[39m'\u001b[39m\u001b[39mframe\u001b[39m\u001b[39m'\u001b[39m]\n\u001b[1;32m     <a href='file:///home/ushasi/Documents/GitHub/alienworlds/Sims/interpolation.py?line=86'>87</a>\u001b[0m     fl\u001b[39m=\u001b[39mdf[\u001b[39m'\u001b[39m\u001b[39mu1_\u001b[39m\u001b[39m'\u001b[39m\u001b[39m+\u001b[39m\u001b[39mstr\u001b[39m(el[\u001b[39m3\u001b[39m])\u001b[39m+\u001b[39m\u001b[39m'\u001b[39m\u001b[39m_u2_\u001b[39m\u001b[39m'\u001b[39m\u001b[39m+\u001b[39m\u001b[39mstr\u001b[39m(el[\u001b[39m4\u001b[39m])\u001b[39m+\u001b[39m\u001b[39m'\u001b[39m\u001b[39m_b_\u001b[39m\u001b[39m'\u001b[39m\u001b[39m+\u001b[39m\u001b[39mstr\u001b[39m(el[\u001b[39m2\u001b[39m])]\n",
      "File \u001b[0;32m~/.local/lib/python3.8/site-packages/pandas/util/_decorators.py:311\u001b[0m, in \u001b[0;36mdeprecate_nonkeyword_arguments.<locals>.decorate.<locals>.wrapper\u001b[0;34m(*args, **kwargs)\u001b[0m\n\u001b[1;32m    <a href='file:///home/ushasi/.local/lib/python3.8/site-packages/pandas/util/_decorators.py?line=304'>305</a>\u001b[0m \u001b[39mif\u001b[39;00m \u001b[39mlen\u001b[39m(args) \u001b[39m>\u001b[39m num_allow_args:\n\u001b[1;32m    <a href='file:///home/ushasi/.local/lib/python3.8/site-packages/pandas/util/_decorators.py?line=305'>306</a>\u001b[0m     warnings\u001b[39m.\u001b[39mwarn(\n\u001b[1;32m    <a href='file:///home/ushasi/.local/lib/python3.8/site-packages/pandas/util/_decorators.py?line=306'>307</a>\u001b[0m         msg\u001b[39m.\u001b[39mformat(arguments\u001b[39m=\u001b[39marguments),\n\u001b[1;32m    <a href='file:///home/ushasi/.local/lib/python3.8/site-packages/pandas/util/_decorators.py?line=307'>308</a>\u001b[0m         \u001b[39mFutureWarning\u001b[39;00m,\n\u001b[1;32m    <a href='file:///home/ushasi/.local/lib/python3.8/site-packages/pandas/util/_decorators.py?line=308'>309</a>\u001b[0m         stacklevel\u001b[39m=\u001b[39mstacklevel,\n\u001b[1;32m    <a href='file:///home/ushasi/.local/lib/python3.8/site-packages/pandas/util/_decorators.py?line=309'>310</a>\u001b[0m     )\n\u001b[0;32m--> <a href='file:///home/ushasi/.local/lib/python3.8/site-packages/pandas/util/_decorators.py?line=310'>311</a>\u001b[0m \u001b[39mreturn\u001b[39;00m func(\u001b[39m*\u001b[39;49margs, \u001b[39m*\u001b[39;49m\u001b[39m*\u001b[39;49mkwargs)\n",
      "File \u001b[0;32m~/.local/lib/python3.8/site-packages/pandas/io/parsers/readers.py:680\u001b[0m, in \u001b[0;36mread_csv\u001b[0;34m(filepath_or_buffer, sep, delimiter, header, names, index_col, usecols, squeeze, prefix, mangle_dupe_cols, dtype, engine, converters, true_values, false_values, skipinitialspace, skiprows, skipfooter, nrows, na_values, keep_default_na, na_filter, verbose, skip_blank_lines, parse_dates, infer_datetime_format, keep_date_col, date_parser, dayfirst, cache_dates, iterator, chunksize, compression, thousands, decimal, lineterminator, quotechar, quoting, doublequote, escapechar, comment, encoding, encoding_errors, dialect, error_bad_lines, warn_bad_lines, on_bad_lines, delim_whitespace, low_memory, memory_map, float_precision, storage_options)\u001b[0m\n\u001b[1;32m    <a href='file:///home/ushasi/.local/lib/python3.8/site-packages/pandas/io/parsers/readers.py?line=664'>665</a>\u001b[0m kwds_defaults \u001b[39m=\u001b[39m _refine_defaults_read(\n\u001b[1;32m    <a href='file:///home/ushasi/.local/lib/python3.8/site-packages/pandas/io/parsers/readers.py?line=665'>666</a>\u001b[0m     dialect,\n\u001b[1;32m    <a href='file:///home/ushasi/.local/lib/python3.8/site-packages/pandas/io/parsers/readers.py?line=666'>667</a>\u001b[0m     delimiter,\n\u001b[0;32m   (...)\u001b[0m\n\u001b[1;32m    <a href='file:///home/ushasi/.local/lib/python3.8/site-packages/pandas/io/parsers/readers.py?line=675'>676</a>\u001b[0m     defaults\u001b[39m=\u001b[39m{\u001b[39m\"\u001b[39m\u001b[39mdelimiter\u001b[39m\u001b[39m\"\u001b[39m: \u001b[39m\"\u001b[39m\u001b[39m,\u001b[39m\u001b[39m\"\u001b[39m},\n\u001b[1;32m    <a href='file:///home/ushasi/.local/lib/python3.8/site-packages/pandas/io/parsers/readers.py?line=676'>677</a>\u001b[0m )\n\u001b[1;32m    <a href='file:///home/ushasi/.local/lib/python3.8/site-packages/pandas/io/parsers/readers.py?line=677'>678</a>\u001b[0m kwds\u001b[39m.\u001b[39mupdate(kwds_defaults)\n\u001b[0;32m--> <a href='file:///home/ushasi/.local/lib/python3.8/site-packages/pandas/io/parsers/readers.py?line=679'>680</a>\u001b[0m \u001b[39mreturn\u001b[39;00m _read(filepath_or_buffer, kwds)\n",
      "File \u001b[0;32m~/.local/lib/python3.8/site-packages/pandas/io/parsers/readers.py:581\u001b[0m, in \u001b[0;36m_read\u001b[0;34m(filepath_or_buffer, kwds)\u001b[0m\n\u001b[1;32m    <a href='file:///home/ushasi/.local/lib/python3.8/site-packages/pandas/io/parsers/readers.py?line=577'>578</a>\u001b[0m     \u001b[39mreturn\u001b[39;00m parser\n\u001b[1;32m    <a href='file:///home/ushasi/.local/lib/python3.8/site-packages/pandas/io/parsers/readers.py?line=579'>580</a>\u001b[0m \u001b[39mwith\u001b[39;00m parser:\n\u001b[0;32m--> <a href='file:///home/ushasi/.local/lib/python3.8/site-packages/pandas/io/parsers/readers.py?line=580'>581</a>\u001b[0m     \u001b[39mreturn\u001b[39;00m parser\u001b[39m.\u001b[39;49mread(nrows)\n",
      "File \u001b[0;32m~/.local/lib/python3.8/site-packages/pandas/io/parsers/readers.py:1254\u001b[0m, in \u001b[0;36mTextFileReader.read\u001b[0;34m(self, nrows)\u001b[0m\n\u001b[1;32m   <a href='file:///home/ushasi/.local/lib/python3.8/site-packages/pandas/io/parsers/readers.py?line=1251'>1252</a>\u001b[0m nrows \u001b[39m=\u001b[39m validate_integer(\u001b[39m\"\u001b[39m\u001b[39mnrows\u001b[39m\u001b[39m\"\u001b[39m, nrows)\n\u001b[1;32m   <a href='file:///home/ushasi/.local/lib/python3.8/site-packages/pandas/io/parsers/readers.py?line=1252'>1253</a>\u001b[0m \u001b[39mtry\u001b[39;00m:\n\u001b[0;32m-> <a href='file:///home/ushasi/.local/lib/python3.8/site-packages/pandas/io/parsers/readers.py?line=1253'>1254</a>\u001b[0m     index, columns, col_dict \u001b[39m=\u001b[39m \u001b[39mself\u001b[39;49m\u001b[39m.\u001b[39;49m_engine\u001b[39m.\u001b[39;49mread(nrows)\n\u001b[1;32m   <a href='file:///home/ushasi/.local/lib/python3.8/site-packages/pandas/io/parsers/readers.py?line=1254'>1255</a>\u001b[0m \u001b[39mexcept\u001b[39;00m \u001b[39mException\u001b[39;00m:\n\u001b[1;32m   <a href='file:///home/ushasi/.local/lib/python3.8/site-packages/pandas/io/parsers/readers.py?line=1255'>1256</a>\u001b[0m     \u001b[39mself\u001b[39m\u001b[39m.\u001b[39mclose()\n",
      "File \u001b[0;32m~/.local/lib/python3.8/site-packages/pandas/io/parsers/c_parser_wrapper.py:225\u001b[0m, in \u001b[0;36mCParserWrapper.read\u001b[0;34m(self, nrows)\u001b[0m\n\u001b[1;32m    <a href='file:///home/ushasi/.local/lib/python3.8/site-packages/pandas/io/parsers/c_parser_wrapper.py?line=222'>223</a>\u001b[0m \u001b[39mtry\u001b[39;00m:\n\u001b[1;32m    <a href='file:///home/ushasi/.local/lib/python3.8/site-packages/pandas/io/parsers/c_parser_wrapper.py?line=223'>224</a>\u001b[0m     \u001b[39mif\u001b[39;00m \u001b[39mself\u001b[39m\u001b[39m.\u001b[39mlow_memory:\n\u001b[0;32m--> <a href='file:///home/ushasi/.local/lib/python3.8/site-packages/pandas/io/parsers/c_parser_wrapper.py?line=224'>225</a>\u001b[0m         chunks \u001b[39m=\u001b[39m \u001b[39mself\u001b[39;49m\u001b[39m.\u001b[39;49m_reader\u001b[39m.\u001b[39;49mread_low_memory(nrows)\n\u001b[1;32m    <a href='file:///home/ushasi/.local/lib/python3.8/site-packages/pandas/io/parsers/c_parser_wrapper.py?line=225'>226</a>\u001b[0m         \u001b[39m# destructive to chunks\u001b[39;00m\n\u001b[1;32m    <a href='file:///home/ushasi/.local/lib/python3.8/site-packages/pandas/io/parsers/c_parser_wrapper.py?line=226'>227</a>\u001b[0m         data \u001b[39m=\u001b[39m _concatenate_chunks(chunks)\n",
      "File \u001b[0;32m~/.local/lib/python3.8/site-packages/pandas/_libs/parsers.pyx:805\u001b[0m, in \u001b[0;36mpandas._libs.parsers.TextReader.read_low_memory\u001b[0;34m()\u001b[0m\n",
      "File \u001b[0;32m~/.local/lib/python3.8/site-packages/pandas/_libs/parsers.pyx:883\u001b[0m, in \u001b[0;36mpandas._libs.parsers.TextReader._read_rows\u001b[0;34m()\u001b[0m\n",
      "File \u001b[0;32m~/.local/lib/python3.8/site-packages/pandas/_libs/parsers.pyx:1026\u001b[0m, in \u001b[0;36mpandas._libs.parsers.TextReader._convert_column_data\u001b[0;34m()\u001b[0m\n",
      "File \u001b[0;32m~/.local/lib/python3.8/site-packages/pandas/_libs/parsers.pyx:1072\u001b[0m, in \u001b[0;36mpandas._libs.parsers.TextReader._convert_tokens\u001b[0;34m()\u001b[0m\n",
      "File \u001b[0;32m~/.local/lib/python3.8/site-packages/pandas/_libs/parsers.pyx:1147\u001b[0m, in \u001b[0;36mpandas._libs.parsers.TextReader._convert_with_dtype\u001b[0;34m()\u001b[0m\n",
      "File \u001b[0;32m~/.local/lib/python3.8/site-packages/pandas/core/dtypes/common.py:1429\u001b[0m, in \u001b[0;36mis_extension_array_dtype\u001b[0;34m(arr_or_dtype)\u001b[0m\n\u001b[1;32m   <a href='file:///home/ushasi/.local/lib/python3.8/site-packages/pandas/core/dtypes/common.py?line=1419'>1420</a>\u001b[0m     \u001b[39m# Note: if other EA dtypes are ever held in HybridBlock, exclude those\u001b[39;00m\n\u001b[1;32m   <a href='file:///home/ushasi/.local/lib/python3.8/site-packages/pandas/core/dtypes/common.py?line=1420'>1421</a>\u001b[0m     \u001b[39m#  here too.\u001b[39;00m\n\u001b[1;32m   <a href='file:///home/ushasi/.local/lib/python3.8/site-packages/pandas/core/dtypes/common.py?line=1421'>1422</a>\u001b[0m     \u001b[39m# NB: need to check DatetimeTZDtype and not is_datetime64tz_dtype\u001b[39;00m\n\u001b[1;32m   <a href='file:///home/ushasi/.local/lib/python3.8/site-packages/pandas/core/dtypes/common.py?line=1422'>1423</a>\u001b[0m     \u001b[39m#  to exclude ArrowTimestampUSDtype\u001b[39;00m\n\u001b[1;32m   <a href='file:///home/ushasi/.local/lib/python3.8/site-packages/pandas/core/dtypes/common.py?line=1423'>1424</a>\u001b[0m     \u001b[39mreturn\u001b[39;00m \u001b[39misinstance\u001b[39m(dtype, ExtensionDtype) \u001b[39mand\u001b[39;00m \u001b[39mnot\u001b[39;00m \u001b[39misinstance\u001b[39m(\n\u001b[1;32m   <a href='file:///home/ushasi/.local/lib/python3.8/site-packages/pandas/core/dtypes/common.py?line=1424'>1425</a>\u001b[0m         dtype, (DatetimeTZDtype, PeriodDtype)\n\u001b[1;32m   <a href='file:///home/ushasi/.local/lib/python3.8/site-packages/pandas/core/dtypes/common.py?line=1425'>1426</a>\u001b[0m     )\n\u001b[0;32m-> <a href='file:///home/ushasi/.local/lib/python3.8/site-packages/pandas/core/dtypes/common.py?line=1428'>1429</a>\u001b[0m \u001b[39mdef\u001b[39;00m \u001b[39mis_extension_array_dtype\u001b[39m(arr_or_dtype) \u001b[39m-\u001b[39m\u001b[39m>\u001b[39m \u001b[39mbool\u001b[39m:\n\u001b[1;32m   <a href='file:///home/ushasi/.local/lib/python3.8/site-packages/pandas/core/dtypes/common.py?line=1429'>1430</a>\u001b[0m     \u001b[39m\"\"\"\u001b[39;00m\n\u001b[1;32m   <a href='file:///home/ushasi/.local/lib/python3.8/site-packages/pandas/core/dtypes/common.py?line=1430'>1431</a>\u001b[0m \u001b[39m    Check if an object is a pandas extension array type.\u001b[39;00m\n\u001b[1;32m   <a href='file:///home/ushasi/.local/lib/python3.8/site-packages/pandas/core/dtypes/common.py?line=1431'>1432</a>\u001b[0m \n\u001b[0;32m   (...)\u001b[0m\n\u001b[1;32m   <a href='file:///home/ushasi/.local/lib/python3.8/site-packages/pandas/core/dtypes/common.py?line=1471'>1472</a>\u001b[0m \u001b[39m    False\u001b[39;00m\n\u001b[1;32m   <a href='file:///home/ushasi/.local/lib/python3.8/site-packages/pandas/core/dtypes/common.py?line=1472'>1473</a>\u001b[0m \u001b[39m    \"\"\"\u001b[39;00m\n\u001b[1;32m   <a href='file:///home/ushasi/.local/lib/python3.8/site-packages/pandas/core/dtypes/common.py?line=1473'>1474</a>\u001b[0m     dtype \u001b[39m=\u001b[39m \u001b[39mgetattr\u001b[39m(arr_or_dtype, \u001b[39m\"\u001b[39m\u001b[39mdtype\u001b[39m\u001b[39m\"\u001b[39m, arr_or_dtype)\n",
      "\u001b[0;31mKeyboardInterrupt\u001b[0m: "
     ]
    }
   ],
   "source": [
    "initial = np.array([0.11,2.11,0.55,0])\n",
    "nwalkers = 8\n",
    "ndim = 4\n",
    "p0 = [np.array(initial) + 1e-5 * np.random.randn(ndim) for i in range(nwalkers)]\n",
    "\n",
    "sampler = emcee.EnsembleSampler(\n",
    "    nwalkers, ndim, log_probability_2d, args=(ph, fl, fl_err)\n",
    ")\n",
    "sampler.run_mcmc(p0, 50, progress=True)"
   ]
  },
  {
   "cell_type": "code",
   "execution_count": 16,
   "metadata": {},
   "outputs": [
    {
     "name": "stdout",
     "output_type": "stream",
     "text": [
      "(720, 4)\n"
     ]
    },
    {
     "name": "stderr",
     "output_type": "stream",
     "text": [
      "WARNING:root:Too few points to create valid contours\n",
      "WARNING:root:Too few points to create valid contours\n",
      "WARNING:root:Too few points to create valid contours\n",
      "WARNING:root:Too few points to create valid contours\n",
      "WARNING:root:Too few points to create valid contours\n",
      "WARNING:root:Too few points to create valid contours\n"
     ]
    },
    {
     "data": {
      "image/png": "[encoded data removed]",
      "text/plain": [
       "<Figure size 698.4x698.4 with 16 Axes>"
      ]
     },
     "metadata": {
      "needs_background": "light"
     },
     "output_type": "display_data"
    }
   ],
   "source": [
    "import corner\n",
    "labels = [\"p\",\"rorb\", \"u1\",\"u2\"]\n",
    "flat_samples = sampler.get_chain(discard=10, thin=1, flat=True)\n",
    "print(flat_samples.shape)\n",
    "fig = corner.corner(\n",
    "    flat_samples, labels=labels, truths=[0.1,2,0.6,0]\n",
    ")"
   ]
  },
  {
   "cell_type": "code",
   "execution_count": 6,
   "metadata": {},
   "outputs": [
    {
     "data": {
      "text/latex": [
       "$\\displaystyle \\mathrm{p} = 0.100_{-0.000}^{0.000}$"
      ],
      "text/plain": [
       "<IPython.core.display.Math object>"
      ]
     },
     "metadata": {},
     "output_type": "display_data"
    },
    {
     "data": {
      "text/latex": [
       "$\\displaystyle \\mathrm{rorb} = 2.600_{-0.000}^{0.000}$"
      ],
      "text/plain": [
       "<IPython.core.display.Math object>"
      ]
     },
     "metadata": {},
     "output_type": "display_data"
    },
    {
     "data": {
      "text/latex": [
       "$\\displaystyle \\mathrm{u1} = 0.550_{-0.000}^{0.000}$"
      ],
      "text/plain": [
       "<IPython.core.display.Math object>"
      ]
     },
     "metadata": {},
     "output_type": "display_data"
    },
    {
     "data": {
      "text/latex": [
       "$\\displaystyle \\mathrm{u2} = -0.000_{-0.000}^{0.000}$"
      ],
      "text/plain": [
       "<IPython.core.display.Math object>"
      ]
     },
     "metadata": {},
     "output_type": "display_data"
    }
   ],
   "source": [
    "from IPython.display import display, Math\n",
    "\n",
    "for i in range(ndim):\n",
    "    mcmc = np.percentile(flat_samples[:, i], [16, 50, 84])\n",
    "    q = np.diff(mcmc)\n",
    "    txt = \"\\mathrm{{{3}}} = {0:.3f}_{{-{1:.3f}}}^{{{2:.3f}}}\"\n",
    "    txt = txt.format(mcmc[1], q[0], q[1], labels[i])\n",
    "    display(Math(txt))\n"
   ]
  },
  {
   "cell_type": "code",
   "execution_count": 8,
   "metadata": {},
   "outputs": [
    {
     "name": "stdout",
     "output_type": "stream",
     "text": [
      "done\n"
     ]
    },
    {
     "ename": "IndexError",
     "evalue": "list index out of range",
     "output_type": "error",
     "traceback": [
      "\u001b[0;31m---------------------------------------------------------------------------\u001b[0m",
      "\u001b[0;31mIndexError\u001b[0m                                Traceback (most recent call last)",
      "\u001b[1;32m/home/ushasi/Documents/GitHub/alienworlds/Sims/baesianMC.ipynb Cell 26'\u001b[0m in \u001b[0;36m<cell line: 18>\u001b[0;34m()\u001b[0m\n\u001b[1;32m     <a href='vscode-notebook-cell:/home/ushasi/Documents/GitHub/alienworlds/Sims/baesianMC.ipynb#ch0000025?line=15'>16</a>\u001b[0m \u001b[39m#plt.plot(age,new_best_fit_model,label='Highest Likelihood Model')\u001b[39;00m\n\u001b[1;32m     <a href='vscode-notebook-cell:/home/ushasi/Documents/GitHub/alienworlds/Sims/baesianMC.ipynb#ch0000025?line=16'>17</a>\u001b[0m plt\u001b[39m.\u001b[39mfill_between(ph,med_model\u001b[39m-\u001b[39mspread,med_model\u001b[39m+\u001b[39mspread,color\u001b[39m=\u001b[39m\u001b[39m'\u001b[39m\u001b[39mred\u001b[39m\u001b[39m'\u001b[39m,alpha\u001b[39m=\u001b[39m\u001b[39m0.5\u001b[39m,label\u001b[39m=\u001b[39m\u001b[39mr\u001b[39m\u001b[39m'\u001b[39m\u001b[39m$3\u001b[39m\u001b[39m\\\u001b[39m\u001b[39msigma$ Posterior Spread\u001b[39m\u001b[39m'\u001b[39m, zorder\u001b[39m=\u001b[39m\u001b[39m1\u001b[39m)\n\u001b[0;32m---> <a href='vscode-notebook-cell:/home/ushasi/Documents/GitHub/alienworlds/Sims/baesianMC.ipynb#ch0000025?line=17'>18</a>\u001b[0m plt\u001b[39m.\u001b[39mplot(ph, lc_interpolate(ph, \u001b[39m0.11\u001b[39;49m,\u001b[39m3.12\u001b[39;49m,\u001b[39m0.0\u001b[39;49m,\u001b[39m0.23\u001b[39;49m,\u001b[39m0.34\u001b[39;49m), \u001b[39m\"\u001b[39m\u001b[39mk\u001b[39m\u001b[39m\"\u001b[39m, label\u001b[39m=\u001b[39m\u001b[39m\"\u001b[39m\u001b[39mtruth\u001b[39m\u001b[39m\"\u001b[39m)\n\u001b[1;32m     <a href='vscode-notebook-cell:/home/ushasi/Documents/GitHub/alienworlds/Sims/baesianMC.ipynb#ch0000025?line=18'>19</a>\u001b[0m \u001b[39m#plt.plot(ph, new_plar(ph, 0.099,0.711,0.713,2.89,0.0), \"k\", label=\"est\")\u001b[39;00m\n\u001b[1;32m     <a href='vscode-notebook-cell:/home/ushasi/Documents/GitHub/alienworlds/Sims/baesianMC.ipynb#ch0000025?line=19'>20</a>\u001b[0m plt\u001b[39m.\u001b[39mlegend(fontsize\u001b[39m=\u001b[39m\u001b[39m14\u001b[39m)\n",
      "File \u001b[0;32m~/Documents/GitHub/alienworlds/Sims/interpolation.py:94\u001b[0m, in \u001b[0;36mlc_interpolate\u001b[0;34m(ph, rpl, rorb, b, u1, u2)\u001b[0m\n\u001b[1;32m     <a href='file:///home/ushasi/Documents/GitHub/alienworlds/Sims/interpolation.py?line=92'>93</a>\u001b[0m \u001b[39mdef\u001b[39;00m \u001b[39mlc_interpolate\u001b[39m(ph, rpl, rorb, b, u1, u2):\n\u001b[0;32m---> <a href='file:///home/ushasi/Documents/GitHub/alienworlds/Sims/interpolation.py?line=93'>94</a>\u001b[0m     phase_list, flux_list, parspace \u001b[39m=\u001b[39m lc_read(rpl, rorb, b, u1, u2)\n\u001b[1;32m     <a href='file:///home/ushasi/Documents/GitHub/alienworlds/Sims/interpolation.py?line=96'>97</a>\u001b[0m     final_flux\u001b[39m=\u001b[39m np\u001b[39m.\u001b[39mtranspose(flux_list)\n\u001b[1;32m     <a href='file:///home/ushasi/Documents/GitHub/alienworlds/Sims/interpolation.py?line=98'>99</a>\u001b[0m     \u001b[39m#print(parspace)\u001b[39;00m\n",
      "File \u001b[0;32m~/Documents/GitHub/alienworlds/Sims/interpolation.py:59\u001b[0m, in \u001b[0;36mlc_read\u001b[0;34m(rpl, rorb, b, u1, u2)\u001b[0m\n\u001b[1;32m     <a href='file:///home/ushasi/Documents/GitHub/alienworlds/Sims/interpolation.py?line=56'>57</a>\u001b[0m \u001b[39mif\u001b[39;00m(b\u001b[39m<\u001b[39mb_arr[\u001b[39m0\u001b[39m]): vs\u001b[39m=\u001b[39m[[b_arr[\u001b[39m0\u001b[39m],b_arr[\u001b[39m1\u001b[39m],\u001b[39m0\u001b[39m]]\n\u001b[1;32m     <a href='file:///home/ushasi/Documents/GitHub/alienworlds/Sims/interpolation.py?line=57'>58</a>\u001b[0m \u001b[39mif\u001b[39;00m(b\u001b[39m>\u001b[39mb_arr[\u001b[39m-\u001b[39m\u001b[39m1\u001b[39m]): vs\u001b[39m=\u001b[39m[[b_arr[\u001b[39m-\u001b[39m\u001b[39m3\u001b[39m],b_arr[\u001b[39m-\u001b[39m\u001b[39m2\u001b[39m],\u001b[39m0\u001b[39m]]\n\u001b[0;32m---> <a href='file:///home/ushasi/Documents/GitHub/alienworlds/Sims/interpolation.py?line=58'>59</a>\u001b[0m parspace\u001b[39m.\u001b[39mappend(vs[\u001b[39m0\u001b[39;49m])\n\u001b[1;32m     <a href='file:///home/ushasi/Documents/GitHub/alienworlds/Sims/interpolation.py?line=59'>60</a>\u001b[0m vs\u001b[39m=\u001b[39mvs[\u001b[39m0\u001b[39m]\n\u001b[1;32m     <a href='file:///home/ushasi/Documents/GitHub/alienworlds/Sims/interpolation.py?line=60'>61</a>\u001b[0m temp\u001b[39m=\u001b[39mnp\u001b[39m.\u001b[39mconcatenate((np\u001b[39m.\u001b[39mrepeat(vs[\u001b[39m0\u001b[39m],\u001b[39m6\u001b[39m),np\u001b[39m.\u001b[39mrepeat(vs[\u001b[39m1\u001b[39m],\u001b[39m6\u001b[39m)))\n",
      "\u001b[0;31mIndexError\u001b[0m: list index out of range"
     ]
    },
    {
     "data": {
      "image/png": "[encoded data removed]",
      "text/plain": [
       "<Figure size 432x288 with 1 Axes>"
      ]
     },
     "metadata": {
      "needs_background": "light"
     },
     "output_type": "display_data"
    }
   ],
   "source": [
    "def sample_walkers(nsamples,flattened_chain):\n",
    "    models = []\n",
    "    draw = np.floor(np.random.uniform(0,len(flattened_chain),size=nsamples)).astype(int)\n",
    "    thetas = flattened_chain[draw]\n",
    "    for i in thetas[300:350]:\n",
    "        a,b,c,d = i\n",
    "        mod = lc_interpolate(ph,a,b,0.01,c,d)\n",
    "        models.append(mod)\n",
    "    spread = 3*np.std(models,axis=0)\n",
    "    med_model = np.median(models,axis=0)\n",
    "    return med_model,spread\n",
    "med_model, spread = sample_walkers(5000,flat_samples)\n",
    "print('done')\n",
    "\n",
    "plt.errorbar(ph, fl, fl_err, capsize=0, color='gray', ls='None', zorder=0)\n",
    "#plt.plot(age,new_best_fit_model,label='Highest Likelihood Model')\n",
    "plt.fill_between(ph,med_model-spread,med_model+spread,color='red',alpha=0.5,label=r'$3\\sigma$ Posterior Spread', zorder=1)\n",
    "plt.plot(ph, lc_interpolate(ph, 0.11,3.12,0.01,0.23,0.34), \"k\", label=\"truth\")\n",
    "#plt.plot(ph, new_plar(ph, 0.099,0.711,0.713,2.89,0.0), \"k\", label=\"est\")\n",
    "plt.legend(fontsize=14)\n",
    "plt.title('True: Rpl:0.11 Rorb:3.12 u1:0.23 u2:0.34 b:0 \\n Fit: Rpl:0.107 Rorb:3.07 u1:0.06 u2:0.85 b:0.0')\n",
    "\n",
    "plt.xlabel(\"x\")\n",
    "plt.ylabel(\"y\")\n",
    "#plt.savefig('baeysiantest.png')"
   ]
  }
 ],
 "metadata": {
  "interpreter": {
   "hash": "916dbcbb3f70747c44a77c7bcd40155683ae19c65e1c03b4aa3499c5328201f1"
  },
  "kernelspec": {
   "display_name": "Python 3.8.10 64-bit",
   "language": "python",
   "name": "python3"
  },
  "language_info": {
   "codemirror_mode": {
    "name": "ipython",
    "version": 3
   },
   "file_extension": ".py",
   "mimetype": "text/x-python",
   "name": "python",
   "nbconvert_exporter": "python",
   "pygments_lexer": "ipython3",
   "version": "3.8.10"
  },
  "orig_nbformat": 4
 },
 "nbformat": 4,
 "nbformat_minor": 2
}
