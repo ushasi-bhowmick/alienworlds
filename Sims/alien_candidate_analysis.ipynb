{
 "cells": [
  {
   "cell_type": "markdown",
   "metadata": {},
   "source": [
    "# Manual Review of Promising Candidates\n",
    "\n",
    "Here we list out a bunch of candidates and teir parameters which have promising weirdness in their ligghtcurves...\n",
    "We'll add that to our talk... once the data is cumulated"
   ]
  },
  {
   "cell_type": "code",
   "execution_count": 1,
   "metadata": {},
   "outputs": [],
   "source": [
    "import numpy as np\n",
    "import matplotlib.pyplot as plt\n",
    "from astropy.io import fits\n",
    "import pandas as pd\n",
    "from scipy.optimize import curve_fit\n",
    "#import aliensims as dy\n",
    "#from ellc import lc\n",
    "import os\n",
    "from transit import occultnonlin, occultquad\n",
    "from interpolation import load_grids, lc_interpolate_v2"
   ]
  },
  {
   "cell_type": "markdown",
   "metadata": {},
   "source": [
    "### List of candidates\n",
    "<ol>\n",
    "    <li>KIC 8110757: potential eclipsing binary but highly assymetric curve\n",
    "    <li>KIC 5357901 (KOI 188b, Kepler-425): tidally fluctuating hot jupiter\n",
    "    <li>KIC 5358624: tidally fluctuating hot jupiter\n",
    "    <li>KIC 9941662: seemsto be contact binary signatures\n",
    "    <li>KIC 6372268: contact binary signatures\n",
    "    <li>KIC 9025971: seems to be some tiny mid transit flares... could just be noise\n",
    "    <li>KIC 8308347: personal curiosity\n",
    "    <li>KIC 10975146: assymetric like 1 ... confirmed planet\n",
    "    <li>KIC 2557430: assymetric peaks\n",
    "    <li>KIC 10295951: some peaky sigs ... still candidate\n",
    "    <li>KIC 11404644: Probably false alarm\n",
    "    <li>KIC 6620003: shows some improvement\n",
    "    <li>KIC 8323764:\n",
    "</ol>"
   ]
  },
  {
   "cell_type": "markdown",
   "metadata": {},
   "source": [
    "[8840] CAN rank122_009944201_1.jpg\n",
    "     [721] CAN rank131_008616873_1.jpg\n",
    "[393] CAN rank237_001161345_1.jpg\n",
    "        [216] CAN rank272_007380537_1.jpg\n",
    "[956] CAN rank306_006620003_1.jpg\n",
    "            [7855] CAN rank368_006842345_1.jpg\n",
    "[582] CAN rank377_010295951_1.jpg\n",
    "[7596] CAN rank384_011404644_1.jpg\n",
    "        [3044] CAN rank386_010395543_1.jpg\n",
    "[5676] CAN rank402_009574614_1.jpg\n",
    "        [1531] CAN rank434_010158418_1.jpg\n",
    "        [92] CAN rank446_003453214_1.jpg\n",
    "            [3534] CAN rank488_006309763_1.jpg\n",
    "     [37] CAN rank496_011138155_1.jpg\n",
    "    [1204] CAN rank500_012120943_1.jpg\n",
    "    [269] CAN rank508_009140402_1.jpg\n",
    "    [2757] CAN rank517_008684730_1.jpg\n",
    "      [3015] CAN rank518_009119458_1.jpg\n",
    "[1646] CAN rank540_006300348_1.jpg\n",
    "[2739] CAN rank552_007051180_1.jpg\n",
    "     [3602] CAN rank582_002569995_1.jpg\n",
    "      [172] CAN rank585_006526710_1.jpg\n",
    "[5387] CAN rank586_008323764_1.jpg"
   ]
  },
  {
   "cell_type": "code",
   "execution_count": 2,
   "metadata": {},
   "outputs": [
    {
     "name": "stdout",
     "output_type": "stream",
     "text": [
      "(10, 10, 7, 10, 3, 300) (10, 10, 300)\n"
     ]
    }
   ],
   "source": [
    "#Directory setting for candidate list\n",
    "FILEPATH_FPS=\"E:\\Masters_Project_Data\\\\alienworlds_fps\\\\\"\n",
    "#FILEPATH_FPS=\"/media/ushasi/Elements/Masters_Project_Data/alienworlds_fps/\"\n",
    "k1 = 'kplr008110757-20160128150956_dvt.fits'\n",
    "k2 = 'kplr005357901-20160128150956_dvt.fits'\n",
    "k3 = 'kplr005358624-20160128150956_dvt.fits'\n",
    "k4 = 'kplr009941662-20160128150956_dvt.fits'\n",
    "k5 = 'kplr006372268-20160128150956_dvt.fits'\n",
    "k6= 'kplr009025971-20160128150956_dvt.fits'\n",
    "k7= 'kplr008308347-20160128150956_dvt.fits'\n",
    "k8= 'kplr010975146-20160128150956_dvt.fits'\n",
    "k9='kplr002557430-20160128150956_dvt.fits'\n",
    "k10='kplr010295951-20160128150956_dvt.fits'\n",
    "k11='kplr011404644-20160128150956_dvt.fits'\n",
    "k12='kplr006620003-20160128150956_dvt.fits'\n",
    "k13='kplr008323764-20160128150956_dvt.fits'\n",
    "\n",
    "ks1='kplr001161345-20160128150956_dvt.fits'\n",
    "ks2='kplr009944201-20160128150956_dvt.fits'\n",
    "ks3='kplr009574614-20160128150956_dvt.fits'\n",
    "ks4='kplr006300348-20160128150956_dvt.fits'\n",
    "ks5='kplr007051180-20160128150956_dvt.fits'\n",
    "\n",
    "kt1='kplr006681618-20160128150956_dvt.fits'\n",
    "kt2='kplr008240109-20160128150956_dvt.fits'\n",
    "kt3='kplr009597095-20160128150956_dvt.fits'\n",
    "\n",
    "points, vals, phases = load_grids()\n",
    "\n"
   ]
  },
  {
   "cell_type": "markdown",
   "metadata": {},
   "source": [
    "### Model fitting functions\n",
    "Here are routines needed for fitting the models if and when..."
   ]
  },
  {
   "cell_type": "code",
   "execution_count": 3,
   "metadata": {},
   "outputs": [],
   "source": [
    "#algol model:\n",
    "def sort_data(hdu, hduno):\n",
    "    flux = []\n",
    "    flux_white=[]\n",
    "    phase = []\n",
    "    lc_err=[]\n",
    "    model = []\n",
    "    tp = hdu[hduno].header['TPERIOD']\n",
    "    for ph, fl,wl, ml, err in zip(hdu[hduno].data['PHASE'],hdu[hduno].data['LC_DETREND'],hdu[hduno].data['LC_WHITE'],hdu[hduno].data['MODEL_WHITE'],hdu[hduno].data['LC_INIT_ERR']):\n",
    "        if not np.isnan(fl):\n",
    "            flux.append(fl)\n",
    "            if(ph*2/tp>1): phase.append(ph*2/tp -2)\n",
    "            else: phase.append(ph*2/tp)\n",
    "            flux_white.append(wl)\n",
    "            model.append(ml)\n",
    "            lc_err.append(err)\n",
    "    dfunb = pd.DataFrame(list(zip(phase, flux, flux_white, model, lc_err)),columns=['phase', 'flux','flux_white', 'model','error'])\n",
    "    df=dfunb.sort_values('phase',axis=0,ascending=True)\n",
    "    df=df[(df.phase>-0.75) & (df.phase<0.75)]\n",
    "\n",
    "    # bins=np.linspace(min(df['phase']),max(df['phase']),8000)\n",
    "    # groups = df.groupby(np.digitize(df['phase'], bins))\n",
    "    # df=groups.median()\n",
    "    \n",
    "    # print('size:',len(df)) \n",
    "    return(df, hdu[hduno].header['TPERIOD'], hdu[hduno].header['TDUR']/24)\n",
    "    \n",
    "def pl(z,p):\n",
    "\n",
    "    if(1+p <z):\n",
    "        return(0)\n",
    "\n",
    "    elif(1-p<z and z<1+p):\n",
    "        k0 = np.arccos((p**2 + z**2 - 1)/(2*p*z))\n",
    "        k1 = np.arccos(( -p**2 + z**2 + 1)/(2*z))\n",
    "        y = (1/np.pi)*(p**2*k0 + k1 - np.sqrt((4*z**2 - (1+z**2 -p**2)**2)/4))\n",
    "        return(y)\n",
    "\n",
    "    elif(z<1-p):\n",
    "        return(p**2)\n",
    "\n",
    "    elif(z<p-1):\n",
    "        return(1)\n",
    "\n",
    "\n",
    "def new_plar_ma(ph,p,u1,u2,rorb,imp):\n",
    "    znp = np.sqrt(np.abs(rorb*np.sin(ph*np.pi))**2+imp**2)\n",
    "    a= occultquad(znp,p,[u1,u2])  \n",
    "    return(a -1) \n",
    "\n",
    "def new_plar_2d(ph,p,u1,u2,rorb,imp):\n",
    "    a= lc_interpolate_v2(ph*np.pi, p, rorb, imp, u1,u2,points, vals, phases) \n",
    "    return(a -1) \n",
    "\n",
    "def ldtest(ph,p,rorb, imp):\n",
    "    # p = 0.113\n",
    "    # rorb = 11.6\n",
    "    # imp = 0.602\n",
    "    incl = np.arccos(imp/rorb)*180/np.pi\n",
    "    #print(incl)\n",
    "    a= lc(ph,radius_1=1/rorb,radius_2=p/rorb,sbratio=0.0,incl=incl,ld_1='quad',ldc_1=[0.5967,0.1914],\n",
    "        shape_1='sphere', shape_2='sphere')\n",
    "    return(a -1) \n",
    "\n",
    "def new_plar_ellc(ph,p,u1,u2,rorb, imp):\n",
    "    incl = np.arccos(imp/rorb)*180/np.pi\n",
    "    # a= lc(ph,radius_1=1/rorb,radius_2=p/rorb,sbratio=0.0,incl=incl,ld_1='quad',ldc_1=[u1,u2],\n",
    "    #     shape_1='sphere', shape_2='sphere',f_c=np.sqrt(e)*np.cos(w),f_s=np.sqrt(e)*np.sin(w))\n",
    "    a= lc(ph,radius_1=1/rorb,radius_2=p/rorb,sbratio=0.0,incl=incl,ld_1='claret',ldc_1=[u1,u2,0,0],\n",
    "         shape_1='sphere', shape_2='sphere', period=2)\n",
    "    return(a -1) \n",
    "\n",
    "def new_plar_ellc_tide(ph,p,u1,u2,rorb, imp, hf):\n",
    "    incl = np.arccos(imp/rorb)*180/np.pi\n",
    "    # a= lc(ph,radius_1=1/rorb,radius_2=p/rorb,sbratio=0.0,incl=incl,ld_1='quad',ldc_1=[u1,u2],\n",
    "    #     shape_1='sphere', shape_2='sphere',f_c=np.sqrt(e)*np.cos(w),f_s=np.sqrt(e)*np.sin(w))\n",
    "    a= lc(ph,radius_1=1/rorb,radius_2=p/rorb,sbratio=0.0,incl=incl,ld_1='quad',ldc_1=[u1,u2],\n",
    "         shape_1='sphere', shape_2='love', hf_2=hf, hf_1=hf, period=2)\n",
    "    return(a -1)    \n",
    "\n",
    "def plar(ph,p,rorb):\n",
    "    znp = np.abs(rorb*np.sin(ph*np.pi))\n",
    "    op =[]\n",
    "    for z in znp:\n",
    "        if(1+p <z):\n",
    "            op.append(0)\n",
    "\n",
    "        elif(1-p<z and z<1+p):\n",
    "            k0 = np.arccos((p**2 + z**2 - 1)/(2*p*z))\n",
    "            k1 = np.arccos(( -p**2 + z**2 + 1)/(2*z))\n",
    "            y = (1/np.pi)*(p**2*k0 + k1 - np.sqrt((4*z**2 - (1+z**2 -p**2)**2)/4))\n",
    "            op.append(y)\n",
    "\n",
    "        elif(z<1-p):\n",
    "            op.append(p**2)\n",
    "\n",
    "        elif(z<p-1):\n",
    "            op.append(1)\n",
    "    return(-np.array(op))\n",
    "\n",
    "    #else: return(0)"
   ]
  },
  {
   "cell_type": "markdown",
   "metadata": {},
   "source": [
    "Opening file and header:"
   ]
  },
  {
   "cell_type": "code",
   "execution_count": 4,
   "metadata": {},
   "outputs": [
    {
     "name": "stdout",
     "output_type": "stream",
     "text": [
      "number of TCEs: 1\n",
      "0.0006023885\n",
      "0.0571813962974024 0.9820930177637337\n"
     ]
    }
   ],
   "source": [
    "hdu = fits.open(FILEPATH_FPS+ks3)\n",
    "print(\"number of TCEs:\", len(hdu)-2)\n",
    "\n",
    "df, tp, td = sort_data(hdu,1)\n",
    "\n",
    "df_noise = df[(df.phase<-3*td/tp) | (df.phase>3*td/tp)]\n",
    "noise = np.std(np.array(df_noise['flux']))\n",
    "print(noise)\n",
    "print(td, tp)\n",
    "#print(hdu[0].header)"
   ]
  },
  {
   "cell_type": "code",
   "execution_count": 5,
   "metadata": {},
   "outputs": [
    {
     "name": "stdout",
     "output_type": "stream",
     "text": [
      "[0.0005185  0.00051856 0.00051818 ... 0.0005243  0.0005221  0.00052277]\n"
     ]
    },
    {
     "data": {
      "image/png": "[encoded data removed]",
      "text/plain": [
       "<Figure size 432x288 with 1 Axes>"
      ]
     },
     "metadata": {
      "needs_background": "light"
     },
     "output_type": "display_data"
    }
   ],
   "source": [
    "plt.plot(hdu[1].data['PHASE'],hdu[1].data['LC_DETREND'], marker='.',ls='None')\n",
    "print(hdu[1].data['LC_INIT_ERR'])\n",
    "master_u1=0.3980\n",
    "master_u2=0.2665\n"
   ]
  },
  {
   "cell_type": "markdown",
   "metadata": {},
   "source": [
    "### Limb Darkening Statistics\n",
    "<table>\n",
    "<tr>\n",
    "    <td>KIC</td>\n",
    "    <td>Rpl\n",
    "    <td>Rorb\n",
    "    <td>u1\n",
    "    <td>u2\n",
    "    <td>b\n",
    "    <td>e\n",
    "</tr>\n",
    "<tr>\n",
    "    <td>KIC 6620003</td>\n",
    "    <td>0.16913\n",
    "    <td>5.229\n",
    "    <td>0.3803\n",
    "    <td>0.3384\n",
    "    <td>1.182\n",
    "    <td>0\n",
    "</tr>\n",
    "<tr>\n",
    "    <td>KIC 8323764</td>\n",
    "    <td>0.16913\n",
    "    <td>15.85\n",
    "    <td>0.49\n",
    "    <td>0.2075\n",
    "    <td>0.557\n",
    "    <td>0\n",
    "</tr>\n",
    "<tr>\n",
    "    <td>KIC 11404644</td>\n",
    "    <td>0.2159\n",
    "    <td>9.7742\n",
    "    <td>0.3147\n",
    "    <td>0.3032\n",
    "    <td>0.168\n",
    "    <td>0\n",
    "</tr>\n",
    "<tr>\n",
    "    <td>KIC 10295951</td>\n",
    "    <td>0.114797\n",
    "    <td>6.291\n",
    "    <td>0.2412\n",
    "    <td>0.3287\n",
    "    <td>0.57\n",
    "    <td>0\n",
    "</tr>\n",
    "<tr>\n",
    "    <td>KIC 2557430</td>\n",
    "    <td>0.43452 \n",
    "    <td>1.93 \n",
    "    <td>0.2893\n",
    "    <td>0.3105\n",
    "    <td>1.172 \n",
    "    <td>0\n",
    "</tr>\n",
    "<tr>\n",
    "    <td>KIC 8110757</td>\n",
    "    <td>0.31774 (0.037)\n",
    "    <td>1.528 (3.5193)\n",
    "    <td>0.3975 \n",
    "    <td>0.2650\n",
    "    <td>1.262 (34.34 deg)\n",
    "    <td>0\n",
    "</tr>\n",
    "<tr>\n",
    "    <td>KIC 5357901</td>\n",
    "    <td>0.108759\n",
    "    <td>13.635\n",
    "    <td>0.5256\n",
    "    <td>0.1860\n",
    "    <td>0.602 (88.65 deg)\n",
    "    <td>0\n",
    "</tr>\n",
    "<tr>\n",
    "    <td>KIC 5358624</td>\n",
    "    <td>0.13372\n",
    "    <td>11.699\n",
    "    <td>0.5167\n",
    "    <td>0.1914\n",
    "    <td>0.12 (89.41 deg)\n",
    "    <td>0\n",
    "</tr>\n",
    "<tr>\n",
    "    <td>KIC 9651668</td>\n",
    "    <td>0.121923\n",
    "    <td>8.546\n",
    "    <td>0.4415\n",
    "    <td>0.2396\n",
    "    <td>0.076 (89.49 deg)\n",
    "    <td>0\n",
    "</tr>\n",
    "<tr>\n",
    "    <td>KIC 5596440</td>\n",
    "    <td>0.04377\n",
    "    <td>1.346\n",
    "    <td>0.2913\n",
    "    <td>0.3120\n",
    "    <td>0.972 (43.72 deg)\n",
    "    <td>0\n",
    "</tr>\n",
    "<tr>\n",
    "    <td>KIC 6372268</td>\n",
    "    <td>0.04,0.03,0.002\n",
    "    <td>24.4,17.7,51.52\n",
    "    <td>1,-0.29,0.5 (-.1)\n",
    "    <td>0,1,0\n",
    "    <td>0\n",
    "    <td>0\n",
    "</tr>\n",
    "</table>"
   ]
  },
  {
   "cell_type": "markdown",
   "metadata": {},
   "source": [
    "### Fits and Parameters"
   ]
  },
  {
   "cell_type": "code",
   "execution_count": 6,
   "metadata": {},
   "outputs": [
    {
     "name": "stderr",
     "output_type": "stream",
     "text": [
      "c:\\Users\\Hp\\Documents\\FYProj\\alienworlds\\Sims\\transit.py:829: RuntimeWarning: invalid value encountered in sqrt\n",
      "  k = 0.5 * np.sqrt((1. - a) / (z * p))  # 8%\n"
     ]
    },
    {
     "name": "stdout",
     "output_type": "stream",
     "text": [
      "Var3d 27270.22964398351\n",
      "Params3d: [0.3581 0.408  0.2765 2.3052 1.2702]\n",
      "rchi3d: 1.3113338475651608\n"
     ]
    }
   ],
   "source": [
    "\n",
    "popt1, pcov1 = curve_fit(new_plar_ma, np.array(df['phase']), np.array(df['flux']), \n",
    "    bounds=([0,master_u1-0.01,master_u2-0.01,1,1], [1,master_u1+0.01,master_u2+0.01,40,1.3]))\n",
    "\n",
    "print(\"Var3d\",np.trace(pcov1))\n",
    "print(\"Params3d:\",np.round(popt1,4))\n",
    "print('rchi3d:',np.mean((df['flux']-new_plar_ma(np.array(df['phase']), *popt1))**2)/noise**2)"
   ]
  },
  {
   "cell_type": "code",
   "execution_count": 125,
   "metadata": {},
   "outputs": [
    {
     "name": "stdout",
     "output_type": "stream",
     "text": [
      " End ELLC - star 1 exceeds limiting radius\n",
      " radius1 =   0.51516968462297408     \n",
      " rlimit1 =   0.50000000000000000     \n",
      " q = m_2/m_1 =    1.0000000000000000     \n",
      " F_1 =    1.0000000000000000     \n",
      " e =    0.0000000000000000     \n",
      " End ELLC - star 1 exceeds limiting radius\n",
      " radius1 =   0.50706026801099791     \n",
      " rlimit1 =   0.50000000000000000     \n",
      " q = m_2/m_1 =    1.0000000000000000     \n",
      " F_1 =    1.0000000000000000     \n",
      " e =    0.0000000000000000     \n",
      " End ELLC - star 1 exceeds limiting radius\n",
      " radius1 =   0.50363055808685231     \n",
      " rlimit1 =   0.50000000000000000     \n",
      " q = m_2/m_1 =    1.0000000000000000     \n",
      " F_1 =    1.0000000000000000     \n",
      " e =    0.0000000000000000     \n",
      " End ELLC - star 1 exceeds limiting radius\n",
      " radius1 =   0.50156038329871178     \n",
      " rlimit1 =   0.50000000000000000     \n",
      " q = m_2/m_1 =    1.0000000000000000     \n",
      " F_1 =    1.0000000000000000     \n",
      " e =    0.0000000000000000     \n",
      " End ELLC - star 1 exceeds limiting radius\n",
      " radius1 =   0.50036794868454870     \n",
      " rlimit1 =   0.50000000000000000     \n",
      " q = m_2/m_1 =    1.0000000000000000     \n",
      " F_1 =    1.0000000000000000     \n",
      " e =    0.0000000000000000     \n",
      " End ELLC - star 1 exceeds limiting radius\n",
      " radius1 =   0.50097955677700445     \n",
      " rlimit1 =   0.50000000000000000     \n",
      " q = m_2/m_1 =    1.0000000000000000     \n",
      " F_1 =    1.0000000000000000     \n",
      " e =    0.0000000000000000     \n",
      " End ELLC - star 1 exceeds limiting radius\n",
      " radius1 =   0.50040127137900670     \n",
      " rlimit1 =   0.50000000000000000     \n",
      " q = m_2/m_1 =    1.0000000000000000     \n",
      " F_1 =    1.0000000000000000     \n",
      " e =    0.0000000000000000     \n",
      " End ELLC - star 1 exceeds limiting radius\n",
      " radius1 =   0.50006503535360580     \n",
      " rlimit1 =   0.50000000000000000     \n",
      " q = m_2/m_1 =    1.0000000000000000     \n",
      " F_1 =    1.0000000000000000     \n",
      " e =    0.0000000000000000     \n",
      " End ELLC - star 1 exceeds limiting radius\n",
      " radius1 =   0.50001098865445559     \n",
      " rlimit1 =   0.50000000000000000     \n",
      " q = m_2/m_1 =    1.0000000000000000     \n",
      " F_1 =    1.0000000000000000     \n",
      " e =    0.0000000000000000     \n",
      " End ELLC - star 1 exceeds limiting radius\n",
      " radius1 =   0.50000675845603992     \n",
      " rlimit1 =   0.50000000000000000     \n",
      " q = m_2/m_1 =    1.0000000000000000     \n",
      " F_1 =    1.0000000000000000     \n",
      " e =    0.0000000000000000     \n",
      " End ELLC - star 1 exceeds limiting radius\n",
      " radius1 =   0.50000053215833795     \n",
      " rlimit1 =   0.50000000000000000     \n",
      " q = m_2/m_1 =    1.0000000000000000     \n",
      " F_1 =    1.0000000000000000     \n",
      " e =    0.0000000000000000     \n",
      " End ELLC - star 1 exceeds limiting radius\n",
      " radius1 =   0.50000001792762172     \n",
      " rlimit1 =   0.50000000000000000     \n",
      " q = m_2/m_1 =    1.0000000000000000     \n",
      " F_1 =    1.0000000000000000     \n",
      " e =    0.0000000000000000     \n",
      " End ELLC - star 1 exceeds limiting radius\n",
      " radius1 =   0.50000078389666691     \n",
      " rlimit1 =   0.50000000000000000     \n",
      " q = m_2/m_1 =    1.0000000000000000     \n",
      " F_1 =    1.0000000000000000     \n",
      " e =    0.0000000000000000     \n",
      " End ELLC - star 1 exceeds limiting radius\n",
      " radius1 =   0.50000001702623964     \n",
      " rlimit1 =   0.50000000000000000     \n",
      " q = m_2/m_1 =    1.0000000000000000     \n",
      " F_1 =    1.0000000000000000     \n",
      " e =    0.0000000000000000     \n",
      " End ELLC - star 1 exceeds limiting radius\n",
      " radius1 =   0.50000020837925274     \n",
      " rlimit1 =   0.50000000000000000     \n",
      " q = m_2/m_1 =    1.0000000000000000     \n",
      " F_1 =    1.0000000000000000     \n",
      " e =    0.0000000000000000     \n",
      " End ELLC - star 1 exceeds limiting radius\n",
      " radius1 =   0.50000001696723062     \n",
      " rlimit1 =   0.50000000000000000     \n",
      " q = m_2/m_1 =    1.0000000000000000     \n",
      " F_1 =    1.0000000000000000     \n",
      " e =    0.0000000000000000     \n",
      " End ELLC - star 1 exceeds limiting radius\n",
      " radius1 =   0.50000000101968289     \n",
      " rlimit1 =   0.50000000000000000     \n",
      " q = m_2/m_1 =    1.0000000000000000     \n",
      " F_1 =    1.0000000000000000     \n",
      " e =    0.0000000000000000     \n",
      " End ELLC - star 1 exceeds limiting radius\n",
      " radius1 =   0.50000002493327167     \n",
      " rlimit1 =   0.50000000000000000     \n",
      " q = m_2/m_1 =    1.0000000000000000     \n",
      " F_1 =    1.0000000000000000     \n",
      " e =    0.0000000000000000     \n",
      " End ELLC - star 1 exceeds limiting radius\n",
      " radius1 =   0.50000000101917375     \n",
      " rlimit1 =   0.50000000000000000     \n",
      " q = m_2/m_1 =    1.0000000000000000     \n",
      " F_1 =    1.0000000000000000     \n",
      " e =    0.0000000000000000     \n",
      "Var3d 63929127.14894265\n",
      "Params3d: [0.0407 0.4075 0.275  2.     0.8642 4.4999]\n",
      "rchi3d: 1.2316011553991102\n"
     ]
    }
   ],
   "source": [
    "popt3, pcov3 = curve_fit(new_plar_ellc_tide, np.array(df['phase']), np.array(df['flux']), \n",
    "    bounds=([0,master_u1-0.01,master_u2-0.01,1,0,1.5], [1,master_u1+0.01,master_u2+0.01,40,1.2,4.5]))\n",
    "\n",
    "print(\"Var3d\",np.trace(pcov3))\n",
    "print(\"Params3d:\",np.round(popt3,4))\n",
    "print('rchi3d:',np.mean((df['flux']-new_plar_ellc_tide(np.array(df['phase']), *popt3))**2)/noise**2)"
   ]
  },
  {
   "cell_type": "code",
   "execution_count": 7,
   "metadata": {},
   "outputs": [
    {
     "name": "stdout",
     "output_type": "stream",
     "text": [
      "Var2d 0.05307788345626647\n",
      "Params2d: [0.115  0.408  0.2765 3.1499 0.9636]\n",
      "rchi2d: 1.3067766021060219\n"
     ]
    }
   ],
   "source": [
    "popt2, pcov2 = curve_fit(new_plar_2d, np.array(df['phase']), np.array(df['flux']), \n",
    "    bounds=([0,master_u1-0.01,master_u2-0.01,1,0.9], [1,master_u1+0.01,master_u2+0.01,40,1]))\n",
    "\n",
    "print(\"Var2d\",np.trace(pcov2))\n",
    "print(\"Params2d:\",np.round(popt2,4))\n",
    "print('rchi2d:',np.mean((df['flux']-new_plar_2d(np.array(df['phase']), *popt2))**2)/noise**2)"
   ]
  },
  {
   "cell_type": "code",
   "execution_count": 10,
   "metadata": {},
   "outputs": [],
   "source": [
    "from scipy.interpolate import interp1d\n",
    "dfa=pd.read_csv('811_fit.csv')\n",
    "check = np.array(dfa['model_fit'])"
   ]
  },
  {
   "cell_type": "markdown",
   "metadata": {},
   "source": [
    "### Plotting the fits"
   ]
  },
  {
   "cell_type": "code",
   "execution_count": 12,
   "metadata": {},
   "outputs": [
    {
     "name": "stdout",
     "output_type": "stream",
     "text": [
      "48293\n",
      "rchi3d_ma: 3.8028431231291155\n"
     ]
    },
    {
     "name": "stderr",
     "output_type": "stream",
     "text": [
      "c:\\Users\\Hp\\Documents\\FYProj\\alienworlds\\Sims\\transit.py:829: RuntimeWarning: invalid value encountered in sqrt\n",
      "  k = 0.5 * np.sqrt((1. - a) / (z * p))  # 8%\n"
     ]
    },
    {
     "name": "stdout",
     "output_type": "stream",
     "text": [
      "rchi2d: 3.760600640656249\n",
      "rchi3d_c: 4.445120145999258\n"
     ]
    },
    {
     "name": "stderr",
     "output_type": "stream",
     "text": [
      "c:\\Users\\Hp\\Documents\\FYProj\\alienworlds\\Sims\\transit.py:829: RuntimeWarning: invalid value encountered in sqrt\n",
      "  k = 0.5 * np.sqrt((1. - a) / (z * p))  # 8%\n"
     ]
    },
    {
     "data": {
      "text/plain": [
       "<matplotlib.legend.Legend at 0x2429bea9c70>"
      ]
     },
     "execution_count": 12,
     "metadata": {},
     "output_type": "execute_result"
    },
    {
     "data": {
      "image/png": "[encoded data removed]",
      "text/plain": [
       "<Figure size 720x864 with 3 Axes>"
      ]
     },
     "metadata": {
      "needs_background": "light"
     },
     "output_type": "display_data"
    }
   ],
   "source": [
    "ca=[\"#e27c7c\", \"#a86464\", \"#6d4b4b\", \"#503f3f\", \"#333333\", \"#3c4e4b\", \"#466964\", \"#599e94\", \"#6cd4c5\"]\n",
    "fig = plt.figure(figsize=(10,12))\n",
    "kernel =np.ones(50)/50\n",
    "\n",
    "print(len(np.array(df['flux'])))\n",
    "fl=np.array(df['flux'])[21000:27000]\n",
    "ph=np.array(df['phase'])[21000:27000]\n",
    "noise=np.array(df['error'])[21000:27000]\n",
    "ax1 = plt.subplot2grid((4,1), (0, 0), rowspan=1)\n",
    "ax2 = plt.subplot2grid((4,1), (1, 0), rowspan=2)\n",
    "ax3 = plt.subplot2grid((4,1), (3, 0), rowspan=1)\n",
    "\n",
    "exp1 = new_plar_ma(ph, *popt1)\n",
    "\n",
    "print('rchi3d_ma:',np.sum((fl-exp1)**2/noise**2)/(len(fl)-3))\n",
    "rchi3d=np.mean((fl-exp1)**2/noise**2)\n",
    "ax1.plot(ph, exp1, label='3d', color=ca[3])\n",
    "ax2.plot(ph,np.convolve(fl-exp1,  kernel, mode='same')+0.002, label='3d:$\\chi^2$'+str(np.around(rchi3d,4)), color=ca[3])\n",
    "\n",
    "\n",
    "exp2 = new_plar_2d(ph, *popt2)\n",
    "# exp2=check[950:1500]\n",
    "print('rchi2d:',np.sum((fl-exp2)**2/noise**2)/(len(fl)-3))\n",
    "rchi2d=np.mean((fl-exp2)**2/noise**2)\n",
    "#ax1.plot(np.array(df['phase']), exp2, label='2d', color=ca[3])\n",
    "ax1.plot(ph,exp2, label='2d', color=ca[5])\n",
    "ax2.plot(ph,np.convolve(fl-exp2,  kernel, mode='same')-0.004, label='2d:$\\chi^2$'+str(np.around(rchi2d,4)), color=ca[5])\n",
    "\n",
    "# exp3 = new_plar_ellc(np.array(df['phase']), *popt3)\n",
    "# print('rchi3d_el:',np.mean((df['flux']-exp3)**2)/noise**2)\n",
    "# rchi3d_el=np.mean((df['flux']-exp3)**2)/noise**2\n",
    "# ax1.plot(np.array(df['phase']), exp3, label='3d', color=ca[8])\n",
    "# ax2.plot(df['phase'],np.convolve(df['flux']-exp3,  kernel, mode='same')-0.00, label='3d:$\\chi^2$'+str(np.around(rchi3d_el,4)), color=ca[8])\n",
    "\n",
    "expc = new_plar_ma(ph, 0.3696, master_u1, master_u2, 2.87, 1.278)\n",
    "print('rchi3d_c:',np.sum((fl-expc)**2/noise**2)/(len(fl)-3))\n",
    "rchipub=np.mean((fl-expc)**2/noise**2)\n",
    "ax1.plot(ph, expc,  label='pub', color=ca[1])\n",
    "ax2.plot(ph,np.convolve(fl-expc,  kernel, mode='same'), label='pub:$\\chi^2$'+str(np.around(rchipub,4)),color=ca[1])\n",
    "\n",
    "ax1.set_title('Model Fit: 8110757\\nMandel and Algol 2002', size=17)\n",
    "ax1.plot(ph,fl, color='gray', zorder=1, marker='.', ls='None')\n",
    "\n",
    "ax2.set_title('Residuals', size=14)\n",
    "ax3.set_xlabel('Phase', size=14)\n",
    "ax1.set_ylabel('Flux', size=14)\n",
    "ax1.legend()\n",
    "ax2.set_ylabel('Flux-Model', size=14)\n",
    "# ax1.set_xlim(-0.5,0.5)\n",
    "# ax2.set_xlim(-0.5,0.5)\n",
    "\n",
    "ax3.plot(ph,exp1-exp2)\n",
    "\n",
    "ax2.legend()\n",
    "\n",
    "#print('old',np.std(exp- df['flux']), 'new:',np.std(exp2- df['flux']))\n",
    "#plt.savefig(\"fprez_8110757.eps\")\n"
   ]
  },
  {
   "cell_type": "code",
   "execution_count": 15,
   "metadata": {},
   "outputs": [
    {
     "data": {
      "text/plain": [
       "[<matplotlib.lines.Line2D at 0x27f00d96c40>]"
      ]
     },
     "execution_count": 15,
     "metadata": {},
     "output_type": "execute_result"
    },
    {
     "data": {
      "image/png": "[encoded data removed]",
      "text/plain": [
       "<Figure size 432x288 with 1 Axes>"
      ]
     },
     "metadata": {
      "needs_background": "light"
     },
     "output_type": "display_data"
    }
   ],
   "source": [
    "plt.plot(exp1-exp2)"
   ]
  },
  {
   "cell_type": "markdown",
   "metadata": {},
   "source": [
    "### Trying out a 2D simulation..."
   ]
  },
  {
   "cell_type": "code",
   "execution_count": null,
   "metadata": {},
   "outputs": [],
   "source": [
    "nflux=[x for x,y in zip(df['flux'],df['phase']) if(y<0.05 and y>-0.05)]\n",
    "print(len(nflux))"
   ]
  },
  {
   "cell_type": "code",
   "execution_count": null,
   "metadata": {},
   "outputs": [],
   "source": [
    "#trying out a simulation\n",
    "sim = dy.Simulator(1, 10000, 800, 0.1*np.pi, 0.4167, 0.1914)\n",
    "meg = dy.Megastructure(11.699, True, 0.13, ecc=0, per_off=0, isrot=False, elevation=0.012)\n",
    "sim.add_megs(meg)\n",
    "\n",
    "sim2 = dy.Simulator(1, 10000, 800, 0.1*np.pi, 0.4167, 0.1914)\n",
    "meg2 = dy.Megastructure(11.699, True, 0.13, ecc=0, per_off=0, isrot=True, elevation=0.012)\n",
    "sim2.add_megs(meg2)\n",
    "\n",
    "# sim3 = dy.Simulator(1, 20000, 400, 0.1*np.pi, 0.3975, 0.2650)\n",
    "# meg3 = dy.Megastructure(6.98, True, 0.015, ecc=0, per_off=0, isrot=False)\n",
    "# sim3.add_megs(meg3)\n",
    "\n",
    "\n"
   ]
  },
  {
   "cell_type": "code",
   "execution_count": null,
   "metadata": {},
   "outputs": [],
   "source": [
    "netlc=[]\n",
    "netph=[]\n",
    "for i in range(2):\n",
    "    np.random.seed(1234*i)\n",
    "    road, ph, lc = sim.simulate_transit()\n",
    "    netlc.append(lc)\n",
    "    print('3d:',i)\n",
    "    sim.initialize()\n",
    "\n",
    "# netlc3=[]\n",
    "# for i in range(50):\n",
    "#     np.random.seed(1234*i)\n",
    "#     road3, ph3, lc3 = sim3.simulate_transit()\n",
    "#     netlc3.append(lc3)\n",
    "#     print('3d2:',i)\n",
    "#     sim3.initialize()\n",
    "\n",
    "netlc2=[]\n",
    "for i in range(2):\n",
    "    np.random.seed(3456*i)\n",
    "    road2, ph2, lc2 = sim2.simulate_transit()\n",
    "    netlc2.append(lc2)\n",
    "    print('2d:',i)\n",
    "    if(i==9): netph.append(ph2)\n",
    "    sim2.initialize()\n",
    "\n",
    "lc = np.mean(np.array(netlc), axis=0)\n",
    "# lc3 = np.mean(np.array(netlc3), axis=0)\n",
    "lc2 = np.mean(np.array(netlc2), axis=0)\n"
   ]
  },
  {
   "cell_type": "code",
   "execution_count": null,
   "metadata": {},
   "outputs": [],
   "source": [
    "from multiprocessing import Process, Pool\n",
    "\n",
    "def test_multi_loops_3d(x):\n",
    "    np.random.seed(1234*x)\n",
    "    sim = dy.Simulator(1, 2000, 200, 0.1*np.pi, 2*0.3975, 0.2650)\n",
    "    meg = dy.Megastructure(13.45, True, 0.035, ecc=0.377, per_off=np.pi/2)\n",
    "    sim.add_megs(meg)\n",
    "    sim.simulate_transit()\n",
    "    if(x==0): print(\"Count:\", meg.set)\n",
    "    return(sim.frames,sim.lc)\n",
    "\n",
    "def test_multi_loops_2d(x):\n",
    "    np.random.seed(3456*x)\n",
    "    sim2 = dy.Simulator(1, 2000, 200, 0.1*np.pi, 2*0.3975, 0.2650)\n",
    "    meg2 = dy.Megastructure(13.45, True, 0.035, ecc=0.377, per_off=np.pi/2, isrot=True)\n",
    "    sim2.add_megs(meg2)\n",
    "    if(x==0): print(\"Count:\", meg.set)\n",
    "    sim.simulate_transit()\n",
    "    return(sim.frames,sim.lc)\n",
    "\n",
    "\n",
    "\n",
    "if __name__ == '__main__':\n",
    "    # start 4 worker processes\n",
    "    with Pool(processes=4) as pool:\n",
    "        frm,lc2dsum = np.asarray(pool.map(test_multi_loops_2d, range(8)))\n",
    "        lc2d = np.mean(lc2dsum, axis = 0)\n",
    "        #print(\"--- %s min ---\" % ((time.time() - start_time)/60))\n",
    "\n",
    "        frm,lc3dsum = np.asarray(pool.map(test_multi_loops_3d, range(8)))\n",
    "        #print(\"--- %s min ---\" % ((time.time() - start_time)/60))\n",
    "\n",
    "        lc3d = np.mean(lc3dsum, axis = 0)\n",
    "\n",
    "        mn = (np.asarray(lc3d-lc2d)**2).sum()/len(lc3d)\n",
    "        print(np.sqrt(mn))\n"
   ]
  },
  {
   "cell_type": "code",
   "execution_count": null,
   "metadata": {},
   "outputs": [],
   "source": [
    "plt.style.use('seaborn-bright')\n",
    "plt.figure(figsize=(10,5))\n",
    "#print(lc.shape, ph.shape)\n",
    "kernel = np.ones(30)/30\n",
    "plt.plot(np.array(ph)*0.5/np.pi,np.array(lc)-1, color='blue', label='3d')\n",
    "plt.plot(np.array(ph)*0.5/np.pi,np.array(lc2)-1, color='red', label='3d')\n",
    "plt.plot(np.array(ph)*0.5/np.pi,nflux, color='gray', label='data')\n",
    "#plt.plot(np.array(df['phase']),np.convolve(np.array(df['flux']), kernel,mode='same'),color='gray')\n",
    "#plt.plot(np.array(df['phase']), exp2, color='black', label='fit LD old')\n",
    "#plt.plot(np.array(ph)/np.pi,np.array(lc2)-1, color='blue', label='2d')\n",
    "# plt.plot(np.array(ph)/np.pi+0.5,np.array(lc3)-1, color='blue', label='3d')\n",
    "plt.title('Global View')\n",
    "plt.xlabel('Phase')\n",
    "plt.ylabel('Flux')\n",
    "#plt.xlim(-0.1,+0.1)\n",
    "#plt.ylim(-0.2,.2)\n",
    "#plt.savefig('not_a_fit.png')"
   ]
  },
  {
   "cell_type": "code",
   "execution_count": null,
   "metadata": {},
   "outputs": [],
   "source": [
    "plt.plot(ph*0.5/np.pi,nflux-lc+1)\n",
    "plt.plot(ph*0.5/np.pi,nflux-lc2+1)\n",
    "print(np.std(nflux-lc+1), np.std(nflux-lc2+1))"
   ]
  },
  {
   "cell_type": "markdown",
   "metadata": {},
   "source": [
    "### Cadence Problem"
   ]
  },
  {
   "cell_type": "code",
   "execution_count": null,
   "metadata": {},
   "outputs": [],
   "source": [
    "alt = 30\n",
    "ph = np.linspace(-0.125,0.125,300)\n",
    "fl = new_plar(ph, 0.12,0.0,0.0,3,0.0)\n",
    "fl_smooth = np.convolve(fl,np.ones(alt)/alt,mode='same')\n",
    "# ph_smooth = [ph[i] for i in range(50,len(ph),100)]\n",
    "# fl_smooth = [np.mean(fl[i:i+100]) for i in range(0,len(fl),100)]\n",
    "fig, ax = plt.subplots(1,1,figsize=(7,5))\n",
    "ax.set_title('Cadence Problem \\n $R_{pl}=0.1 R_{st}$,$R_{orb}=3 R_{st}$')\n",
    "ax.plot(ph,fl, label='sim', color='green')\n",
    "#ax.plot(ph_smooth, fl_smooth, label='avg')\n",
    "ax.plot(ph, fl_smooth, label='avg', color='red')\n",
    "ax.legend()\n",
    "#plt.savefig('fprez_cadence.jpg')\n",
    "#plt.plot(ph, fl-fl_smooth)\n",
    "print(-np.max(fl-fl_smooth)/np.min(fl))"
   ]
  },
  {
   "cell_type": "code",
   "execution_count": null,
   "metadata": {},
   "outputs": [],
   "source": [
    "alt = 100\n",
    "devarr=[]\n",
    "timearr=np.linspace(10,90,9)\n",
    "mptarr=[]\n",
    "\n",
    "ca2=[\"#e27c7c\", \"#a86464\", \"#6d4b4b\", \"#503f3f\", \"#333333\", \"#3c4e4b\", \"#466964\", \"#599e94\", \"#6cd4c5\"]\n",
    "\n",
    "fig, ax = plt.subplots(1,1,figsize=(7,5))\n",
    "i=0\n",
    "for t in timearr:\n",
    "    temp=[]\n",
    "    ptarr=np.floor(np.linspace(t,10000,40))\n",
    "    mptarr.append(ptarr)\n",
    "    for pt in ptarr:\n",
    "        ph = np.linspace(-0.125,0.125,int(pt))\n",
    "        fl = new_plar(ph, 0.1,0.0,0.0,3,0.0)\n",
    "        fl_smooth = np.convolve(fl,np.ones(int(t))/int(t),mode='same')\n",
    "        val=-np.max(fl-fl_smooth)/np.min(fl)\n",
    "        temp.append(val)\n",
    "    devarr.append(temp)\n",
    "    ax.plot(ptarr,temp, label=str(int(t)), color=ca2[i])\n",
    "    i+=1\n",
    "\n",
    "\n",
    "ax.set_xscale('log')\n",
    "ax.set_title('Cadence Problem \\n $R_{pl}=0.1 R_{st}$,$R_{orb}=3 R_{st}$')\n",
    "ax.set_ylabel('percent deviation')\n",
    "ax.set_xlabel('Points')\n",
    "ax.legend()\n",
    "\n",
    "plt.savefig('fprez_cad_demo2.jpg')\n",
    "\n"
   ]
  }
 ],
 "metadata": {
  "interpreter": {
   "hash": "11938c6bc6919ae2720b4d5011047913343b08a43b18698fd82dedb0d4417594"
  },
  "kernelspec": {
   "display_name": "Python 3.9.7 64-bit",
   "language": "python",
   "name": "python3"
  },
  "language_info": {
   "codemirror_mode": {
    "name": "ipython",
    "version": 3
   },
   "file_extension": ".py",
   "mimetype": "text/x-python",
   "name": "python",
   "nbconvert_exporter": "python",
   "pygments_lexer": "ipython3",
   "version": "3.9.7"
  },
  "orig_nbformat": 4
 },
 "nbformat": 4,
 "nbformat_minor": 2
}
