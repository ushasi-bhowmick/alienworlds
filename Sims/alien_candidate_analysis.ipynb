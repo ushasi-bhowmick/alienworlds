{
 "cells": [
  {
   "cell_type": "markdown",
   "metadata": {},
   "source": [
    "# Manual Review of Promising Candidates\n",
    "\n",
    "Here we list out a bunch of candidates and teir parameters which have promising weirdness in their ligghtcurves...\n",
    "We'll add that to our talk... once the data is cumulated"
   ]
  },
  {
   "cell_type": "code",
   "execution_count": 1,
   "metadata": {},
   "outputs": [],
   "source": [
    "import numpy as np\n",
    "import matplotlib.pyplot as plt\n",
    "from astropy.io import fits\n",
    "import pandas as pd\n",
    "from scipy.optimize import curve_fit\n",
    "import aliensims as dy\n",
    "from ellc import lc\n",
    "from transit import occultnonlin, occultquad"
   ]
  },
  {
   "cell_type": "markdown",
   "metadata": {},
   "source": [
    "### List of candidates\n",
    "<ol>\n",
    "    <li>KIC 8110757: potential eclipsing binary but highly assymetric curve\n",
    "    <li>KIC 5357901 (KOI 188b, Kepler-425): tidally fluctuating hot jupiter\n",
    "    <li>KIC 5358624: tidally fluctuating hot jupiter\n",
    "    <li>KIC 9651668: tidally fluctuating hot jupiter\n",
    "    <li>KIC 5596440: heartbeat\n",
    "    <li>KIC 11805075: personal curiosity - seems like normal transit\n",
    "    <li>KIC 5215508: seems to be two flare events\n",
    "    <li>KIC 9941662: seemsto be contact binary signatures\n",
    "    <li>KIC 6372268: contact binary signatures\n",
    "    <li>KIC 9025971: seems to be some tiny mid transit flares... could just be noise\n",
    "    <li>KIC 8308347: personal curiosity\n",
    "    <li>KIC 10975146: assymetric like 1\n",
    "    <li>KIC 11449844: one flare dot mid transit - probably false alarm\n",
    "</ol>"
   ]
  },
  {
   "cell_type": "code",
   "execution_count": 2,
   "metadata": {},
   "outputs": [],
   "source": [
    "#Directory setting for candidate list\n",
    "#FILEPATH_FPS=\"E:\\Masters_Project_Data\\\\alienworlds_fps\\\\\"\n",
    "FILEPATH_FPS=\"/media/ushasi/Elements/Masters_Project_Data/alienworlds_fps/\"\n",
    "k1 = 'kplr008110757-20160128150956_dvt.fits'\n",
    "k2 = 'kplr005357901-20160128150956_dvt.fits'\n",
    "k3 = 'kplr005358624-20160128150956_dvt.fits'\n",
    "k4 = 'kplr009651668-20160128150956_dvt.fits'\n",
    "k5 = 'kplr005596440-20160128150956_dvt.fits'\n",
    "k6 = 'kplr011805075-20160128150956_dvt.fits'\n",
    "k7 = 'kplr005215508-20160128150956_dvt.fits'\n",
    "k8 = 'kplr009941662-20160128150956_dvt.fits'\n",
    "k9 = 'kplr006372268-20160128150956_dvt.fits'\n",
    "k10= 'kplr009025971-20160128150956_dvt.fits'\n",
    "k11= 'kplr008308347-20160128150956_dvt.fits'\n",
    "k12= 'kplr010975146-20160128150956_dvt.fits'\n",
    "k13= 'kplr011449844-20160128150956_dvt.fits'\n",
    "\n"
   ]
  },
  {
   "cell_type": "markdown",
   "metadata": {},
   "source": [
    "### Model fitting functions\n",
    "Here are routines needed for fitting the models if and when..."
   ]
  },
  {
   "cell_type": "code",
   "execution_count": 6,
   "metadata": {},
   "outputs": [],
   "source": [
    "#algol model:\n",
    "def pl(z,p):\n",
    "\n",
    "    if(1+p <z):\n",
    "        return(0)\n",
    "\n",
    "    elif(1-p<z and z<1+p):\n",
    "        k0 = np.arccos((p**2 + z**2 - 1)/(2*p*z))\n",
    "        k1 = np.arccos(( -p**2 + z**2 + 1)/(2*z))\n",
    "        y = (1/np.pi)*(p**2*k0 + k1 - np.sqrt((4*z**2 - (1+z**2 -p**2)**2)/4))\n",
    "        return(y)\n",
    "\n",
    "    elif(z<1-p):\n",
    "        return(p**2)\n",
    "\n",
    "    elif(z<p-1):\n",
    "        return(1)\n",
    "\n",
    "\n",
    "def new_plar(ph,p,u1,u2,rorb,imp):\n",
    "    znp = np.sqrt(np.abs(rorb*np.sin(ph*np.pi))**2+imp**2)\n",
    "    a= occultquad(znp,p,[u1,u2])  \n",
    "    return(a -1) \n",
    "\n",
    "def ldtest(ph,p,rorb, imp):\n",
    "    # p = 0.113\n",
    "    # rorb = 11.6\n",
    "    # imp = 0.602\n",
    "    incl = np.arccos(imp/rorb)*180/np.pi\n",
    "    #print(incl)\n",
    "    a= lc(ph,radius_1=1/rorb,radius_2=p/rorb,sbratio=0.0,incl=incl,ld_1='quad',ldc_1=[0.5967,0.1914],\n",
    "        shape_1='sphere', shape_2='sphere')\n",
    "    return(a -1) \n",
    "\n",
    "def new_plar_v2(ph,p,u1,u2,rorb, imp, e, w):\n",
    "    incl = np.arccos(imp/rorb)*180/np.pi\n",
    "    a= lc(ph,radius_1=1/rorb,radius_2=p/rorb,sbratio=0.0,incl=incl,ld_1='quad',ldc_1=[u1,u2],\n",
    "        shape_1='sphere', shape_2='sphere',f_c=np.sqrt(e)*np.cos(w),f_s=np.sqrt(e)*np.sin(w))\n",
    "    return(a -1) \n",
    "    \n",
    "\n",
    "def plar(ph,p,rorb):\n",
    "    znp = np.abs(rorb*np.sin(ph*np.pi))\n",
    "    op =[]\n",
    "    for z in znp:\n",
    "        if(1+p <z):\n",
    "            op.append(0)\n",
    "\n",
    "        elif(1-p<z and z<1+p):\n",
    "            k0 = np.arccos((p**2 + z**2 - 1)/(2*p*z))\n",
    "            k1 = np.arccos(( -p**2 + z**2 + 1)/(2*z))\n",
    "            y = (1/np.pi)*(p**2*k0 + k1 - np.sqrt((4*z**2 - (1+z**2 -p**2)**2)/4))\n",
    "            op.append(y)\n",
    "\n",
    "        elif(z<1-p):\n",
    "            op.append(p**2)\n",
    "\n",
    "        elif(z<p-1):\n",
    "            op.append(1)\n",
    "    return(-np.array(op))\n",
    "\n",
    "    #else: return(0)"
   ]
  },
  {
   "cell_type": "markdown",
   "metadata": {},
   "source": [
    "Opening file and header:"
   ]
  },
  {
   "cell_type": "code",
   "execution_count": 13,
   "metadata": {},
   "outputs": [
    {
     "name": "stdout",
     "output_type": "stream",
     "text": [
      "number of TCEs: 1\n",
      "size: 8000\n"
     ]
    }
   ],
   "source": [
    "hdu = fits.open(FILEPATH_FPS+k3)\n",
    "print(\"number of TCEs:\", len(hdu)-2)\n",
    "\n",
    "flux = []\n",
    "flux_white=[]\n",
    "phase = []\n",
    "model = []\n",
    "tp = hdu[1].header['TPERIOD']\n",
    "for ph, fl,wl, ml in zip(hdu[1].data['PHASE'],hdu[1].data['LC_DETREND'],hdu[1].data['LC_WHITE'],hdu[1].data['MODEL_WHITE']):\n",
    "    if not np.isnan(fl):\n",
    "        flux.append(fl)\n",
    "        phase.append(ph/tp)\n",
    "        flux_white.append(wl)\n",
    "        model.append(ml)\n",
    "dfunb = pd.DataFrame(list(zip(phase, flux, flux_white, model)),columns=['phase', 'flux','flux_white', 'model'])\n",
    "df=dfunb.sort_values('phase',axis=0,ascending=True)\n",
    "bins=np.linspace(min(df['phase']),max(df['phase']),8000)\n",
    "groups = df.groupby(np.digitize(df['phase'], bins))\n",
    "df=groups.median()\n",
    "print('size:',len(df))\n",
    "#print(hdu[0].header)"
   ]
  },
  {
   "cell_type": "code",
   "execution_count": 5,
   "metadata": {},
   "outputs": [
    {
     "data": {
      "text/plain": [
       "[<matplotlib.lines.Line2D at 0x7f9898bd7b20>]"
      ]
     },
     "execution_count": 5,
     "metadata": {},
     "output_type": "execute_result"
    },
    {
     "data": {
      "image/png": "[encoded data removed]",
      "text/plain": [
       "<Figure size 432x288 with 1 Axes>"
      ]
     },
     "metadata": {
      "needs_background": "light"
     },
     "output_type": "display_data"
    }
   ],
   "source": [
    "plt.plot(hdu[1].data['TIME'],hdu[1].data['MODEL_WHITE'])\n",
    "# plt.plot(hdu[2].data['TIME'],hdu[2].data['MODEL_WHITE'])\n",
    "# plt.plot(hdu[3].data['TIME'],hdu[3].data['MODEL_WHITE'])\n",
    "#plt.plot(hdu[1].data['PHASE']*10)\n",
    "#plt.xlim(600,620)\n",
    "#plt.ylim(-20,20)\n",
    "#print(hdu[1].header['TDUR'],hdu[2].header['TDUR'],hdu[3].header['TDUR'],hdu[1].header['TPERIOD'],hdu[2].header['TPERIOD'],hdu[3].header['TPERIOD'],)"
   ]
  },
  {
   "cell_type": "markdown",
   "metadata": {},
   "source": [
    "### Limb Darkening Statistics\n",
    "<table>\n",
    "<tr>\n",
    "    <td>KIC</td>\n",
    "    <td>Rpl\n",
    "    <td>Rorb\n",
    "    <td>u1\n",
    "    <td>u2\n",
    "    <td>b\n",
    "    <td>e\n",
    "</tr>\n",
    "<tr>\n",
    "    <td>KIC 8110757</td>\n",
    "    <td>0.31774 (0.037)\n",
    "    <td>1.528 (3.5193)\n",
    "    <td>0.3975 \n",
    "    <td>0.2650\n",
    "    <td>1.262 (34.34 deg)\n",
    "    <td>0\n",
    "</tr>\n",
    "<tr>\n",
    "    <td>KIC 5357901</td>\n",
    "    <td>0.108759\n",
    "    <td>13.635\n",
    "    <td>0.5256\n",
    "    <td>0.1860\n",
    "    <td>0.602 (88.65 deg)\n",
    "    <td>0\n",
    "</tr>\n",
    "<tr>\n",
    "    <td>KIC 5358624</td>\n",
    "    <td>0.13372\n",
    "    <td>11.699\n",
    "    <td>0.5167\n",
    "    <td>0.1914\n",
    "    <td>0.12 (89.41 deg)\n",
    "    <td>0\n",
    "</tr>\n",
    "<tr>\n",
    "    <td>KIC 9651668</td>\n",
    "    <td>0.121923\n",
    "    <td>8.546\n",
    "    <td>0.4415\n",
    "    <td>0.2396\n",
    "    <td>0.076 (89.49 deg)\n",
    "    <td>0\n",
    "</tr>\n",
    "<tr>\n",
    "    <td>KIC 5596440</td>\n",
    "    <td>0.04377\n",
    "    <td>1.346\n",
    "    <td>0.2913\n",
    "    <td>0.3120\n",
    "    <td>0.972 (43.72 deg)\n",
    "    <td>0\n",
    "</tr>\n",
    "<tr>\n",
    "    <td>KIC 6372268</td>\n",
    "    <td>0.04,0.03,0.002\n",
    "    <td>24.4,17.7,51.52\n",
    "    <td>1,-0.29,0.5 (-.1)\n",
    "    <td>0,1,0\n",
    "    <td>0\n",
    "    <td>0\n",
    "</tr>\n",
    "</table>"
   ]
  },
  {
   "cell_type": "code",
   "execution_count": 18,
   "metadata": {},
   "outputs": [],
   "source": [
    "\n",
    "# popt2, pcov2 = curve_fit(new_plar, np.array(df['phase']), np.array(df['flux']), \n",
    "#     bounds=([0.037,0.4974,0.2650,1], [1,0.4975,0.2651,40]))\n",
    "\n",
    "popt3, pcov3 = curve_fit(ldtest, np.array(df['phase']), np.array(df['flux']),p0=[0.13,11.699,0.01], \n",
    "    bounds=([0.0001,3,0], [0.2,15,2]))\n",
    "\n",
    "# popte2, pcove2 = curve_fit(new_plar, np.array(df['phase'])-0.043, np.array(df['flux']), \n",
    "#     bounds=([0.004,-1,-1,1.00001], [0.7,1.1,1,30]))\n",
    "\n",
    "# popte, pcove = curve_fit(new_plar, np.array(df['phase'])[40000:]-0.555, np.array(df['flux'])[40000:], \n",
    "#     bounds=([0.0,0,0,1.00001], [0.7,1.1,1,100]))\n",
    "\n",
    "# popte2, pcove2 = curve_fit(new_plar, np.array(df['phase'])[40000:]-0.555, np.array(df['flux'])[40000:], \n",
    "#    bounds=([0.0,0,0,1.00001], [0.7,1,1,100]))"
   ]
  },
  {
   "cell_type": "code",
   "execution_count": 19,
   "metadata": {},
   "outputs": [
    {
     "name": "stdout",
     "output_type": "stream",
     "text": [
      "Var 0.0003243187103455522\n",
      "Params: [0.1446 8.5916 0.6755]\n",
      "Var 0.0003243187103455522\n"
     ]
    }
   ],
   "source": [
    "# print(\"Params:\",np.round(popt3,2), np.round(popte2,2), np.round(popte,2))\n",
    "print(\"Var\",np.trace(pcov3))\n",
    "print(\"Params:\",np.round(popt3,4))\n",
    "print(\"Var\",np.trace(pcov3))\n",
    "# print(np.array(df['phase'][63789]),np.array(df['phase'][0]))"
   ]
  },
  {
   "cell_type": "code",
   "execution_count": 20,
   "metadata": {},
   "outputs": [
    {
     "name": "stdout",
     "output_type": "stream",
     "text": [
      "[(0.0003582485734972798, -0.022261680010706185)]\n"
     ]
    }
   ],
   "source": [
    "from scipy.signal import find_peaks,lombscargle\n",
    "kernel = np.ones(20)/20\n",
    "nf = np.convolve((df['flux']),kernel, mode='same')\n",
    "\n",
    "plp, _ = find_peaks(-nf, height=0.0005, distance=400)\n",
    "peakf = nf[plp]\n",
    "print([el for el in zip(df['phase'][plp],peakf)])"
   ]
  },
  {
   "cell_type": "code",
   "execution_count": 23,
   "metadata": {},
   "outputs": [
    {
     "name": "stdout",
     "output_type": "stream",
     "text": [
      "old 0.0001553340491523278 new: 0.00026757184025700517\n"
     ]
    },
    {
     "data": {
      "image/png": "[encoded data removed]",
      "text/plain": [
       "<Figure size 504x504 with 2 Axes>"
      ]
     },
     "metadata": {
      "needs_background": "light"
     },
     "output_type": "display_data"
    }
   ],
   "source": [
    "fig, ax = plt.subplots(2,1,figsize=(7,7))\n",
    "exp = ldtest(np.array(df['phase']), *popt3)\n",
    "exp2 = new_plar_v2(np.array(df['phase']), 0.1337, 0.5167, 0.1914, 11.699, 0.012, 0,0)\n",
    "#exp2 = new_plar(np.array(df['phase']), 0.0374, 0.3975, 0.2650, 6,0.2)\n",
    "\n",
    "# expe = new_plar(np.array(df['phase'])-0.555, *popte)\n",
    "# expe2 = new_plar(np.array(df['phase'])-0.043, *popte2)\n",
    "\n",
    "\n",
    "# props = dict(boxstyle='round', facecolor='black', alpha=0.8, pad=1)\n",
    "# txt = \"$R_{pl}$/$R_{st}$:\"+str(np.round(popt2[0],4))+\"\\nu1:\"+str(np.round(popt2[1]-.1,4\n",
    "#     ))+\"\\nu2:\"+str(np.round(popt2[2],4))+\"\\n$R_{orb}/R_{st}$:\"+str(np.round(popt2[3]/2,4))\n",
    "\n",
    "\n",
    "# ax[1].text(0.80, 0.5, txt, fontsize=11,transform=ax[1].transAxes,  horizontalalignment='center',\n",
    "#             verticalalignment='center', linespacing=2, bbox=props, color='white')\n",
    "ax[0].set_title('Model Fit: 6372268\\nMandel and Algol 2002')\n",
    "#ax[0].scatter(np.array(df['phase'])[plp],nf[plp], zorder=2)\n",
    "ax[0].plot(np.array(df['phase']),nf, color='gray', zorder=1)\n",
    "ax[0].plot(np.array(df['phase']), exp2, color='black', label='fit LD old')\n",
    "ax[0].plot(np.array(df['phase']), exp, color='blue', label='fit LD new')\n",
    "# ax[0].plot(np.array(df['phase']), exp2+expe+expe2, color='red', label='fit LD')\n",
    "ax[1].set_title('Residual ofLD')\n",
    "ax[1].set_xlabel('Phase')\n",
    "ax[0].set_ylabel('Flux')\n",
    "ax[0].legend()\n",
    "ax[1].set_ylabel('Flux')\n",
    "# ax[0].set_ylim(-0.0022,0.002)\n",
    "# ax[1].set_ylim(-0.0015,0.001)\n",
    "# ax[2].set_ylim(-0.0015,0.001)\n",
    "ax[0].set_xlim(-0.1,0.1)\n",
    "ax[1].set_xlim(-0.1,0.1)\n",
    "#ax[2].set_xlim(-0.2,0.2)\n",
    "\n",
    "ax[1].plot(np.array(df['phase']),np.convolve(exp2- df['flux'], kernel, mode='same'), color='red')\n",
    "ax[1].plot(np.array(df['phase']),np.convolve(exp- df['flux'], kernel, mode='same'), color='#222222')\n",
    "\n",
    "print('old',np.std(exp- df['flux']), 'new:',np.std(exp2- df['flux']))\n",
    "#plt.savefig(\"not_tides_5359701.png\")\n"
   ]
  },
  {
   "cell_type": "code",
   "execution_count": 133,
   "metadata": {},
   "outputs": [],
   "source": [
    "bins=np.linspace(min(df['phase']),max(df['phase']),4000)\n",
    "#dfop = pd.DataFrame(zip(df['phase'], df['flux'],new_plar(np.array(df['phase']), *popt2)), columns=['phase','flux', 'model'])\n",
    "\n",
    "dfop = pd.DataFrame(zip(df['phase'], nf,exp2), columns=['phase','flux', 'model'])\n",
    "#dfop = pd.DataFrame(zip(df['phase'], nf,exp), columns=['phase','flux', 'model'])\n",
    "groups = dfop.groupby(np.digitize(df['phase'], bins))\n",
    "dfop=groups.median()\n",
    "dfop.to_csv('fprez_6372268.csv', sep=',', index=False)"
   ]
  },
  {
   "cell_type": "markdown",
   "metadata": {},
   "source": [
    "### Trying out a 2D simulation..."
   ]
  },
  {
   "cell_type": "code",
   "execution_count": 69,
   "metadata": {},
   "outputs": [
    {
     "name": "stdout",
     "output_type": "stream",
     "text": [
      "800\n"
     ]
    }
   ],
   "source": [
    "nflux=[x for x,y in zip(df['flux'],df['phase']) if(y<0.05 and y>-0.05)]\n",
    "print(len(nflux))"
   ]
  },
  {
   "cell_type": "code",
   "execution_count": 77,
   "metadata": {},
   "outputs": [],
   "source": [
    "#trying out a simulation\n",
    "sim = dy.Simulator(1, 10000, 800, 0.1*np.pi, 0.4167, 0.1914)\n",
    "meg = dy.Megastructure(11.699, True, 0.13, ecc=0, per_off=0, isrot=False, elevation=0.012)\n",
    "sim.add_megs(meg)\n",
    "\n",
    "sim2 = dy.Simulator(1, 10000, 800, 0.1*np.pi, 0.4167, 0.1914)\n",
    "meg2 = dy.Megastructure(11.699, True, 0.13, ecc=0, per_off=0, isrot=True, elevation=0.012)\n",
    "sim2.add_megs(meg2)\n",
    "\n",
    "# sim3 = dy.Simulator(1, 20000, 400, 0.1*np.pi, 0.3975, 0.2650)\n",
    "# meg3 = dy.Megastructure(6.98, True, 0.015, ecc=0, per_off=0, isrot=False)\n",
    "# sim3.add_megs(meg3)\n",
    "\n",
    "\n"
   ]
  },
  {
   "cell_type": "code",
   "execution_count": 78,
   "metadata": {},
   "outputs": [
    {
     "name": "stdout",
     "output_type": "stream",
     "text": [
      "3d: 0\n",
      "3d: 1\n",
      "2d: 0\n",
      "2d: 1\n"
     ]
    }
   ],
   "source": [
    "netlc=[]\n",
    "netph=[]\n",
    "for i in range(2):\n",
    "    np.random.seed(1234*i)\n",
    "    road, ph, lc = sim.simulate_transit()\n",
    "    netlc.append(lc)\n",
    "    print('3d:',i)\n",
    "    sim.initialize()\n",
    "\n",
    "# netlc3=[]\n",
    "# for i in range(50):\n",
    "#     np.random.seed(1234*i)\n",
    "#     road3, ph3, lc3 = sim3.simulate_transit()\n",
    "#     netlc3.append(lc3)\n",
    "#     print('3d2:',i)\n",
    "#     sim3.initialize()\n",
    "\n",
    "netlc2=[]\n",
    "for i in range(2):\n",
    "    np.random.seed(3456*i)\n",
    "    road2, ph2, lc2 = sim2.simulate_transit()\n",
    "    netlc2.append(lc2)\n",
    "    print('2d:',i)\n",
    "    if(i==9): netph.append(ph2)\n",
    "    sim2.initialize()\n",
    "\n",
    "lc = np.mean(np.array(netlc), axis=0)\n",
    "# lc3 = np.mean(np.array(netlc3), axis=0)\n",
    "lc2 = np.mean(np.array(netlc2), axis=0)\n"
   ]
  },
  {
   "cell_type": "code",
   "execution_count": 25,
   "metadata": {},
   "outputs": [
    {
     "name": "stdout",
     "output_type": "stream",
     "text": [
      "Count: 2\n"
     ]
    },
    {
     "ename": "KeyboardInterrupt",
     "evalue": "",
     "output_type": "error",
     "traceback": [
      "\u001b[0;31m---------------------------------------------------------------------------\u001b[0m",
      "\u001b[0;31mKeyboardInterrupt\u001b[0m                         Traceback (most recent call last)",
      "\u001b[1;32m/home/ushasi/Documents/GitHub/alienworlds/Sims/alien_candidate_analysis.ipynb Cell 19'\u001b[0m in \u001b[0;36m<cell line: 23>\u001b[0;34m()\u001b[0m\n\u001b[1;32m     <a href='vscode-notebook-cell:/home/ushasi/Documents/GitHub/alienworlds/Sims/alien_candidate_analysis.ipynb#ch0000020?line=22'>23</a>\u001b[0m \u001b[39mif\u001b[39;00m \u001b[39m__name__\u001b[39m \u001b[39m==\u001b[39m \u001b[39m'\u001b[39m\u001b[39m__main__\u001b[39m\u001b[39m'\u001b[39m:\n\u001b[1;32m     <a href='vscode-notebook-cell:/home/ushasi/Documents/GitHub/alienworlds/Sims/alien_candidate_analysis.ipynb#ch0000020?line=23'>24</a>\u001b[0m     \u001b[39m# start 4 worker processes\u001b[39;00m\n\u001b[1;32m     <a href='vscode-notebook-cell:/home/ushasi/Documents/GitHub/alienworlds/Sims/alien_candidate_analysis.ipynb#ch0000020?line=24'>25</a>\u001b[0m     \u001b[39mwith\u001b[39;00m Pool(processes\u001b[39m=\u001b[39m\u001b[39m4\u001b[39m) \u001b[39mas\u001b[39;00m pool:\n\u001b[0;32m---> <a href='vscode-notebook-cell:/home/ushasi/Documents/GitHub/alienworlds/Sims/alien_candidate_analysis.ipynb#ch0000020?line=25'>26</a>\u001b[0m         frm,lc2dsum \u001b[39m=\u001b[39m np\u001b[39m.\u001b[39masarray(pool\u001b[39m.\u001b[39;49mmap(test_multi_loops_2d, \u001b[39mrange\u001b[39;49m(\u001b[39m8\u001b[39;49m)))\n\u001b[1;32m     <a href='vscode-notebook-cell:/home/ushasi/Documents/GitHub/alienworlds/Sims/alien_candidate_analysis.ipynb#ch0000020?line=26'>27</a>\u001b[0m         lc2d \u001b[39m=\u001b[39m np\u001b[39m.\u001b[39mmean(lc2dsum, axis \u001b[39m=\u001b[39m \u001b[39m0\u001b[39m)\n\u001b[1;32m     <a href='vscode-notebook-cell:/home/ushasi/Documents/GitHub/alienworlds/Sims/alien_candidate_analysis.ipynb#ch0000020?line=27'>28</a>\u001b[0m         \u001b[39m#print(\"--- %s min ---\" % ((time.time() - start_time)/60))\u001b[39;00m\n",
      "File \u001b[0;32m/usr/lib/python3.8/multiprocessing/pool.py:364\u001b[0m, in \u001b[0;36mPool.map\u001b[0;34m(self, func, iterable, chunksize)\u001b[0m\n\u001b[1;32m    <a href='file:///usr/lib/python3.8/multiprocessing/pool.py?line=358'>359</a>\u001b[0m \u001b[39mdef\u001b[39;00m \u001b[39mmap\u001b[39m(\u001b[39mself\u001b[39m, func, iterable, chunksize\u001b[39m=\u001b[39m\u001b[39mNone\u001b[39;00m):\n\u001b[1;32m    <a href='file:///usr/lib/python3.8/multiprocessing/pool.py?line=359'>360</a>\u001b[0m     \u001b[39m'''\u001b[39;00m\n\u001b[1;32m    <a href='file:///usr/lib/python3.8/multiprocessing/pool.py?line=360'>361</a>\u001b[0m \u001b[39m    Apply `func` to each element in `iterable`, collecting the results\u001b[39;00m\n\u001b[1;32m    <a href='file:///usr/lib/python3.8/multiprocessing/pool.py?line=361'>362</a>\u001b[0m \u001b[39m    in a list that is returned.\u001b[39;00m\n\u001b[1;32m    <a href='file:///usr/lib/python3.8/multiprocessing/pool.py?line=362'>363</a>\u001b[0m \u001b[39m    '''\u001b[39;00m\n\u001b[0;32m--> <a href='file:///usr/lib/python3.8/multiprocessing/pool.py?line=363'>364</a>\u001b[0m     \u001b[39mreturn\u001b[39;00m \u001b[39mself\u001b[39;49m\u001b[39m.\u001b[39;49m_map_async(func, iterable, mapstar, chunksize)\u001b[39m.\u001b[39;49mget()\n",
      "File \u001b[0;32m/usr/lib/python3.8/multiprocessing/pool.py:765\u001b[0m, in \u001b[0;36mApplyResult.get\u001b[0;34m(self, timeout)\u001b[0m\n\u001b[1;32m    <a href='file:///usr/lib/python3.8/multiprocessing/pool.py?line=763'>764</a>\u001b[0m \u001b[39mdef\u001b[39;00m \u001b[39mget\u001b[39m(\u001b[39mself\u001b[39m, timeout\u001b[39m=\u001b[39m\u001b[39mNone\u001b[39;00m):\n\u001b[0;32m--> <a href='file:///usr/lib/python3.8/multiprocessing/pool.py?line=764'>765</a>\u001b[0m     \u001b[39mself\u001b[39;49m\u001b[39m.\u001b[39;49mwait(timeout)\n\u001b[1;32m    <a href='file:///usr/lib/python3.8/multiprocessing/pool.py?line=765'>766</a>\u001b[0m     \u001b[39mif\u001b[39;00m \u001b[39mnot\u001b[39;00m \u001b[39mself\u001b[39m\u001b[39m.\u001b[39mready():\n\u001b[1;32m    <a href='file:///usr/lib/python3.8/multiprocessing/pool.py?line=766'>767</a>\u001b[0m         \u001b[39mraise\u001b[39;00m \u001b[39mTimeoutError\u001b[39;00m\n",
      "File \u001b[0;32m/usr/lib/python3.8/multiprocessing/pool.py:762\u001b[0m, in \u001b[0;36mApplyResult.wait\u001b[0;34m(self, timeout)\u001b[0m\n\u001b[1;32m    <a href='file:///usr/lib/python3.8/multiprocessing/pool.py?line=760'>761</a>\u001b[0m \u001b[39mdef\u001b[39;00m \u001b[39mwait\u001b[39m(\u001b[39mself\u001b[39m, timeout\u001b[39m=\u001b[39m\u001b[39mNone\u001b[39;00m):\n\u001b[0;32m--> <a href='file:///usr/lib/python3.8/multiprocessing/pool.py?line=761'>762</a>\u001b[0m     \u001b[39mself\u001b[39;49m\u001b[39m.\u001b[39;49m_event\u001b[39m.\u001b[39;49mwait(timeout)\n",
      "File \u001b[0;32m/usr/lib/python3.8/threading.py:558\u001b[0m, in \u001b[0;36mEvent.wait\u001b[0;34m(self, timeout)\u001b[0m\n\u001b[1;32m    <a href='file:///usr/lib/python3.8/threading.py?line=555'>556</a>\u001b[0m signaled \u001b[39m=\u001b[39m \u001b[39mself\u001b[39m\u001b[39m.\u001b[39m_flag\n\u001b[1;32m    <a href='file:///usr/lib/python3.8/threading.py?line=556'>557</a>\u001b[0m \u001b[39mif\u001b[39;00m \u001b[39mnot\u001b[39;00m signaled:\n\u001b[0;32m--> <a href='file:///usr/lib/python3.8/threading.py?line=557'>558</a>\u001b[0m     signaled \u001b[39m=\u001b[39m \u001b[39mself\u001b[39;49m\u001b[39m.\u001b[39;49m_cond\u001b[39m.\u001b[39;49mwait(timeout)\n\u001b[1;32m    <a href='file:///usr/lib/python3.8/threading.py?line=558'>559</a>\u001b[0m \u001b[39mreturn\u001b[39;00m signaled\n",
      "File \u001b[0;32m/usr/lib/python3.8/threading.py:302\u001b[0m, in \u001b[0;36mCondition.wait\u001b[0;34m(self, timeout)\u001b[0m\n\u001b[1;32m    <a href='file:///usr/lib/python3.8/threading.py?line=299'>300</a>\u001b[0m \u001b[39mtry\u001b[39;00m:    \u001b[39m# restore state no matter what (e.g., KeyboardInterrupt)\u001b[39;00m\n\u001b[1;32m    <a href='file:///usr/lib/python3.8/threading.py?line=300'>301</a>\u001b[0m     \u001b[39mif\u001b[39;00m timeout \u001b[39mis\u001b[39;00m \u001b[39mNone\u001b[39;00m:\n\u001b[0;32m--> <a href='file:///usr/lib/python3.8/threading.py?line=301'>302</a>\u001b[0m         waiter\u001b[39m.\u001b[39;49macquire()\n\u001b[1;32m    <a href='file:///usr/lib/python3.8/threading.py?line=302'>303</a>\u001b[0m         gotit \u001b[39m=\u001b[39m \u001b[39mTrue\u001b[39;00m\n\u001b[1;32m    <a href='file:///usr/lib/python3.8/threading.py?line=303'>304</a>\u001b[0m     \u001b[39melse\u001b[39;00m:\n",
      "\u001b[0;31mKeyboardInterrupt\u001b[0m: "
     ]
    }
   ],
   "source": [
    "from multiprocessing import Process, Pool\n",
    "\n",
    "def test_multi_loops_3d(x):\n",
    "    np.random.seed(1234*x)\n",
    "    sim = dy.Simulator(1, 2000, 200, 0.1*np.pi, 2*0.3975, 0.2650)\n",
    "    meg = dy.Megastructure(13.45, True, 0.035, ecc=0.377, per_off=np.pi/2)\n",
    "    sim.add_megs(meg)\n",
    "    sim.simulate_transit()\n",
    "    if(x==0): print(\"Count:\", meg.set)\n",
    "    return(sim.frames,sim.lc)\n",
    "\n",
    "def test_multi_loops_2d(x):\n",
    "    np.random.seed(3456*x)\n",
    "    sim2 = dy.Simulator(1, 2000, 200, 0.1*np.pi, 2*0.3975, 0.2650)\n",
    "    meg2 = dy.Megastructure(13.45, True, 0.035, ecc=0.377, per_off=np.pi/2, isrot=True)\n",
    "    sim2.add_megs(meg2)\n",
    "    if(x==0): print(\"Count:\", meg.set)\n",
    "    sim.simulate_transit()\n",
    "    return(sim.frames,sim.lc)\n",
    "\n",
    "\n",
    "\n",
    "if __name__ == '__main__':\n",
    "    # start 4 worker processes\n",
    "    with Pool(processes=4) as pool:\n",
    "        frm,lc2dsum = np.asarray(pool.map(test_multi_loops_2d, range(8)))\n",
    "        lc2d = np.mean(lc2dsum, axis = 0)\n",
    "        #print(\"--- %s min ---\" % ((time.time() - start_time)/60))\n",
    "\n",
    "        frm,lc3dsum = np.asarray(pool.map(test_multi_loops_3d, range(8)))\n",
    "        #print(\"--- %s min ---\" % ((time.time() - start_time)/60))\n",
    "\n",
    "        lc3d = np.mean(lc3dsum, axis = 0)\n",
    "\n",
    "        mn = (np.asarray(lc3d-lc2d)**2).sum()/len(lc3d)\n",
    "        print(np.sqrt(mn))\n"
   ]
  },
  {
   "cell_type": "code",
   "execution_count": 79,
   "metadata": {},
   "outputs": [
    {
     "data": {
      "text/plain": [
       "Text(0, 0.5, 'Flux')"
      ]
     },
     "execution_count": 79,
     "metadata": {},
     "output_type": "execute_result"
    },
    {
     "data": {
      "image/png": "[encoded data removed]",
      "text/plain": [
       "<Figure size 720x360 with 1 Axes>"
      ]
     },
     "metadata": {
      "needs_background": "light"
     },
     "output_type": "display_data"
    }
   ],
   "source": [
    "plt.style.use('seaborn-bright')\n",
    "plt.figure(figsize=(10,5))\n",
    "#print(lc.shape, ph.shape)\n",
    "kernel = np.ones(30)/30\n",
    "plt.plot(np.array(ph)*0.5/np.pi,np.array(lc)-1, color='blue', label='3d')\n",
    "plt.plot(np.array(ph)*0.5/np.pi,np.array(lc2)-1, color='red', label='3d')\n",
    "plt.plot(np.array(ph)*0.5/np.pi,nflux, color='gray', label='data')\n",
    "#plt.plot(np.array(df['phase']),np.convolve(np.array(df['flux']), kernel,mode='same'),color='gray')\n",
    "#plt.plot(np.array(df['phase']), exp2, color='black', label='fit LD old')\n",
    "#plt.plot(np.array(ph)/np.pi,np.array(lc2)-1, color='blue', label='2d')\n",
    "# plt.plot(np.array(ph)/np.pi+0.5,np.array(lc3)-1, color='blue', label='3d')\n",
    "plt.title('Global View')\n",
    "plt.xlabel('Phase')\n",
    "plt.ylabel('Flux')\n",
    "#plt.xlim(-0.1,+0.1)\n",
    "#plt.ylim(-0.2,.2)\n",
    "#plt.savefig('not_a_fit.png')"
   ]
  },
  {
   "cell_type": "code",
   "execution_count": 80,
   "metadata": {},
   "outputs": [
    {
     "name": "stdout",
     "output_type": "stream",
     "text": [
      "0.0007480993680043825 0.0008136113695446373\n"
     ]
    },
    {
     "data": {
      "image/png": "[encoded data removed]",
      "text/plain": [
       "<Figure size 432x288 with 1 Axes>"
      ]
     },
     "metadata": {
      "needs_background": "light"
     },
     "output_type": "display_data"
    }
   ],
   "source": [
    "plt.plot(ph*0.5/np.pi,nflux-lc+1)\n",
    "plt.plot(ph*0.5/np.pi,nflux-lc2+1)\n",
    "print(np.std(nflux-lc+1), np.std(nflux-lc2+1))"
   ]
  }
 ],
 "metadata": {
  "interpreter": {
   "hash": "ac59ebe37160ed0dfa835113d9b8498d9f09ceb179beaac4002f036b9467c963"
  },
  "kernelspec": {
   "display_name": "Python 3.9.7 64-bit",
   "language": "python",
   "name": "python3"
  },
  "language_info": {
   "codemirror_mode": {
    "name": "ipython",
    "version": 3
   },
   "file_extension": ".py",
   "mimetype": "text/x-python",
   "name": "python",
   "nbconvert_exporter": "python",
   "pygments_lexer": "ipython3",
   "version": "3.8.10"
  },
  "orig_nbformat": 4
 },
 "nbformat": 4,
 "nbformat_minor": 2
}
