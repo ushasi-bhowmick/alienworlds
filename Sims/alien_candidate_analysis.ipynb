{
 "cells": [
  {
   "cell_type": "markdown",
   "metadata": {},
   "source": [
    "# Manual Review of Promising Candidates\n",
    "\n",
    "Here we list out a bunch of candidates and teir parameters which have promising weirdness in their ligghtcurves...\n",
    "We'll add that to our talk... once the data is cumulated"
   ]
  },
  {
   "cell_type": "code",
   "execution_count": 1,
   "metadata": {},
   "outputs": [],
   "source": [
    "import numpy as np\n",
    "import matplotlib.pyplot as plt\n",
    "from astropy.io import fits\n",
    "import pandas as pd\n",
    "from scipy.optimize import curve_fit\n",
    "import aliensims as dy\n",
    "from transit import occultnonlin, occultquad"
   ]
  },
  {
   "cell_type": "markdown",
   "metadata": {},
   "source": [
    "### List of candidates\n",
    "<ol>\n",
    "    <li>KIC 8110757: potential eclipsing binary but highly assymetric curve\n",
    "    <li>KIC 5357901 (KOI 188b, Kepler-425): tidally fluctuating hot jupiter\n",
    "    <li>KIC 5358624: tidally fluctuating hot jupiter\n",
    "    <li>KIC 9651668: tidally fluctuating hot jupiter\n",
    "    <li>KIC 5596440: heartbeat\n",
    "    <li>KIC 11805075: personal curiosity - seems like normal transit\n",
    "    <li>KIC 5215508: seems to be two flare events\n",
    "    <li>KIC 9941662: seemsto be contact binary signatures\n",
    "    <li>KIC 6372268: contact binary signatures\n",
    "    <li>KIC 9025971: seems to be some tiny mid transit flares... could just be noise\n",
    "    <li>KIC 8308347: personal curiosity\n",
    "    <li>KIC 10975146: assymetric like 1\n",
    "    <li>KIC 11449844: one flare dot mid transit - probably false alarm\n",
    "</ol>"
   ]
  },
  {
   "cell_type": "code",
   "execution_count": 2,
   "metadata": {},
   "outputs": [],
   "source": [
    "#Directory setting for candidate list\n",
    "FILEPATH_FPS=\"E:\\Masters_Project_Data\\\\alienworlds_fps\\\\\"\n",
    "k1 = 'kplr008110757-20160128150956_dvt.fits'\n",
    "k2 = 'kplr005357901-20160128150956_dvt.fits'\n",
    "k3 = 'kplr005358624-20160128150956_dvt.fits'\n",
    "k4 = 'kplr009651668-20160128150956_dvt.fits'\n",
    "k5 = 'kplr005596440-20160128150956_dvt.fits'\n",
    "k6 = 'kplr011805075-20160128150956_dvt.fits'\n",
    "k7 = 'kplr005215508-20160128150956_dvt.fits'\n",
    "k8 = 'kplr009941662-20160128150956_dvt.fits'\n",
    "k9 = 'kplr006372268-20160128150956_dvt.fits'\n",
    "k10= 'kplr009025971-20160128150956_dvt.fits'\n",
    "k11= 'kplr008308347-20160128150956_dvt.fits'\n",
    "k12= 'kplr010975146-20160128150956_dvt.fits'\n",
    "k13= 'kplr011449844-20160128150956_dvt.fits'\n",
    "\n"
   ]
  },
  {
   "cell_type": "markdown",
   "metadata": {},
   "source": [
    "### Model fitting functions\n",
    "Here are routines needed for fitting the models if and when..."
   ]
  },
  {
   "cell_type": "code",
   "execution_count": 93,
   "metadata": {},
   "outputs": [],
   "source": [
    "#algol model:\n",
    "def pl(z,p):\n",
    "\n",
    "    if(1+p <z):\n",
    "        return(0)\n",
    "\n",
    "    elif(1-p<z and z<1+p):\n",
    "        k0 = np.arccos((p**2 + z**2 - 1)/(2*p*z))\n",
    "        k1 = np.arccos(( -p**2 + z**2 + 1)/(2*z))\n",
    "        y = (1/np.pi)*(p**2*k0 + k1 - np.sqrt((4*z**2 - (1+z**2 -p**2)**2)/4))\n",
    "        return(y)\n",
    "\n",
    "    elif(z<1-p):\n",
    "        return(p**2)\n",
    "\n",
    "    elif(z<p-1):\n",
    "        return(1)\n",
    "\n",
    "\n",
    "def new_plar(ph,p,u1,u2,rorb):\n",
    "    imp = 0.0\n",
    "    znp = np.sqrt(np.abs(rorb*np.sin(ph*np.pi))**2+imp**2)\n",
    "    a= occultquad(znp,p,[u1,u2])  \n",
    "    return(a -1) \n",
    "    \n",
    "\n",
    "def plar(ph,p,rorb):\n",
    "    znp = np.abs(rorb*np.sin(ph*np.pi))\n",
    "    op =[]\n",
    "    for z in znp:\n",
    "        if(1+p <z):\n",
    "            op.append(0)\n",
    "\n",
    "        elif(1-p<z and z<1+p):\n",
    "            k0 = np.arccos((p**2 + z**2 - 1)/(2*p*z))\n",
    "            k1 = np.arccos(( -p**2 + z**2 + 1)/(2*z))\n",
    "            y = (1/np.pi)*(p**2*k0 + k1 - np.sqrt((4*z**2 - (1+z**2 -p**2)**2)/4))\n",
    "            op.append(y)\n",
    "\n",
    "        elif(z<1-p):\n",
    "            op.append(p**2)\n",
    "\n",
    "        elif(z<p-1):\n",
    "            op.append(1)\n",
    "    return(-np.array(op))\n",
    "\n",
    "    #else: return(0)"
   ]
  },
  {
   "cell_type": "markdown",
   "metadata": {},
   "source": [
    "Opening file and header:"
   ]
  },
  {
   "cell_type": "code",
   "execution_count": 116,
   "metadata": {},
   "outputs": [
    {
     "name": "stdout",
     "output_type": "stream",
     "text": [
      "number of TCEs: 3\n",
      "size: 64402\n"
     ]
    }
   ],
   "source": [
    "hdu = fits.open(FILEPATH_FPS+k9)\n",
    "print(\"number of TCEs:\", len(hdu)-2)\n",
    "\n",
    "flux = []\n",
    "flux_white=[]\n",
    "phase = []\n",
    "model = []\n",
    "tp = hdu[1].header['TPERIOD']\n",
    "for ph, fl,wl, ml in zip(hdu[1].data['PHASE'],hdu[1].data['LC_DETREND'],hdu[1].data['LC_WHITE'],hdu[1].data['MODEL_WHITE']):\n",
    "    if not np.isnan(fl):\n",
    "        flux.append(fl)\n",
    "        phase.append(ph/tp)\n",
    "        flux_white.append(wl)\n",
    "        model.append(ml)\n",
    "dfunb = pd.DataFrame(list(zip(phase, flux, flux_white, model)),columns=['phase', 'flux','flux_white', 'model'])\n",
    "df=dfunb.sort_values('phase',axis=0,ascending='True')\n",
    "print('size:',len(df))\n",
    "#print(hdu[0].header)"
   ]
  },
  {
   "cell_type": "code",
   "execution_count": 117,
   "metadata": {},
   "outputs": [
    {
     "name": "stdout",
     "output_type": "stream",
     "text": [
      "4.766015201301986 4.0183832324018 11.382343890120527 5.219911587028712 5.220086969849203 5.219954637415466\n"
     ]
    },
    {
     "data": {
      "image/png": "[encoded data removed]",
      "text/plain": [
       "<Figure size 432x288 with 1 Axes>"
      ]
     },
     "metadata": {
      "needs_background": "light"
     },
     "output_type": "display_data"
    }
   ],
   "source": [
    "plt.plot(hdu[1].data['TIME'],hdu[1].data['MODEL_WHITE'])\n",
    "plt.plot(hdu[2].data['TIME'],hdu[2].data['MODEL_WHITE'])\n",
    "plt.plot(hdu[3].data['TIME'],hdu[3].data['MODEL_WHITE'])\n",
    "#plt.plot(hdu[1].data['PHASE']*10)\n",
    "plt.xlim(600,620)\n",
    "#plt.ylim(-20,20)\n",
    "print(hdu[1].header['TDUR'],hdu[2].header['TDUR'],hdu[3].header['TDUR'],hdu[1].header['TPERIOD'],hdu[2].header['TPERIOD'],hdu[3].header['TPERIOD'],)"
   ]
  },
  {
   "cell_type": "markdown",
   "metadata": {},
   "source": [
    "### Limb Darkening Statistics\n",
    "<table>\n",
    "<tr>\n",
    "    <td>KIC</td>\n",
    "    <td>Rpl\n",
    "    <td>Rorb\n",
    "    <td>u1\n",
    "    <td>u2\n",
    "    <td>b\n",
    "</tr>\n",
    "<tr>\n",
    "    <td>KIC 8110757</td>\n",
    "    <td>0.037\n",
    "    <td> 6.4\n",
    "    <td>0.3975 (+.1)\n",
    "    <td>0.2650\n",
    "    <td>3.5193\n",
    "</tr>\n",
    "<tr>\n",
    "    <td>KIC 5357901</td>\n",
    "    <td>0.1168 \n",
    "    <td>11.6\n",
    "    <td>0.63 (-.1)\n",
    "    <td>0.15\n",
    "    <td>0.602\n",
    "</tr>\n",
    "\n",
    "<tr>\n",
    "    <td>KIC 6372268</td>\n",
    "    <td>0.04,0.03,0.002\n",
    "    <td>24.4,17.7,51.52\n",
    "    <td>1,-0.29,0.5 (-.1)\n",
    "    <td>0,1,0\n",
    "    <td>0\n",
    "</tr>\n",
    "</table>"
   ]
  },
  {
   "cell_type": "code",
   "execution_count": 127,
   "metadata": {},
   "outputs": [],
   "source": [
    "\n",
    "# popt2, pcov2 = curve_fit(new_plar, np.array(df['phase']), np.array(df['flux']), \n",
    "#     bounds=([0.037,0.4974,0.2650,1], [1,0.4975,0.2651,40]))\n",
    "\n",
    "popt3, pcov3 = curve_fit(new_plar, np.array(df['phase']), np.array(df['flux']), \n",
    "    bounds=([0.004,0,0,1.00001], [0.7,1.1,1,100]))\n",
    "\n",
    "popte2, pcove2 = curve_fit(new_plar, np.array(df['phase'])-0.043, np.array(df['flux']), \n",
    "    bounds=([0.004,-1,-1,1.00001], [0.7,1.1,1,30]))\n",
    "\n",
    "popte, pcove = curve_fit(new_plar, np.array(df['phase'])[40000:]-0.555, np.array(df['flux'])[40000:], \n",
    "    bounds=([0.0,0,0,1.00001], [0.7,1.1,1,100]))\n",
    "\n",
    "# popte2, pcove2 = curve_fit(new_plar, np.array(df['phase'])[40000:]-0.555, np.array(df['flux'])[40000:], \n",
    "#    bounds=([0.0,0,0,1.00001], [0.7,1,1,100]))"
   ]
  },
  {
   "cell_type": "code",
   "execution_count": 128,
   "metadata": {},
   "outputs": [
    {
     "name": "stdout",
     "output_type": "stream",
     "text": [
      "Params: [ 0.04  1.1   0.   24.04] [ 0.03 -0.29  1.   17.07] [2.000e-02 5.000e-01 0.000e+00 5.152e+01]\n",
      "Var 7.822468452713761\n"
     ]
    }
   ],
   "source": [
    "print(\"Params:\",np.round(popt3,2), np.round(popte2,2), np.round(popte,2))\n",
    "print(\"Var\",np.trace(pcov3))\n",
    "# print(\"Params:\",np.round(popt2,4))\n",
    "# print(\"Var\",np.trace(pcov2))\n",
    "#print(np.array(df['phase'][63789]),np.array(df['phase'][0]))"
   ]
  },
  {
   "cell_type": "code",
   "execution_count": 129,
   "metadata": {},
   "outputs": [
    {
     "name": "stdout",
     "output_type": "stream",
     "text": [
      "[(-0.17960006940646323, -0.002111503934720531), (0.4293534590147767, -0.0026887259110299055), (0.26144540410521605, -0.0019858120178105313), (-0.008248366329813251, -0.0010288784725344159), (0.008235027138179897, -0.0008837257809136645), (-0.12055856774317636, -0.0011922036737996677), (0.2634628842239167, -0.0010273995356874367), (0.34604067192984655, -0.0014454192933044396), (0.32290908772647975, -0.0010427855491434456), (0.11847836466292885, -0.0007333814676303519), (0.37546542568562535, -0.0005027758019969042)]\n"
     ]
    }
   ],
   "source": [
    "from scipy.signal import find_peaks,lombscargle\n",
    "kernel = np.ones(50)/50\n",
    "nf = np.convolve((df['flux']),kernel, mode='same')\n",
    "\n",
    "plp, _ = find_peaks(-nf, height=0.0005, distance=400)\n",
    "peakf = nf[plp]\n",
    "print([el for el in zip(df['phase'][plp],peakf)])"
   ]
  },
  {
   "cell_type": "code",
   "execution_count": 131,
   "metadata": {},
   "outputs": [
    {
     "name": "stderr",
     "output_type": "stream",
     "text": [
      "c:\\Users\\Hp\\Documents\\FYProj\\alienworlds\\Sims\\transit.py:829: RuntimeWarning: invalid value encountered in sqrt\n",
      "  k = 0.5 * np.sqrt((1. - a) / (z * p))  # 8%\n"
     ]
    },
    {
     "data": {
      "image/png": "[encoded data removed]",
      "text/plain": [
       "<Figure size 504x504 with 2 Axes>"
      ]
     },
     "metadata": {
      "needs_background": "light"
     },
     "output_type": "display_data"
    }
   ],
   "source": [
    "fig, ax = plt.subplots(2,1,figsize=(7,7))\n",
    "#exp = new_plar(np.array(df['phase']), *popt2)\n",
    "exp2 = new_plar(np.array(df['phase']), *popt3)\n",
    "\n",
    "expe = new_plar(np.array(df['phase'])-0.555, *popte)\n",
    "expe2 = new_plar(np.array(df['phase'])-0.043, *popte2)\n",
    "\n",
    "\n",
    "# props = dict(boxstyle='round', facecolor='black', alpha=0.8, pad=1)\n",
    "# txt = \"$R_{pl}$/$R_{st}$:\"+str(np.round(popt2[0],4))+\"\\nu1:\"+str(np.round(popt2[1]-.1,4\n",
    "#     ))+\"\\nu2:\"+str(np.round(popt2[2],4))+\"\\n$R_{orb}/R_{st}$:\"+str(np.round(popt2[3]/2,4))\n",
    "\n",
    "\n",
    "# ax[1].text(0.80, 0.5, txt, fontsize=11,transform=ax[1].transAxes,  horizontalalignment='center',\n",
    "#             verticalalignment='center', linespacing=2, bbox=props, color='white')\n",
    "ax[0].set_title('Model Fit: 6372268\\nMandel and Algol 2002')\n",
    "#ax[0].scatter(np.array(df['phase'])[plp],nf[plp], zorder=2)\n",
    "ax[0].plot(np.array(df['phase']),nf, color='gray', zorder=1)\n",
    "# ax[0].plot(np.array(df['phase']), exp, color='black', label='fit LD')\n",
    "ax[0].plot(np.array(df['phase']), exp2+expe+expe2, color='red', label='fit LD')\n",
    "ax[1].set_title('Residual ofLD')\n",
    "ax[1].set_xlabel('Phase')\n",
    "ax[0].set_ylabel('Flux')\n",
    "ax[0].legend()\n",
    "ax[1].set_ylabel('Flux')\n",
    "# ax[0].set_ylim(-0.0022,0.002)\n",
    "# ax[1].set_ylim(-0.0015,0.001)\n",
    "# ax[2].set_ylim(-0.0015,0.001)\n",
    "#ax[0].set_xlim(-0.2,0.2)\n",
    "#ax[1].set_xlim(-0.05,0.05)\n",
    "#ax[2].set_xlim(-0.2,0.2)\n",
    "\n",
    "ax[1].plot(np.array(df['phase']),np.convolve(exp2+expe+expe2- df['flux'], kernel, mode='same'), color='#444444')\n",
    "plt.savefig(\"this_is_a_fit_6372268.jpg\")\n"
   ]
  },
  {
   "cell_type": "code",
   "execution_count": 133,
   "metadata": {},
   "outputs": [],
   "source": [
    "bins=np.linspace(min(df['phase']),max(df['phase']),4000)\n",
    "#dfop = pd.DataFrame(zip(df['phase'], df['flux'],new_plar(np.array(df['phase']), *popt2)), columns=['phase','flux', 'model'])\n",
    "\n",
    "dfop = pd.DataFrame(zip(df['phase'], nf,exp2+expe+expe2), columns=['phase','flux', 'model'])\n",
    "#dfop = pd.DataFrame(zip(df['phase'], nf,exp), columns=['phase','flux', 'model'])\n",
    "groups = dfop.groupby(np.digitize(df['phase'], bins))\n",
    "dfop=groups.median()\n",
    "dfop.to_csv('fprez_6372268.csv', sep=',', index=False)"
   ]
  },
  {
   "cell_type": "code",
   "execution_count": 147,
   "metadata": {},
   "outputs": [
    {
     "data": {
      "text/plain": [
       "[<matplotlib.lines.Line2D at 0x19e72ca1ac0>]"
      ]
     },
     "execution_count": 147,
     "metadata": {},
     "output_type": "execute_result"
    },
    {
     "data": {
      "image/png": "[encoded data removed]",
      "text/plain": [
       "<Figure size 432x288 with 1 Axes>"
      ]
     },
     "metadata": {
      "needs_background": "light"
     },
     "output_type": "display_data"
    }
   ],
   "source": [
    "\n",
    "plt.plot(dfop['flux'])\n",
    "plt.plot(dfop['model'])"
   ]
  },
  {
   "cell_type": "code",
   "execution_count": null,
   "metadata": {},
   "outputs": [],
   "source": []
  },
  {
   "cell_type": "code",
   "execution_count": null,
   "metadata": {},
   "outputs": [],
   "source": []
  },
  {
   "cell_type": "code",
   "execution_count": 148,
   "metadata": {},
   "outputs": [],
   "source": [
    "#trying out a simulation\n",
    "sim = dy.Simulator(1, 20000, 400, 0.1*np.pi, 0.3975, 0.2650)\n",
    "meg = dy.Megastructure(6.98, True, 0.035, ecc=0, per_off=0, isrot=False)\n",
    "sim.add_megs(meg)\n",
    "\n",
    "# sim2 = dy.Simulator(1, 10000, 200, 0.1*np.pi, 2*0.3975, 0*0.2650)\n",
    "# meg2 = dy.Megastructure(13.45, True, 1*0.035, ecc=0.377, per_off=np.pi/2, isrot=True)\n",
    "# sim2.add_megs(meg2)\n",
    "\n",
    "sim3 = dy.Simulator(1, 20000, 400, 0.1*np.pi, 0.3975, 0.2650)\n",
    "meg3 = dy.Megastructure(6.98, True, 0.015, ecc=0, per_off=0, isrot=False)\n",
    "sim3.add_megs(meg3)\n",
    "\n",
    "\n"
   ]
  },
  {
   "cell_type": "code",
   "execution_count": 149,
   "metadata": {},
   "outputs": [
    {
     "name": "stdout",
     "output_type": "stream",
     "text": [
      "3d: 0\n",
      "3d: 1\n",
      "3d: 2\n",
      "3d: 3\n",
      "3d: 4\n",
      "3d: 5\n",
      "3d: 6\n",
      "3d: 7\n",
      "3d: 8\n",
      "3d: 9\n",
      "3d: 10\n",
      "3d: 11\n",
      "3d: 12\n",
      "3d: 13\n",
      "3d: 14\n",
      "3d: 15\n",
      "3d: 16\n",
      "3d: 17\n",
      "3d: 18\n",
      "3d: 19\n",
      "3d: 20\n",
      "3d: 21\n",
      "3d: 22\n",
      "3d: 23\n",
      "3d: 24\n",
      "3d: 25\n",
      "3d: 26\n",
      "3d: 27\n",
      "3d: 28\n",
      "3d: 29\n",
      "3d: 30\n",
      "3d: 31\n",
      "3d: 32\n",
      "3d: 33\n",
      "3d: 34\n",
      "3d: 35\n",
      "3d: 36\n",
      "3d: 37\n",
      "3d: 38\n",
      "3d: 39\n",
      "3d: 40\n",
      "3d: 41\n",
      "3d: 42\n",
      "3d: 43\n",
      "3d: 44\n",
      "3d: 45\n",
      "3d: 46\n",
      "3d: 47\n",
      "3d: 48\n",
      "3d: 49\n",
      "3d2: 0\n",
      "3d2: 1\n",
      "3d2: 2\n",
      "3d2: 3\n",
      "3d2: 4\n",
      "3d2: 5\n",
      "3d2: 6\n",
      "3d2: 7\n",
      "3d2: 8\n",
      "3d2: 9\n",
      "3d2: 10\n",
      "3d2: 11\n",
      "3d2: 12\n",
      "3d2: 13\n",
      "3d2: 14\n",
      "3d2: 15\n",
      "3d2: 16\n",
      "3d2: 17\n",
      "3d2: 18\n",
      "3d2: 19\n",
      "3d2: 20\n",
      "3d2: 21\n",
      "3d2: 22\n",
      "3d2: 23\n",
      "3d2: 24\n",
      "3d2: 25\n",
      "3d2: 26\n",
      "3d2: 27\n",
      "3d2: 28\n",
      "3d2: 29\n",
      "3d2: 30\n",
      "3d2: 31\n",
      "3d2: 32\n",
      "3d2: 33\n",
      "3d2: 34\n",
      "3d2: 35\n",
      "3d2: 36\n",
      "3d2: 37\n",
      "3d2: 38\n",
      "3d2: 39\n",
      "3d2: 40\n",
      "3d2: 41\n",
      "3d2: 42\n",
      "3d2: 43\n",
      "3d2: 44\n",
      "3d2: 45\n",
      "3d2: 46\n",
      "3d2: 47\n",
      "3d2: 48\n",
      "3d2: 49\n"
     ]
    }
   ],
   "source": [
    "netlc=[]\n",
    "netph=[]\n",
    "for i in range(50):\n",
    "    np.random.seed(1234*i)\n",
    "    road, ph, lc = sim.simulate_transit()\n",
    "    netlc.append(lc)\n",
    "    print('3d:',i)\n",
    "    sim.initialize()\n",
    "\n",
    "netlc3=[]\n",
    "for i in range(50):\n",
    "    np.random.seed(1234*i)\n",
    "    road3, ph3, lc3 = sim3.simulate_transit()\n",
    "    netlc3.append(lc3)\n",
    "    print('3d2:',i)\n",
    "    sim3.initialize()\n",
    "\n",
    "'''netlc2=[]\n",
    "for i in range(10):\n",
    "    np.random.seed(3456*i)\n",
    "    road2, ph2, lc2 = sim2.simulate_transit()\n",
    "    netlc2.append(lc2)\n",
    "    print('2d:',i)\n",
    "    if(i==9): netph.append(ph2)\n",
    "    sim2.initialize()'''\n",
    "\n",
    "lc = np.mean(np.array(netlc), axis=0)\n",
    "lc3 = np.mean(np.array(netlc3), axis=0)\n",
    "#lc2 = np.mean(np.array(netlc2), axis=0)\n"
   ]
  },
  {
   "cell_type": "code",
   "execution_count": 4,
   "metadata": {},
   "outputs": [],
   "source": [
    "from multiprocessing import Process, Pool\n",
    "\n",
    "def test_multi_loops_3d(x):\n",
    "    np.random.seed(1234*x)\n",
    "    sim = dy.Simulator(1, 2000, 200, 0.1*np.pi, 2*0.3975, 0.2650)\n",
    "    meg = dy.Megastructure(13.45, True, 0.035, ecc=0.377, per_off=np.pi/2)\n",
    "    sim.add_megs(meg)\n",
    "    sim.simulate_transit()\n",
    "    if(x==0): print(\"Count:\", meg.set)\n",
    "    return(sim.frames,sim.lc)\n",
    "\n",
    "def test_multi_loops_2d(x):\n",
    "    np.random.seed(3456*x)\n",
    "    sim2 = dy.Simulator(1, 2000, 200, 0.1*np.pi, 2*0.3975, 0.2650)\n",
    "    meg2 = dy.Megastructure(13.45, True, 0.035, ecc=0.377, per_off=np.pi/2, isrot=True)\n",
    "    sim2.add_megs(meg2)\n",
    "    if(x==0): print(\"Count:\", meg.set)\n",
    "    sim.simulate_transit()\n",
    "    return(sim.frames,sim.lc)\n",
    "\n",
    "\n",
    "\n",
    "if __name__ == '__main__':\n",
    "    # start 4 worker processes\n",
    "    with Pool(processes=4) as pool:\n",
    "        frm,lc2dsum = np.asarray(pool.map(test_multi_loops_2d, range(8)))\n",
    "        lc2d = np.mean(lc2dsum, axis = 0)\n",
    "        #print(\"--- %s min ---\" % ((time.time() - start_time)/60))\n",
    "\n",
    "        frm,lc3dsum = np.asarray(pool.map(test_multi_loops_3d, range(8)))\n",
    "        #print(\"--- %s min ---\" % ((time.time() - start_time)/60))\n",
    "\n",
    "        lc3d = np.mean(lc3dsum, axis = 0)\n",
    "\n",
    "        mn = (np.asarray(lc3d-lc2d)**2).sum()/len(lc3d)\n",
    "        print(np.sqrt(mn))\n"
   ]
  },
  {
   "cell_type": "code",
   "execution_count": 152,
   "metadata": {},
   "outputs": [
    {
     "data": {
      "text/plain": [
       "Text(0, 0.5, 'Flux')"
      ]
     },
     "execution_count": 152,
     "metadata": {},
     "output_type": "execute_result"
    },
    {
     "data": {
      "image/png": "[encoded data removed]",
      "text/plain": [
       "<Figure size 720x360 with 1 Axes>"
      ]
     },
     "metadata": {
      "needs_background": "light"
     },
     "output_type": "display_data"
    }
   ],
   "source": [
    "plt.style.use('seaborn-bright')\n",
    "plt.figure(figsize=(10,5))\n",
    "#print(lc.shape, ph.shape)\n",
    "kernel = np.ones(30)/30\n",
    "plt.plot(np.array(df['phase']),np.convolve(np.array(df['flux']), kernel,mode='same'),color='gray')\n",
    "plt.plot(np.array(ph)/np.pi,np.array(lc)-1, color='blue', label='3d')\n",
    "#plt.plot(np.array(ph)/np.pi,np.array(lc2)-1, color='blue', label='2d')\n",
    "plt.plot(np.array(ph)/np.pi+0.5,np.array(lc3)-1, color='blue', label='3d')\n",
    "plt.title('Global View')\n",
    "plt.xlabel('Phase')\n",
    "plt.ylabel('Flux')\n",
    "#plt.xlim(-0.1,+0.1)\n",
    "#plt.ylim(-0.2,.2)\n",
    "#plt.savefig('not_a_fit.png')"
   ]
  }
 ],
 "metadata": {
  "interpreter": {
   "hash": "ac59ebe37160ed0dfa835113d9b8498d9f09ceb179beaac4002f036b9467c963"
  },
  "kernelspec": {
   "display_name": "Python 3.9.7 64-bit",
   "language": "python",
   "name": "python3"
  },
  "language_info": {
   "codemirror_mode": {
    "name": "ipython",
    "version": 3
   },
   "file_extension": ".py",
   "mimetype": "text/x-python",
   "name": "python",
   "nbconvert_exporter": "python",
   "pygments_lexer": "ipython3",
   "version": "3.9.7"
  },
  "orig_nbformat": 4
 },
 "nbformat": 4,
 "nbformat_minor": 2
}
