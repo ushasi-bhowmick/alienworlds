{
    "cells": [
        {
            "cell_type": "code",
            "execution_count": 1,
            "source": [
                "import numpy as np\r\n",
                "import tensorflow as tf\r\n",
                "from tensorflow import keras\r\n",
                "from tensorflow.keras import layers"
            ],
            "outputs": [],
            "metadata": {}
        },
        {
            "cell_type": "code",
            "execution_count": 2,
            "source": [
                "img_size=2000\r\n",
                "np.random.seed(1234567)\r\n",
                "#loading data and fitting follows:\r\n",
                "Xtrain=np.loadtxt('training_data/Xtrain_big.csv',delimiter=',')\r\n",
                "Ytrain=np.loadtxt('training_data/YtrainR_big.csv',delimiter=',')\r\n",
                "#Xtrain=Xtrain[:2000]\r\n",
                "#Xtrain=np.transpose(Xtrain)\r\n",
                "print(Xtrain.shape)"
            ],
            "outputs": [
                {
                    "output_type": "stream",
                    "name": "stdout",
                    "text": [
                        "(4500, 2000)\n"
                    ]
                }
            ],
            "metadata": {}
        },
        {
            "cell_type": "code",
            "execution_count": 15,
            "source": [
                "#defining a sampling function: returns a random sample from a mean and variance\r\n",
                "#that is input to it\r\n",
                "def sampling(mu_log_variance):\r\n",
                "    mu, log_variance = mu_log_variance\r\n",
                "    epsilon = keras.backend.random_normal(shape=keras.backend.shape(mu), mean=0.0, stddev=1.0)\r\n",
                "    random_sample = mu + keras.backend.exp(log_variance/2) * epsilon\r\n",
                "    return random_sample"
            ],
            "outputs": [],
            "metadata": {}
        },
        {
            "cell_type": "code",
            "execution_count": 16,
            "source": [
                "#model defined here\r\n",
                "inp = keras.layers.Input(shape=(img_size, 1), name=\"encoder_input\")\r\n",
                "#leaky reLU has been added as a separate layer than define as an activation\r\n",
                "x1 = keras.layers.Conv1D(filters=1, kernel_size=5, padding=\"same\", strides=1,name=\"encoder_conv_1\")(inp)\r\n",
                "x1 = keras.layers.BatchNormalization(name=\"encoder_norm_1\")(x1)\r\n",
                "x1 = keras.layers.LeakyReLU(name=\"encoder_leakyrelu_1\")(x1)\r\n",
                "\r\n",
                "x1 = keras.layers.Conv1D(filters=16, kernel_size=5, padding=\"same\", strides=1, name=\"encoder_conv_2\")(x1)\r\n",
                "x1 = keras.layers.BatchNormalization(name=\"encoder_norm_2\")(x1)\r\n",
                "x1 = keras.layers.LeakyReLU(name=\"encoder_leakyrelu_2\")(x1)\r\n",
                "\r\n",
                "x1 = keras.layers.Conv1D(filters=32, kernel_size=5, padding=\"same\", strides=1, name=\"encoder_conv_3\")(x1)\r\n",
                "x1 = keras.layers.BatchNormalization(name=\"encoder_norm_3\")(x1)\r\n",
                "bp_lay_1 = keras.layers.LeakyReLU(name=\"encoder_leakyrelu_3\")(x1)\r\n",
                "#flatten the layers in encoder\r\n",
                "shape_before_flatten = keras.backend.int_shape(bp_lay_1)[1:]\r\n",
                "x2 = keras.layers.Flatten(name=\"flat_1\")(bp_lay_1)\r\n",
                "\r\n",
                "latent_space_dim = 8\r\n",
                "#declare a mean and variance for the distribution\r\n",
                "encoder_mu = keras.layers.Dense(units=latent_space_dim, name=\"encoder_mu\")(x2)\r\n",
                "encoder_log_variance = keras.layers.Dense(units=latent_space_dim, name=\"encoder_log_variance\")(x2)\r\n",
                "encoder_op = keras.layers.Lambda(sampling, name=\"encoder_output\")([encoder_mu, encoder_log_variance])\r\n",
                "\r\n",
                "encoder = keras.models.Model(inp, encoder_op, name=\"encoder_model\")\r\n",
                "encoder.summary()\r\n"
            ],
            "outputs": [
                {
                    "output_type": "stream",
                    "name": "stdout",
                    "text": [
                        "Model: \"encoder_model\"\n",
                        "__________________________________________________________________________________________________\n",
                        "Layer (type)                    Output Shape         Param #     Connected to                     \n",
                        "==================================================================================================\n",
                        "encoder_input (InputLayer)      [(None, 2000, 1)]    0                                            \n",
                        "__________________________________________________________________________________________________\n",
                        "encoder_conv_1 (Conv1D)         (None, 2000, 1)      6           encoder_input[0][0]              \n",
                        "__________________________________________________________________________________________________\n",
                        "encoder_norm_1 (BatchNormalizat (None, 2000, 1)      4           encoder_conv_1[0][0]             \n",
                        "__________________________________________________________________________________________________\n",
                        "encoder_leakyrelu_1 (LeakyReLU) (None, 2000, 1)      0           encoder_norm_1[0][0]             \n",
                        "__________________________________________________________________________________________________\n",
                        "encoder_conv_2 (Conv1D)         (None, 2000, 16)     96          encoder_leakyrelu_1[0][0]        \n",
                        "__________________________________________________________________________________________________\n",
                        "encoder_norm_2 (BatchNormalizat (None, 2000, 16)     64          encoder_conv_2[0][0]             \n",
                        "__________________________________________________________________________________________________\n",
                        "encoder_leakyrelu_2 (LeakyReLU) (None, 2000, 16)     0           encoder_norm_2[0][0]             \n",
                        "__________________________________________________________________________________________________\n",
                        "encoder_conv_3 (Conv1D)         (None, 2000, 32)     2592        encoder_leakyrelu_2[0][0]        \n",
                        "__________________________________________________________________________________________________\n",
                        "encoder_norm_3 (BatchNormalizat (None, 2000, 32)     128         encoder_conv_3[0][0]             \n",
                        "__________________________________________________________________________________________________\n",
                        "encoder_leakyrelu_3 (LeakyReLU) (None, 2000, 32)     0           encoder_norm_3[0][0]             \n",
                        "__________________________________________________________________________________________________\n",
                        "flat_1 (Flatten)                (None, 64000)        0           encoder_leakyrelu_3[0][0]        \n",
                        "__________________________________________________________________________________________________\n",
                        "encoder_mu (Dense)              (None, 8)            512008      flat_1[0][0]                     \n",
                        "__________________________________________________________________________________________________\n",
                        "encoder_log_variance (Dense)    (None, 8)            512008      flat_1[0][0]                     \n",
                        "__________________________________________________________________________________________________\n",
                        "encoder_output (Lambda)         (None, 8)            0           encoder_mu[0][0]                 \n",
                        "                                                                 encoder_log_variance[0][0]       \n",
                        "==================================================================================================\n",
                        "Total params: 1,026,906\n",
                        "Trainable params: 1,026,808\n",
                        "Non-trainable params: 98\n",
                        "__________________________________________________________________________________________________\n"
                    ]
                }
            ],
            "metadata": {}
        },
        {
            "cell_type": "code",
            "execution_count": 17,
            "source": [
                "#decoder_input = keras.layers.Input(shape=(shape_before_flatten), name=\"decoder_input\")\r\n",
                "decoder_input = keras.layers.Input(shape=(latent_space_dim), name=\"decoder_input\")\r\n",
                "x3 = keras.layers.Dense(units=np.prod(shape_before_flatten), name=\"decoder_dense_1\")(decoder_input)\r\n",
                "x3 = keras.layers.Reshape(target_shape=shape_before_flatten)(x3)\r\n",
                "\r\n",
                "x3 = keras.layers.Conv1DTranspose(filters=32, kernel_size=5, padding=\"same\", strides=1, name=\"decoder_conv_tran_1\")(x3)\r\n",
                "x3 = keras.layers.BatchNormalization(name=\"decoder_norm_1\")(x3)\r\n",
                "x3 = keras.layers.LeakyReLU(name=\"decoder_leakyrelu_1\")(x3)\r\n",
                "\r\n",
                "x3 = keras.layers.Conv1DTranspose(filters=16, kernel_size=5, padding=\"same\", strides=1, name=\"decoder_conv_tran_2\")(x3)\r\n",
                "x3 = keras.layers.BatchNormalization(name=\"decoder_norm_2\")(x3)\r\n",
                "x3 = keras.layers.LeakyReLU(name=\"decoder_leakyrelu_2\")(x3)\r\n",
                "\r\n",
                "decoder_output = keras.layers.Conv1DTranspose(filters=1, kernel_size=5, padding=\"same\", strides=1,activation='sigmoid', name=\"decoder_conv_tran_4\")(x3)\r\n",
                "#decoder_output = keras.layers.LeakyReLU(name=\"decoder_output\")(x3)\r\n",
                "\r\n",
                "decoder = keras.models.Model(decoder_input, decoder_output, name=\"decoder_model\")\r\n",
                "decoder.summary()\r\n"
            ],
            "outputs": [
                {
                    "output_type": "stream",
                    "name": "stdout",
                    "text": [
                        "Model: \"decoder_model\"\n",
                        "_________________________________________________________________\n",
                        "Layer (type)                 Output Shape              Param #   \n",
                        "=================================================================\n",
                        "decoder_input (InputLayer)   [(None, 8)]               0         \n",
                        "_________________________________________________________________\n",
                        "decoder_dense_1 (Dense)      (None, 64000)             576000    \n",
                        "_________________________________________________________________\n",
                        "reshape_1 (Reshape)          (None, 2000, 32)          0         \n",
                        "_________________________________________________________________\n",
                        "decoder_conv_tran_1 (Conv1DT (None, 2000, 32)          5152      \n",
                        "_________________________________________________________________\n",
                        "decoder_norm_1 (BatchNormali (None, 2000, 32)          128       \n",
                        "_________________________________________________________________\n",
                        "decoder_leakyrelu_1 (LeakyRe (None, 2000, 32)          0         \n",
                        "_________________________________________________________________\n",
                        "decoder_conv_tran_2 (Conv1DT (None, 2000, 16)          2576      \n",
                        "_________________________________________________________________\n",
                        "decoder_norm_2 (BatchNormali (None, 2000, 16)          64        \n",
                        "_________________________________________________________________\n",
                        "decoder_leakyrelu_2 (LeakyRe (None, 2000, 16)          0         \n",
                        "_________________________________________________________________\n",
                        "decoder_conv_tran_4 (Conv1DT (None, 2000, 1)           81        \n",
                        "=================================================================\n",
                        "Total params: 584,001\n",
                        "Trainable params: 583,905\n",
                        "Non-trainable params: 96\n",
                        "_________________________________________________________________\n"
                    ]
                }
            ],
            "metadata": {}
        },
        {
            "cell_type": "code",
            "execution_count": 18,
            "source": [
                "from keras import backend as K\r\n",
                "def loss_func(encoder_mu, encoder_log_variance):\r\n",
                "    def vae_reconstruction_loss(y_true, y_predict):\r\n",
                "        reconstruction_loss_factor = 1000\r\n",
                "        reconstruction_loss = keras.backend.mean(keras.backend.square(y_true-y_predict), axis=[1, 2])\r\n",
                "        return reconstruction_loss_factor * reconstruction_loss\r\n",
                "\r\n",
                "    def vae_kl_loss(encoder_mu, encoder_log_variance):\r\n",
                "        kl_loss = -0.5 * keras.backend.sum(1.0 + encoder_log_variance - keras.backend.square(encoder_mu) - keras.backend.exp(encoder_log_variance), axis=1)\r\n",
                "        return kl_loss\r\n",
                "\r\n",
                "    def vae_kl_loss_metric(y_true, y_predict):\r\n",
                "        kl_loss = -0.5 * keras.backend.sum(1.0 + encoder_log_variance - keras.backend.square(encoder_mu) - keras.backend.exp(encoder_log_variance), axis=1)\r\n",
                "        return kl_loss\r\n",
                "\r\n",
                "    def vae_loss(y_true, y_predict):\r\n",
                "        reconstruction_loss = vae_reconstruction_loss(y_true, y_predict)\r\n",
                "        kl_loss = vae_kl_loss(y_true, y_predict)\r\n",
                "\r\n",
                "        loss = reconstruction_loss + kl_loss\r\n",
                "        return loss\r\n",
                "\r\n",
                "    return vae_loss\r\n",
                "\r\n"
            ],
            "outputs": [],
            "metadata": {}
        },
        {
            "cell_type": "code",
            "execution_count": 19,
            "source": [
                "#model for the vae\r\n",
                "vae_input = keras.layers.Input(shape=(img_size,1), name=\"VAE_input\")\r\n",
                "vae_encoder_output = encoder(vae_input)\r\n",
                "vae_decoder_output = decoder(vae_encoder_output)\r\n",
                "vae = keras.models.Model(vae_input, vae_decoder_output, name=\"VAE\")\r\n",
                "\r\n",
                "vae.summary()\r\n",
                "#vae.compile(optimizer=keras.optimizers.Adam(), loss=tf.keras.losses.MeanSquaredError())\r\n",
                "vae.compile(optimizer=tf.keras.optimizers.Adam(lr=0.0005), loss=loss_func(encoder_mu, encoder_log_variance))\r\n",
                "\r\n"
            ],
            "outputs": [
                {
                    "output_type": "stream",
                    "name": "stdout",
                    "text": [
                        "Model: \"VAE\"\n",
                        "_________________________________________________________________\n",
                        "Layer (type)                 Output Shape              Param #   \n",
                        "=================================================================\n",
                        "VAE_input (InputLayer)       [(None, 2000, 1)]         0         \n",
                        "_________________________________________________________________\n",
                        "encoder_model (Functional)   (None, 8)                 1026906   \n",
                        "_________________________________________________________________\n",
                        "decoder_model (Functional)   (None, 2000, 1)           584001    \n",
                        "=================================================================\n",
                        "Total params: 1,610,907\n",
                        "Trainable params: 1,610,713\n",
                        "Non-trainable params: 194\n",
                        "_________________________________________________________________\n"
                    ]
                }
            ],
            "metadata": {}
        },
        {
            "cell_type": "code",
            "execution_count": 20,
            "source": [
                "#Xtrain_N=[]\r\n",
                "#[Xtrain_N.append(Xtrain[i]/np.abs(Xtrain[i][np.argmin(Xtrain[i])])) for i in range(0,3231)]\r\n",
                "#Xtrain=np.array(Xtrain_N).reshape(3231,12000,1)\r\n",
                "arr=np.arange(0,4500,1)\r\n",
                "np.random.shuffle(arr)\r\n",
                "Xtrain=np.array([Xtrain[i] for i in arr])\r\n",
                "Xtrain=np.array(Xtrain).reshape(4500,2000,1)\r\n",
                "Xtrain=Xtrain[0:4500]\r\n",
                "print(Xtrain.shape)\r\n"
            ],
            "outputs": [
                {
                    "output_type": "stream",
                    "name": "stdout",
                    "text": [
                        "(4500, 2000, 1)\n"
                    ]
                }
            ],
            "metadata": {}
        },
        {
            "cell_type": "code",
            "execution_count": 12,
            "source": [
                "es_callback = keras.callbacks.EarlyStopping(monitor='val_loss', patience=3)\r\n",
                "history=vae.fit(Xtrain, Xtrain, epochs=30, batch_size=64 ,verbose=1, validation_split=0.2)"
            ],
            "outputs": [
                {
                    "output_type": "stream",
                    "name": "stdout",
                    "text": [
                        "Epoch 1/10\n",
                        "57/57 [==============================] - 33s 581ms/step - loss: 0.6763 - val_loss: 0.3259\n",
                        "Epoch 2/10\n",
                        "57/57 [==============================] - 31s 542ms/step - loss: 0.6703 - val_loss: 0.3251\n",
                        "Epoch 3/10\n",
                        "57/57 [==============================] - 33s 582ms/step - loss: 0.6653 - val_loss: 0.3245\n",
                        "Epoch 4/10\n",
                        "57/57 [==============================] - 30s 519ms/step - loss: 0.6602 - val_loss: 0.3237\n",
                        "Epoch 5/10\n",
                        "57/57 [==============================] - 32s 566ms/step - loss: 0.6558 - val_loss: 0.3231\n",
                        "Epoch 6/10\n",
                        "57/57 [==============================] - 33s 583ms/step - loss: 0.6512 - val_loss: 0.3226\n",
                        "Epoch 7/10\n",
                        "57/57 [==============================] - 29s 506ms/step - loss: 0.6473 - val_loss: 0.3221\n",
                        "Epoch 8/10\n",
                        "57/57 [==============================] - 31s 541ms/step - loss: 0.6436 - val_loss: 0.3216\n",
                        "Epoch 9/10\n",
                        "57/57 [==============================] - 34s 601ms/step - loss: 0.6398 - val_loss: 0.3212\n",
                        "Epoch 10/10\n",
                        "57/57 [==============================] - 32s 568ms/step - loss: 0.6365 - val_loss: 0.3207\n"
                    ]
                }
            ],
            "metadata": {}
        },
        {
            "cell_type": "code",
            "execution_count": 13,
            "source": [
                "vae.save_weights('autoencoder_simpler_moreD.h5')"
            ],
            "outputs": [],
            "metadata": {}
        },
        {
            "cell_type": "code",
            "execution_count": 14,
            "source": [
                "encoder.save_weights('encoding_simpler_moreD.h5')\r\n",
                "decoder.save_weights('decoding_simpler_moreD.h5')"
            ],
            "outputs": [],
            "metadata": {}
        },
        {
            "cell_type": "code",
            "execution_count": null,
            "source": [],
            "outputs": [],
            "metadata": {}
        },
        {
            "cell_type": "code",
            "execution_count": null,
            "source": [],
            "outputs": [],
            "metadata": {}
        }
    ],
    "metadata": {
        "orig_nbformat": 4,
        "language_info": {
            "name": "python",
            "version": "3.9.5",
            "mimetype": "text/x-python",
            "codemirror_mode": {
                "name": "ipython",
                "version": 3
            },
            "pygments_lexer": "ipython3",
            "nbconvert_exporter": "python",
            "file_extension": ".py"
        },
        "kernelspec": {
            "name": "python3",
            "display_name": "Python 3.9.5 64-bit"
        },
        "interpreter": {
            "hash": "ac59ebe37160ed0dfa835113d9b8498d9f09ceb179beaac4002f036b9467c963"
        }
    },
    "nbformat": 4,
    "nbformat_minor": 2
}