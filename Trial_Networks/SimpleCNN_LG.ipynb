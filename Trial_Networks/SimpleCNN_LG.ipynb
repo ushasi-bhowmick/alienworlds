{
    "cells": [
        {
            "cell_type": "code",
            "execution_count": null,
            "metadata": {},
            "outputs": [],
            "source": [
                "#attempt to improve the NN\n",
                "#add the local and the global view construct coz transit false positive mismatch seems to be a major problem\n",
                "import numpy as np\n",
                "import matplotlib.pyplot as plt\n",
                "import tensorflow as tf\n",
                "from tensorflow import keras\n",
                "import pandas as pd\n",
                "from sklearn.metrics import classification_report, confusion_matrix"
            ]
        },
        {
            "cell_type": "code",
            "execution_count": null,
            "metadata": {},
            "outputs": [],
            "source": [
                "#network and training parameters:\n",
                "BATCH_SIZE = 128\n",
                "VERBOSE = 1 #no idea what this is but lets see...\n",
                "VAL_SPLIT = 0.2  #how much of sample is reserved for validation"
            ]
        },
        {
            "cell_type": "code",
            "execution_count": null,
            "metadata": {},
            "outputs": [],
            "source": [
                "Xtraing=np.loadtxt('training_data/Xtrain2g.csv',delimiter=',')\n",
                "Xtrainl=np.loadtxt('training_data/Xtrain2l.csv',delimiter=',')\n",
                "Ytrain=np.loadtxt('training_data/Ytrain2.csv',delimiter=',')\n",
                "Xtestg=np.loadtxt('training_data/Xtest2g.csv',delimiter=',')\n",
                "Xtestl=np.loadtxt('training_data/Xtest2l.csv',delimiter=',')\n",
                "Ytest=np.loadtxt('training_data/Ytest2.csv',delimiter=',')\n",
                "print(Xtraing.shape,Xtrainl.shape,Ytrain.shape,Xtestg.shape,Xtestl.shape,Ytest.shape)"
            ]
        },
        {
            "cell_type": "code",
            "execution_count": null,
            "metadata": {},
            "outputs": [],
            "source": [
                "DROPOUT=0.4\n",
                "IP=4200\n",
                "TEST=300\n",
                "np.random.seed(11223)\n",
                "\n",
                "arr=np.arange(0,IP,1)\n",
                "np.random.shuffle(arr)\n",
                "Xtraing=[Xtraing[i] for i in arr]\n",
                "Xtrainl=[Xtrainl[i] for i in arr]\n",
                "Ytrain=[Ytrain[i] for i in arr]\n",
                "\n",
                "arr=np.arange(0,TEST,1)\n",
                "np.random.shuffle(arr)\n",
                "Xtestg=[Xtestg[i] for i in arr]\n",
                "Xtestl=[Xtestl[i] for i in arr]\n",
                "Ytest=[Ytest[i] for i in arr]"
            ]
        },
        {
            "cell_type": "code",
            "execution_count": null,
            "metadata": {},
            "outputs": [],
            "source": [
                "inputG = keras.layers.Input(shape=(2000,),name='Input_G')\n",
                "inputL = keras.layers.Input(shape=(200,),name='Input_L')\n",
                "\n",
                "x1=keras.layers.Reshape((200,1), input_shape=(200,),name='shape_l')(inputL)\n",
                "x1=keras.layers.Conv1D(16,kernel_size=5,strides=5,activation='relu',name='conv_l')(x1)\n",
                "x1=keras.layers.MaxPool1D(5,data_format='channels_last',name='maxpool_l')(x1)\n",
                "x1=keras.layers.Flatten(name='flat_l')(x1)\n",
                "x1 = keras.Model(inputs=inputL, outputs=x1)\n",
                "\n",
                "x2=keras.layers.Reshape((2000,1), input_shape=(2000,),name='shape_g')(inputG)\n",
                "x2=keras.layers.Conv1D(32,kernel_size=10,strides=10,activation='relu',name='conv_g_1')(x2)\n",
                "x2=keras.layers.MaxPool1D(5,data_format='channels_last',name='maxpool_g_1')(x2)\n",
                "x2=keras.layers.Conv1D(64,kernel_size=10,strides=10,activation='relu',name='conv_g_2')(x2)\n",
                "x2=keras.layers.MaxPool1D(2,data_format='channels_last',name='maxpool_g_2')(x2)\n",
                "x2=keras.layers.Flatten(name='flat_g')(x2)\n",
                "x2 = keras.Model(inputs=inputG, outputs=x2)\n",
                "\n",
                "combined = keras.layers.concatenate([x1.output, x2.output],name='combine')\n",
                "xo = keras.layers.Dense(128, activation=\"softmax\",name='dense_layer_combined_1')(combined)\n",
                "xo = keras.layers.Dense(3, activation=\"softmax\",name='dense_layer_combined_2')(xo)\n",
                "model = keras.Model(inputs=[x1.input, x2.input], outputs=xo)\n",
                "\n",
                "model.summary()\n",
                "model.compile(optimizer='adam', loss='categorical_crossentropy',metrics=['accuracy'])"
            ]
        },
        {
            "cell_type": "code",
            "execution_count": null,
            "metadata": {},
            "outputs": [],
            "source": [
                "inputG = keras.layers.Input(shape=(2000,),name='Input_G')\n",
                "inputL = keras.layers.Input(shape=(200,),name='Input_L')\n",
                "\n",
                "x1 = keras.layers.Dense(64, activation=\"relu\",name='dense_layer_L_1')(inputL)\n",
                "x1 = keras.layers.Dropout(DROPOUT,name='Drop_layer_L_1')(x1)\n",
                "x1 = keras.layers.Dense(32, activation=\"relu\",name='dense_layer_L_2')(x1)\n",
                "x1 = keras.layers.Dropout(DROPOUT,name='Drop_layer_L_2')(x1)\n",
                "x1 = keras.Model(inputs=inputL, outputs=x1)\n",
                "\n",
                "x2 = keras.layers.Dense(1024, activation=\"relu\",name='dense_layer_G_1')(inputG)\n",
                "x2 = keras.layers.Dropout(DROPOUT,name='Drop_layer_G_1')(x2)\n",
                "x2 = keras.layers.Dense(256, activation=\"relu\",name='dense_layer_G_2')(x2)\n",
                "x2 = keras.layers.Dropout(DROPOUT,name='Drop_layer_G_2')(x2)\n",
                "x2 = keras.layers.Dense(64, activation=\"relu\",name='dense_layer_G_3')(x2)\n",
                "x2 = keras.layers.Dropout(DROPOUT,name='Drop_layer_G_3')(x2)\n",
                "x2 = keras.Model(inputs=inputG, outputs=x2)\n",
                "\n",
                "combined = keras.layers.concatenate([x1.output, x2.output])\n",
                "xo = keras.layers.Dense(3, activation=\"softmax\",name='dense_layer_combined')(combined)\n",
                "model2 = keras.Model(inputs=[x1.input, x2.input], outputs=xo)\n",
                "\n",
                "model2.summary()\n",
                "model2.compile(optimizer='adam', loss='categorical_crossentropy',metrics=['accuracy'])"
            ]
        },
        {
            "cell_type": "code",
            "execution_count": null,
            "metadata": {},
            "outputs": [],
            "source": [
                "es_callback = keras.callbacks.EarlyStopping( monitor='val_loss', patience=3)\n",
                "history=model2.fit([np.array(Xtrainl),np.array(Xtraing)],np.array(Ytrain), batch_size=256, epochs=100, verbose=VERBOSE, validation_split=VAL_SPLIT, callbacks=[es_callback])"
            ]
        },
        {
            "cell_type": "code",
            "execution_count": null,
            "metadata": {},
            "outputs": [],
            "source": [
                "plt.plot(history.history['loss'])\n",
                "plt.plot(history.history['val_loss'])\n",
                "plt.title('model loss')\n",
                "plt.ylabel('loss')\n",
                "plt.xlabel('epoch')\n",
                "plt.legend(['train', 'test'], loc='upper left')\n",
                "plt.show()"
            ]
        },
        {
            "cell_type": "code",
            "execution_count": null,
            "metadata": {},
            "outputs": [],
            "source": [
                "plt.plot(history.history['accuracy'])\n",
                "plt.plot(history.history['val_accuracy'])\n",
                "plt.title('model accuracy')\n",
                "plt.ylabel('accuracy')\n",
                "plt.xlabel('epoch')\n",
                "plt.legend(['train', 'test'], loc='upper left')\n",
                "plt.show()"
            ]
        },
        {
            "cell_type": "code",
            "execution_count": null,
            "metadata": {},
            "outputs": [],
            "source": [
                "test_loss, test_acc = model2.evaluate([np.array(Xtestl),np.array(Xtestg)], np.array(Ytest))\n",
                "print('Test accuracy:', test_acc)\n",
                "Ypred_raw=model2.predict([np.array(Xtestl),np.array(Xtestg)])\n",
                "Ypred=np.argmax(Ypred_raw, axis=1)\n",
                "Ytest_new=np.argmax(Ytest,axis=1)\n",
                "cm = confusion_matrix(Ytest_new, Ypred)\n",
                "print(cm)"
            ]
        },
        {
            "cell_type": "code",
            "execution_count": null,
            "metadata": {},
            "outputs": [],
            "source": []
        }
    ],
    "metadata": {
        "interpreter": {
            "hash": "ac59ebe37160ed0dfa835113d9b8498d9f09ceb179beaac4002f036b9467c963"
        },
        "kernelspec": {
            "display_name": "Python 3.9.5 64-bit",
            "name": "python3"
        },
        "language_info": {
            "codemirror_mode": {
                "name": "ipython",
                "version": 3
            },
            "file_extension": ".py",
            "mimetype": "text/x-python",
            "name": "python",
            "nbconvert_exporter": "python",
            "pygments_lexer": "ipython3",
            "version": "3.9.5"
        },
        "orig_nbformat": 4
    },
    "nbformat": 4,
    "nbformat_minor": 2
}
