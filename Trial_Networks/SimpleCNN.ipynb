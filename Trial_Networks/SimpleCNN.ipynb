{
    "cells": [
        {
            "cell_type": "code",
            "execution_count": null,
            "metadata": {},
            "outputs": [],
            "source": [
                "#attempt to improve the NN\n",
                "#add the local and the global view construct coz transit false positive mismatch seems to be a major problem\n",
                "import numpy as np\n",
                "import matplotlib.pyplot as plt\n",
                "import tensorflow as tf\n",
                "from tensorflow import keras\n",
                "import pandas as pd\n",
                "from sklearn.metrics import classification_report, confusion_matrix"
            ]
        },
        {
            "cell_type": "code",
            "execution_count": null,
            "metadata": {},
            "outputs": [],
            "source": [
                "#network and training parameters:\n",
                "BATCH_SIZE = 128\n",
                "VERBOSE = 1 #no idea what this is but lets see...\n",
                "VAL_SPLIT = 0.2  #how much of sample is reserved for validation"
            ]
        },
        {
            "cell_type": "code",
            "execution_count": null,
            "metadata": {},
            "outputs": [],
            "source": [
                "Xtrain=np.loadtxt('Xtrain.csv',delimiter=',')\n",
                "Ytrain=np.loadtxt('Ytrain.csv',delimiter=',')\n",
                "Xtest=np.loadtxt('Xtest.csv',delimiter=',')\n",
                "Ytest=np.loadtxt('Ytest.csv',delimiter=',')\n",
                "print(Xtrain.shape,Ytrain.shape,Xtest.shape,Ytest.shape)"
            ]
        },
        {
            "cell_type": "code",
            "execution_count": null,
            "metadata": {},
            "outputs": [],
            "source": [
                "#got the training set ... now write the neural net\n",
                "#buid the model\n",
                "#SGD stochastic gradient descent... \n",
                "model = tf.keras.models.Sequential()\n",
                "DROPOUT=0.3\n",
                "IP=5700\n",
                "TEST=600\n",
                "np.random.seed(11223)\n",
                "\n",
                "arr=np.arange(0,IP,1)\n",
                "np.random.shuffle(arr)\n",
                "Xtrain=[Xtrain[i] for i in arr]\n",
                "Ytrain=[Ytrain[i] for i in arr]\n",
                "\n",
                "arr=np.arange(0,TEST,1)\n",
                "np.random.shuffle(arr)\n",
                "Xtest=[Xtest[i] for i in arr]\n",
                "Ytest=[Ytest[i] for i in arr]\n",
                "\n",
                "#Xtrain_new=np.array(Xtrain).reshape(5700,500,4)\n",
                "#print(Xtrain_new.shape)\n",
                "\n",
                "#add hidden layers\n",
                "model.add(keras.layers.Reshape((2000, 1), input_shape=(2000,)))\n",
                "model.add(keras.layers.Conv1D(16,kernel_size=5,strides=2,activation='relu'))\n",
                "model.add(keras.layers.Conv1D(16,kernel_size=5,strides=2,activation='relu'))\n",
                "model.add(keras.layers.MaxPool1D(3,strides=3,data_format='channels_last'))\n",
                "model.add(keras.layers.Conv1D(32,kernel_size=5,strides=2,activation='relu'))\n",
                "model.add(keras.layers.Conv1D(32,kernel_size=5,strides=1,activation='relu'))\n",
                "model.add(keras.layers.MaxPool1D(3,strides=3,data_format='channels_last'))\n",
                "model.add(keras.layers.Conv1D(64,kernel_size=5,strides=1,activation='relu'))\n",
                "model.add(keras.layers.MaxPool1D(3,strides=3,data_format='channels_last'))\n",
                "model.add(keras.layers.Flatten())\n",
                "model.add(keras.layers.Dense(16,name='dense_layer_3',activation='relu'))\n",
                "model.add(keras.layers.Dense(3,name='dense_layer_4',activation='softmax'))\n",
                "model.summary()\n",
                "model.compile(optimizer='adam', loss='categorical_crossentropy',metrics=['accuracy'])"
            ]
        },
        {
            "cell_type": "code",
            "execution_count": null,
            "metadata": {},
            "outputs": [],
            "source": [
                "es_callback = keras.callbacks.EarlyStopping(monitor='val_loss', patience=3)\n",
                "history=model.fit(np.array(Xtrain),np.array(Ytrain), batch_size=64, epochs=100, verbose=VERBOSE, validation_split=VAL_SPLIT, callbacks=[es_callback])"
            ]
        },
        {
            "cell_type": "code",
            "execution_count": null,
            "metadata": {},
            "outputs": [],
            "source": [
                "plt.plot(history.history['loss'])\n",
                "plt.plot(history.history['val_loss'])\n",
                "plt.title('model loss')\n",
                "plt.ylabel('loss')\n",
                "plt.xlabel('epoch')\n",
                "plt.legend(['train', 'test'], loc='upper left')\n",
                "plt.show()"
            ]
        },
        {
            "cell_type": "code",
            "execution_count": null,
            "metadata": {},
            "outputs": [],
            "source": [
                "plt.plot(history.history['accuracy'])\n",
                "plt.plot(history.history['val_accuracy'])\n",
                "plt.title('model accuracy')\n",
                "plt.ylabel('accuracy')\n",
                "plt.xlabel('epoch')\n",
                "plt.legend(['train', 'test'], loc='upper left')\n",
                "plt.show()"
            ]
        },
        {
            "cell_type": "code",
            "execution_count": null,
            "metadata": {},
            "outputs": [],
            "source": [
                "test_loss, test_acc = model.evaluate(np.array(Xtest), np.array(Ytest))\n",
                "print('Test accuracy:', test_acc)\n",
                "Ypred_raw=model.predict(np.array(Xtrain))\n",
                "Ypred=np.argmax(Ypred_raw, axis=1)\n",
                "Ytest_new=np.argmax(Ytrain,axis=1)\n",
                "cm = confusion_matrix(Ytest_new, Ypred)\n",
                "print(cm)"
            ]
        }
    ],
    "metadata": {
        "interpreter": {
            "hash": "ac59ebe37160ed0dfa835113d9b8498d9f09ceb179beaac4002f036b9467c963"
        },
        "kernelspec": {
            "display_name": "Python 3.9.5 64-bit",
            "name": "python3"
        },
        "language_info": {
            "codemirror_mode": {
                "name": "ipython",
                "version": 3
            },
            "file_extension": ".py",
            "mimetype": "text/x-python",
            "name": "python",
            "nbconvert_exporter": "python",
            "pygments_lexer": "ipython3",
            "version": "3.9.5"
        },
        "orig_nbformat": 4
    },
    "nbformat": 4,
    "nbformat_minor": 2
}
